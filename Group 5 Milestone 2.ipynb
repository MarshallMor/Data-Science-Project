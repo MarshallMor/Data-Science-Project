{
 "cells": [
  {
   "cell_type": "markdown",
   "metadata": {},
   "source": [
    "# Milestone 2\n",
    "\n",
    "## Data Clean"
   ]
  },
  {
   "cell_type": "code",
   "execution_count": 18,
   "metadata": {},
   "outputs": [],
   "source": [
    "#Marshall\n",
    "import numpy as np\n",
    "import pandas as pd\n",
    "\n",
    "#Graphing\n",
    "import matplotlib.pyplot as plt\n",
    "import seaborn as sns\n",
    "\n",
    "#Machine learning \n",
    "from scipy.stats import linregress\n",
    "from sklearn.linear_model import LinearRegression\n",
    "import statsmodels.api as sm\n",
    "\n",
    "#Nistler abc\n",
    "import re\n",
    "from sklearn.model_selection import train_test_split, GridSearchCV\n",
    "from sklearn.neighbors import KNeighborsClassifier\n",
    "from sklearn import metrics\n",
    "#%pip install ipywidgets\n",
    "#%pip install geopy\n",
    "#%pip install tqdm>=4.9.0"
   ]
  },
  {
   "cell_type": "markdown",
   "metadata": {},
   "source": [
    "### Import apartments spreadsheet"
   ]
  },
  {
   "cell_type": "code",
   "execution_count": 19,
   "metadata": {},
   "outputs": [],
   "source": [
    "apartments = pd.read_excel('Apartments spread sheet PDS task.xlsx', sheet_name = 'Sheet1')\n",
    "apartments.dropna(subset='Address', inplace=True)\n",
    "#These alreadu have coordinates in dataset, just need to convert some to decimal representation"
   ]
  },
  {
   "cell_type": "code",
   "execution_count": 20,
   "metadata": {},
   "outputs": [
    {
     "name": "stdout",
     "output_type": "stream",
     "text": [
      "<class 'pandas.core.frame.DataFrame'>\n",
      "RangeIndex: 57 entries, 0 to 56\n",
      "Data columns (total 12 columns):\n",
      " #   Column             Non-Null Count  Dtype  \n",
      "---  ------             --------------  -----  \n",
      " 0   RESTAURANT NAME    57 non-null     object \n",
      " 1   DISTANCE FROM WSU  57 non-null     float64\n",
      " 2   ADDRESS            57 non-null     object \n",
      " 3   MONDAY             56 non-null     object \n",
      " 4   TUESDAY            56 non-null     object \n",
      " 5   WEDNESDAY          56 non-null     object \n",
      " 6   THURSDAY           56 non-null     object \n",
      " 7   FRIDAY             56 non-null     object \n",
      " 8   SATURDAY           56 non-null     object \n",
      " 9   SUNDAY             56 non-null     object \n",
      " 10  TYPE               57 non-null     object \n",
      " 11  Ratings            0 non-null      float64\n",
      "dtypes: float64(2), object(10)\n",
      "memory usage: 5.5+ KB\n"
     ]
    }
   ],
   "source": [
    "#Cleaning from Milestone 1\n",
    "restaurants = pd.read_excel('restaurants.xlsx', sheet_name = 'RESTAURANTS NEAR WSU')\n",
    "houses = pd.read_excel('Independent Houses.xlsx', sheet_name = 'independent houses near wsu')\n",
    "restaurants.info()\n",
    "restaurants.shape\n",
    "#remove = El papa pollo restaurant(closed perminantly), Albero café\t(temp_closed), Dragon express\t(temporialy closed), Clouds bar & lounge\t(perminaly closed), Pam's wings with things (perminaly closed), Himali Eats\t(perminaly closed),\n",
    "remove_restraunts =[\"El papa pollo restaurant\", \"Albero café\", \"Dragon express\", \"Clouds bar & lounge\", \"Pam's wings with things\", \"Himali Eats\"]\n",
    "restaurants = restaurants[~restaurants['RESTAURANT NAME'].isin(remove_restraunts)]\n",
    "#remove rating column and will add new column in next step\n",
    "restaurants = restaurants.drop(\"Ratings\", axis =1)\n",
    "#Add New columns to the data for the analysis\n",
    "restaurants['RATINGS_OUTOF5'] = [4.4,3.7,4.2,4.2, 4.3, 4.2, 4.6, 4.4, 4.7, 4.1, 3.8, 4.6, 4.3, 3.2, 4.7, 4.2, 4.5, 4.5, 5.0, 4.4, 4.6, 4.5, 4.3, 4.5, 4.3, 4.1, 4.7, 3.5, 3.6, 3.5, 3.4, 4.1, 4.5, 4.7, 3.9, 4.2, 3.0, 4.0, 3.8, 4.3, 4.6, 4.6, 4.4, 4.5, 4.2, 4.4, 4.5, 4.0, 4.6, 3.7, 4.3]\n",
    "restaurants['NUM_REVIEWS'] = [260,1291, 18, 704, 291, 285, 1293, 1172, 1575, 661, 1909, 1895, 702, 1700, 580, 504, 843, 394, 97, 9, 67, 14, 17, 187, 893, 30, 88, 309, 16, 1057, 428, 172, 1087, 95, 208, 1398, 737, 225, 689, 1274, 544, 888, 228, 916, 1293, 2383, 1881, 1342, 731, 726, 247]\n",
    "restaurants['MIN_COST'] = [10, 1,  np.nan, 10 ,10, 1, 10, 10, 50, 1, 10, 10, 10, 1, 10, 10, 20, 10, 10, 10, 10, np.nan, 1, 10, 10, np.nan, 10, 10, np.nan, 10, 1, 10, 10, 10, 10, 1, 1, 10, np.nan, 10, 10, np.nan, np.nan, 10, 10, 10, 20, 10, 10, 10, 10]\n",
    "restaurants['MAX_COST'] = [20, 10, np.nan, 20, 20, 10, 20, 20, 100, 10, 20, 20, 20, 10, 20, 20, 30, 20, 20, 20, 20, np.nan, 10, 20, 20, np.nan, 20, 20, np.nan, 20, 10, 20, 20, 20, 20, 10, 10, 20, np.nan, 20, 20, np.nan, np.nan, 20, 20, 20, 30, 20, 20, 20, 20]\n",
    "restaurants['ON_CAMPUS'] = [True, False, True, True, False, True, False, False, False, False, False, False, False, False, False, False, False, False, False, True, False, False, True, False, False, False, False, False, False, False, False, False, False, False, False, False, False, False, False, False, False, False, False, False, False, False, False, False, False, False, False]\n",
    "# Add new data\n",
    "#\"RESTAURANT NAME\" : , \"DISTANCE FROM WSU\":  ,\t\"ADDRESS\" : ,\t\"MONDAY\" : ,\t\"TUESDAY\": ,\t\"WEDNESDAY\" : ,\t\"THURSDAY\" : ,\t\"FRIDAY\" : ,\t\"SATURDAY\" : ,\t\"SUNDAY\" : ,\t\"TYPE\" :  ,\t\"RATINGS_OUTOF5\" : ,\t\"NUM_REVIEWS\" : ,\t\"MIN_COST\" : ,\t\"MAX_COST\" : ,\t\"ON_CAMPUS\" :\n",
    "new_data = [ {\"RESTAURANT NAME\" : \"Jersey Mike's Subs\", \"DISTANCE FROM WSU\":  0.03,\t\"ADDRESS\" : \"4521 E 21st St N Suite 101, Wichita, KS 67208\",\t\"MONDAY\" : \"10AM-9PM\",\t\"TUESDAY\": \"10AM-9PM\",\t\"WEDNESDAY\" : \"10AM-9PM\",\t\"THURSDAY\" : \"10AM-9PM\",\t\"FRIDAY\" : \"10AM-9PM\",\t\"SATURDAY\" : \"10AM-9PM\",\t\"SUNDAY\" : \"10AM-9PM\",\t\"TYPE\" : \"Sandwich Shop\" ,\t\"RATINGS_OUTOF5\" : 4.2,\t\"NUM_REVIEWS\" : 30,\t\"MIN_COST\" : 10,\t\"MAX_COST\" : 20,\t\"ON_CAMPUS\" : True },\n",
    "            {\"RESTAURANT NAME\" : \"Two Hands Corn Dogs\", \"DISTANCE FROM WSU\":  .03,\t\"ADDRESS\" : \"4510 E 19th St N Suite 106, Wichita, KS 67208\",\t\"MONDAY\" : \"11AM-9PM\",\t\"TUESDAY\": \"11AM-9PM\",\t\"WEDNESDAY\" : \"11AM-9PM\",\t\"THURSDAY\" : \"11AM-9PM\",\t\"FRIDAY\" : \"11AM-9PM\",\t\"SATURDAY\" : \"11AM-9PM\",\t\"SUNDAY\" : \"11AM-9PM\",\t\"TYPE\" :  \"Corndog Shop\",\t\"RATINGS_OUTOF5\" : 4.6,\t\"NUM_REVIEWS\" : 65,\t\"MIN_COST\" : 10,\t\"MAX_COST\" : 20,\t\"ON_CAMPUS\" : True}\n",
    "             ]\n",
    "restaurants = restaurants._append(new_data, ignore_index =True)\n",
    "# Get the spans of time\n",
    "restaurants_array = restaurants[['MONDAY', 'TUESDAY',\t'WEDNESDAY',\t'THURSDAY',\t'FRIDAY',\t'SATURDAY',\t'SUNDAY']].T.values\n",
    "restaurants_array = restaurants_array.flatten()\n",
    "list_of_unique = pd.unique(restaurants_array)\n",
    "list_of_unique = [str(s).replace('\\u202f', '') if isinstance(s, str) else s for s in list_of_unique]\n",
    "spans = {'11AM-11PM': 12.0, '6AM-11PM': 17.0, '11AM-10PM': 11.0, '10:30AM-10:30PM': 12.0, '6:30AM-10PM': 15.50, '4PM-10PM': 6.0, '10:30AM-10PM': 11.5, '4AM-11PM': 19.0, '8AM-2AM': 18.0, '10:30AM-9PM': 10.5, '11AM-8PM': 9.0,\n",
    "         '11AM-3PM': 4.0, '10AM-7PM': 9.0, '11AM–2:30PM': 3.50, '11AM-9PM': 10.0, '7AM-9PM': 14.0, '7AM-12PM': 5.0, '10AM-10PM': 12.0, '9AM-10PM': 13.0, '3PM-9PM': 6.0, '10:45AM-10:30PM': 11.75, '5PM-10PM': 5.0, '10AM-9PM': 11.0,\n",
    "         '11AM–2:30PM, 5–9PM': 4.0, '5AM-11PM': 18.0, '4PM-8PM': 4.0, '3PM-10PM': 7.0, '11AM–3PM, 4–8PM': 4.0, '6AM-10PM': 16.0, '9AM-7PM': 10.0, '10:30AM-9:30PM': 11, '10:30AM-11PM': 12.5, '12AM-11:59PM': 11.99, '11AM-12AM': 13.0,\n",
    "         '11AM–2:30PM, 5–10PM': 5.0, '10AM-5PM': 7.0, '11AM-10:30PM': 11.50, '11AM-1PM': 2.0, '3PM-11PM': 8.0, '5PM-11PM': 6.0, '7AM-11PM': 16.0, '9AM-2PM,5-9PM': 5.0, '4PM-11PM': 7.0, '10AM-11PM': 13.0, '9AM-9PM': 12.0,\n",
    "         '9AM-2PM': 5.0, '7AM-10PM': 15.0, '10AM-3PM': 5.0, '12PM-5PM': 5.0, '9AM-8PM': 11.0, '12PM-10PM': 10.0, np.nan: 0.0, '0': 0.0, 'Null' : 0.0}\n",
    "\n",
    "#['MONDAY', 'TUESDAY',\t'WEDNESDAY',\t'THURSDAY',\t'FRIDAY',\t'SATURDAY',\t'SUNDAY']\n",
    "restaurants['Hours_Monday'] = restaurants['MONDAY'].map(spans)\n",
    "restaurants['Hours_Tuesday'] = restaurants['TUESDAY'].map(spans)\n",
    "restaurants['Hours_Wednesday'] = restaurants['WEDNESDAY'].map(spans)\n",
    "restaurants['Hours_Thursday'] = restaurants['THURSDAY'].map(spans)\n",
    "restaurants['Hours_Friday'] = restaurants['FRIDAY'].map(spans)\n",
    "restaurants['Hours_Saturday'] = restaurants['SATURDAY'].map(spans)\n",
    "restaurants['Hours_Sunday'] = restaurants['SUNDAY'].map(spans)\n",
    "specific_columns = ['Hours_Monday', 'Hours_Tuesday', 'Hours_Wednesday', 'Hours_Thursday', 'Hours_Friday', 'Hours_Saturday', 'Hours_Sunday']\n",
    "restaurants['TotalHours'] = restaurants[specific_columns].sum(axis=1)\n"
   ]
  },
  {
   "cell_type": "markdown",
   "metadata": {},
   "source": [
    "## Geocoding, add lat and long"
   ]
  },
  {
   "cell_type": "code",
   "execution_count": 21,
   "metadata": {},
   "outputs": [
    {
     "name": "stdout",
     "output_type": "stream",
     "text": [
      "1711, North Vassar, Fairmount, Wichita, Sedgwick County, Kansas, 67208, United States\n",
      "(37.714492816326526, -97.295438)\n"
     ]
    }
   ],
   "source": [
    "#Nistler\n",
    "#Setup for geopy to geocode the address columns\n",
    "from geopy.geocoders import Nominatim\n",
    "from geopy.extra.rate_limiter import RateLimiter\n",
    "\n",
    "#Clean out all suite numbers\n",
    "\n",
    "geolocator = Nominatim(user_agent=\"httpabc\")\n",
    "#location = geolocator.geocode(\"175 5th Avenue NYC\")\n",
    "#location = geolocator.geocode(restaurants['ADDRESS'].iloc[0])\n",
    "location = geolocator.geocode('1711 North Vassar Wichita, KS 67202')\n",
    "\n",
    "print(location.address)\n",
    "print((location.latitude, location.longitude))"
   ]
  },
  {
   "cell_type": "markdown",
   "metadata": {},
   "source": [
    "### Clean addresses before geocoding"
   ]
  },
  {
   "cell_type": "code",
   "execution_count": 22,
   "metadata": {},
   "outputs": [
    {
     "data": {
      "text/plain": [
       "0             4510 E 19th St N, Wichita, KS 67208\n",
       "1             2939 E 21st St N, Wichita, KS 67214\n",
       "2             4510 E 19th St N, Wichita, KS 67208\n",
       "3             4521 E 21st St N, Wichita, KS 67208\n",
       "4         2424 N Woodlawn Blvd, Wichita, KS 67220\n",
       "5            1845 Fairmount St, Wichita, KS 67260\n",
       "6           2721 E Central Ave, Wichita, KS 67214\n",
       "7               2929 N Rock Rd, Wichita, KS 67226\n",
       "8           4618 E Central Ave, Wichita, KS 67208\n",
       "9             6120 E 21st St N, Wichita, KS 67208\n",
       "10          1350 N Hillside St, Wichita, KS 67214\n",
       "11          3700 E Douglas Ave, Wichita, KS 67208\n",
       "12            6100 E 21st St N, Wichita, KS 67208\n",
       "13          1811 N Hillside St, Wichita, KS 67214\n",
       "14            2419 E 13th St N, Wichita, KS 67214\n",
       "15           410 N Hillside St, Wichita, KS 67214\n",
       "16          4714 E Douglas Ave, Wichita, KS 67208\n",
       "17          5400 E Central Ave, Wichita, KS 67208\n",
       "18            4510 E 19th St N, Wichita, KS 67208\n",
       "19           1845 Fairmount St, Wichita, KS 67260\n",
       "20          2545 N Hillside St, Wichita, KS 67219\n",
       "21            5706 E 19th St N, Wichita, KS 67208\n",
       "22           1845 Fairmount St, Wichita, KS 67260\n",
       "23            2624 E 21st St N, Wichita, KS 67214\n",
       "24            6249 E 21st St N, Wichita, KS 67208\n",
       "25            1901 E 21st St N, Wichita, KS 67214\n",
       "26            6257 E 21st St N, Wichita, KS 67208\n",
       "27            6249 E 21st St N, Wichita, KS 67208\n",
       "28            4802 E 21st St N, Wichita, KS 67208\n",
       "29            4780 E 13th St N, Wichita, KS 67208\n",
       "30              2230 N Rock Rd, Wichita, KS 67226\n",
       "31             2504 E 9th St N, Wichita, KS 67214\n",
       "32              1821 N Rock Rd, Wichita, KS 67206\n",
       "33              2929 N Rock Rd, Wichita, KS 67226\n",
       "34            6249 E 21st St N, Wichita, KS 67208\n",
       "35            6825 E 21st St N, Wichita, KS 67206\n",
       "36          2111 N Woodlawn St, Wichita, KS 67208\n",
       "37              3233 N Rock Rd, Wichita, KS 67226\n",
       "38            6131 E 21st St N, Wichita, KS 67208\n",
       "39          4800 E Douglas Ave, Wichita, KS 67208\n",
       "40          3555 E Douglas Ave, Wichita, KS 67218\n",
       "41          3252 E Douglas Ave, Wichita, KS 67214\n",
       "42    2141 N Bradley Fair Pkwy, Wichita, KS 67206\n",
       "43              2132 N Rock Rd, Wichita, KS 67206\n",
       "44              3015 N Rock Rd, Wichita, KS 67226\n",
       "45              2035 N Rock Rd, Wichita, KS 67206\n",
       "46              1844 N Rock Rd, Wichita, KS 67206\n",
       "47              1930 N Rock Rd, Wichita, KS 67206\n",
       "48          6434 E Central Ave, Wichita, KS 67206\n",
       "49           410 N Hillside St, Wichita, KS 67214\n",
       "50            7777 E 21st St N, Wichita, KS 67206\n",
       "51            4521 E 21st St N, Wichita, KS 67208\n",
       "52            4510 E 19th St N, Wichita, KS 67208\n",
       "Name: ADDRESS, dtype: object"
      ]
     },
     "execution_count": 22,
     "metadata": {},
     "output_type": "execute_result"
    }
   ],
   "source": [
    "import re\n",
    "restaurants_pd = restaurants.copy()\n",
    "\n",
    "#Remove odd numbers before address\n",
    "restaurants_pd['ADDRESS']=restaurants_pd['ADDRESS'].str.replace('106, 1861, ', '', regex=False)\n",
    "#Remove suite numbers\n",
    "regex_pat = re.compile(\"(#)(\\d\\d|\\d\\d\\d|\\d\\d\\d\\d)\", flags=re.IGNORECASE)\n",
    "restaurants_pd['ADDRESS']=restaurants_pd['ADDRESS'].replace(regex_pat, '', regex=True)\n",
    "regex_pat = re.compile(\"(\\d,|\\d\\d,|\\d\\d\\d,|\\d\\d\\d\\d,)\", flags=re.IGNORECASE)\n",
    "restaurants_pd['ADDRESS']=restaurants_pd['ADDRESS'].replace(regex_pat, ',', regex=True)\n",
    "regex_pat = re.compile(\"((S|s)uite|Ste)\", flags=re.IGNORECASE)\n",
    "restaurants_pd['ADDRESS']=restaurants_pd['ADDRESS'].replace(regex_pat, '', regex=True)\n",
    "\n",
    "#Remove building names and random space\n",
    "restaurants_pd['ADDRESS']=restaurants_pd['ADDRESS'].replace('Rhatigan Student Center, ', '', regex=True)\n",
    "restaurants_pd['ADDRESS']=restaurants_pd['ADDRESS'].replace('  ,', ',', regex=True)\n",
    "restaurants_pd['ADDRESS']=restaurants_pd['ADDRESS'].replace(' ,', ',', regex=True)\n",
    "\n",
    "restaurants_pd['ADDRESS']"
   ]
  },
  {
   "cell_type": "markdown",
   "metadata": {},
   "source": [
    "### Geocode"
   ]
  },
  {
   "cell_type": "code",
   "execution_count": 23,
   "metadata": {},
   "outputs": [
    {
     "data": {
      "text/html": [
       "<div>\n",
       "<style scoped>\n",
       "    .dataframe tbody tr th:only-of-type {\n",
       "        vertical-align: middle;\n",
       "    }\n",
       "\n",
       "    .dataframe tbody tr th {\n",
       "        vertical-align: top;\n",
       "    }\n",
       "\n",
       "    .dataframe thead th {\n",
       "        text-align: right;\n",
       "    }\n",
       "</style>\n",
       "<table border=\"1\" class=\"dataframe\">\n",
       "  <thead>\n",
       "    <tr style=\"text-align: right;\">\n",
       "      <th></th>\n",
       "      <th>Unnamed: 0</th>\n",
       "      <th>RESTAURANT NAME</th>\n",
       "      <th>DISTANCE FROM WSU</th>\n",
       "      <th>ADDRESS</th>\n",
       "      <th>MONDAY</th>\n",
       "      <th>TUESDAY</th>\n",
       "      <th>WEDNESDAY</th>\n",
       "      <th>THURSDAY</th>\n",
       "      <th>FRIDAY</th>\n",
       "      <th>SATURDAY</th>\n",
       "      <th>...</th>\n",
       "      <th>Hours_Tuesday</th>\n",
       "      <th>Hours_Wednesday</th>\n",
       "      <th>Hours_Thursday</th>\n",
       "      <th>Hours_Friday</th>\n",
       "      <th>Hours_Saturday</th>\n",
       "      <th>Hours_Sunday</th>\n",
       "      <th>TotalHours</th>\n",
       "      <th>location</th>\n",
       "      <th>LATITUDE</th>\n",
       "      <th>LONGITUDE</th>\n",
       "    </tr>\n",
       "  </thead>\n",
       "  <tbody>\n",
       "    <tr>\n",
       "      <th>0</th>\n",
       "      <td>0</td>\n",
       "      <td>Social Tap Drinkery</td>\n",
       "      <td>0.30</td>\n",
       "      <td>4510 E 19th St N, Wichita, KS 67208</td>\n",
       "      <td>11AM-11PM</td>\n",
       "      <td>11AM-11PM</td>\n",
       "      <td>11AM-11PM</td>\n",
       "      <td>11AM-11PM</td>\n",
       "      <td>11AM-11PM</td>\n",
       "      <td>11AM-11PM</td>\n",
       "      <td>...</td>\n",
       "      <td>12.00</td>\n",
       "      <td>12.00</td>\n",
       "      <td>12.00</td>\n",
       "      <td>12.00</td>\n",
       "      <td>12.00</td>\n",
       "      <td>9.00</td>\n",
       "      <td>81.00</td>\n",
       "      <td>East 19th Street North, College Terrace, Wichi...</td>\n",
       "      <td>37.718593</td>\n",
       "      <td>-97.303609</td>\n",
       "    </tr>\n",
       "    <tr>\n",
       "      <th>1</th>\n",
       "      <td>1</td>\n",
       "      <td>sonic drive in</td>\n",
       "      <td>0.05</td>\n",
       "      <td>2939 E 21st St N, Wichita, KS 67214</td>\n",
       "      <td>6AM-11PM</td>\n",
       "      <td>6AM-11PM</td>\n",
       "      <td>6AM-11PM</td>\n",
       "      <td>6AM-11PM</td>\n",
       "      <td>6AM-11PM</td>\n",
       "      <td>7AM-11PM</td>\n",
       "      <td>...</td>\n",
       "      <td>17.00</td>\n",
       "      <td>17.00</td>\n",
       "      <td>17.00</td>\n",
       "      <td>17.00</td>\n",
       "      <td>16.00</td>\n",
       "      <td>16.00</td>\n",
       "      <td>117.00</td>\n",
       "      <td>2939, East 21st Street North, Wichita, Sedgwic...</td>\n",
       "      <td>37.722663</td>\n",
       "      <td>-97.302018</td>\n",
       "    </tr>\n",
       "    <tr>\n",
       "      <th>2</th>\n",
       "      <td>2</td>\n",
       "      <td>Sungrano</td>\n",
       "      <td>0.30</td>\n",
       "      <td>4510 E 19th St N, Wichita, KS 67208</td>\n",
       "      <td>11AM-10PM</td>\n",
       "      <td>11AM-10PM</td>\n",
       "      <td>11AM-10PM</td>\n",
       "      <td>11AM-10PM</td>\n",
       "      <td>11AM-10PM</td>\n",
       "      <td>11AM-10PM</td>\n",
       "      <td>...</td>\n",
       "      <td>11.00</td>\n",
       "      <td>11.00</td>\n",
       "      <td>11.00</td>\n",
       "      <td>11.00</td>\n",
       "      <td>11.00</td>\n",
       "      <td>9.00</td>\n",
       "      <td>75.00</td>\n",
       "      <td>East 19th Street North, College Terrace, Wichi...</td>\n",
       "      <td>37.718593</td>\n",
       "      <td>-97.303609</td>\n",
       "    </tr>\n",
       "    <tr>\n",
       "      <th>3</th>\n",
       "      <td>3</td>\n",
       "      <td>Fuzz's taco shop</td>\n",
       "      <td>0.30</td>\n",
       "      <td>4521 E 21st St N, Wichita, KS 67208</td>\n",
       "      <td>10:30AM-10:30PM</td>\n",
       "      <td>10:30AM-10:30PM</td>\n",
       "      <td>10:30AM-10:30PM</td>\n",
       "      <td>10:30AM-11PM</td>\n",
       "      <td>10:30AM-11PM</td>\n",
       "      <td>10:30AM-11PM</td>\n",
       "      <td>...</td>\n",
       "      <td>12.00</td>\n",
       "      <td>12.00</td>\n",
       "      <td>12.50</td>\n",
       "      <td>12.50</td>\n",
       "      <td>12.50</td>\n",
       "      <td>9.00</td>\n",
       "      <td>82.50</td>\n",
       "      <td>4521, East 21st Street North, Wichita, Sedgwic...</td>\n",
       "      <td>37.722825</td>\n",
       "      <td>-97.283857</td>\n",
       "    </tr>\n",
       "    <tr>\n",
       "      <th>4</th>\n",
       "      <td>4</td>\n",
       "      <td>Magnolia café wichita</td>\n",
       "      <td>1.30</td>\n",
       "      <td>2424 N Woodlawn Blvd, Wichita, KS 67220</td>\n",
       "      <td>0</td>\n",
       "      <td>11AM-9PM</td>\n",
       "      <td>11AM-9PM</td>\n",
       "      <td>11AM-9PM</td>\n",
       "      <td>11AM-9PM</td>\n",
       "      <td>9AM-2PM,5-9PM</td>\n",
       "      <td>...</td>\n",
       "      <td>10.00</td>\n",
       "      <td>10.00</td>\n",
       "      <td>10.00</td>\n",
       "      <td>10.00</td>\n",
       "      <td>5.00</td>\n",
       "      <td>5.00</td>\n",
       "      <td>50.00</td>\n",
       "      <td>2424, North Woodlawn Boulevard, Wichita, Sedgw...</td>\n",
       "      <td>37.726386</td>\n",
       "      <td>-97.262204</td>\n",
       "    </tr>\n",
       "    <tr>\n",
       "      <th>5</th>\n",
       "      <td>5</td>\n",
       "      <td>chick-fil-A</td>\n",
       "      <td>0.40</td>\n",
       "      <td>1845 Fairmount St, Wichita, KS 67260</td>\n",
       "      <td>6:30AM-10PM</td>\n",
       "      <td>6:30AM-10PM</td>\n",
       "      <td>6:30AM-10PM</td>\n",
       "      <td>6:30AM-10PM</td>\n",
       "      <td>6:30AM-10PM</td>\n",
       "      <td>6:30AM-10PM</td>\n",
       "      <td>...</td>\n",
       "      <td>15.50</td>\n",
       "      <td>15.50</td>\n",
       "      <td>15.50</td>\n",
       "      <td>15.50</td>\n",
       "      <td>15.50</td>\n",
       "      <td>NaN</td>\n",
       "      <td>93.00</td>\n",
       "      <td>Wichita State University, 1845, Fairmount Stre...</td>\n",
       "      <td>37.719343</td>\n",
       "      <td>-97.289888</td>\n",
       "    </tr>\n",
       "    <tr>\n",
       "      <th>6</th>\n",
       "      <td>6</td>\n",
       "      <td>prost</td>\n",
       "      <td>1.80</td>\n",
       "      <td>2721 E Central Ave, Wichita, KS 67214</td>\n",
       "      <td>0</td>\n",
       "      <td>11AM-9PM</td>\n",
       "      <td>11AM-9PM</td>\n",
       "      <td>11AM-9PM</td>\n",
       "      <td>11AM-9PM</td>\n",
       "      <td>11AM-9PM</td>\n",
       "      <td>...</td>\n",
       "      <td>10.00</td>\n",
       "      <td>10.00</td>\n",
       "      <td>10.00</td>\n",
       "      <td>10.00</td>\n",
       "      <td>10.00</td>\n",
       "      <td>NaN</td>\n",
       "      <td>50.00</td>\n",
       "      <td>2721, East Central Avenue, Wichita, Sedgwick C...</td>\n",
       "      <td>37.693586</td>\n",
       "      <td>-97.304489</td>\n",
       "    </tr>\n",
       "    <tr>\n",
       "      <th>7</th>\n",
       "      <td>7</td>\n",
       "      <td>Five guys</td>\n",
       "      <td>3.40</td>\n",
       "      <td>2929 N Rock Rd, Wichita, KS 67226</td>\n",
       "      <td>11AM-10PM</td>\n",
       "      <td>11AM-10PM</td>\n",
       "      <td>11AM-10PM</td>\n",
       "      <td>11AM-10PM</td>\n",
       "      <td>11AM-10PM</td>\n",
       "      <td>11AM-10PM</td>\n",
       "      <td>...</td>\n",
       "      <td>11.00</td>\n",
       "      <td>11.00</td>\n",
       "      <td>11.00</td>\n",
       "      <td>11.00</td>\n",
       "      <td>11.00</td>\n",
       "      <td>11.00</td>\n",
       "      <td>77.00</td>\n",
       "      <td>2929, North Rock Road, Wichita, Sedgwick Count...</td>\n",
       "      <td>37.735853</td>\n",
       "      <td>-97.244754</td>\n",
       "    </tr>\n",
       "    <tr>\n",
       "      <th>8</th>\n",
       "      <td>8</td>\n",
       "      <td>Georges french bistro</td>\n",
       "      <td>1.60</td>\n",
       "      <td>4618 E Central Ave, Wichita, KS 67208</td>\n",
       "      <td>4PM-10PM</td>\n",
       "      <td>4PM-10PM</td>\n",
       "      <td>4PM-10PM</td>\n",
       "      <td>4PM-10PM</td>\n",
       "      <td>4PM-10PM</td>\n",
       "      <td>4PM-11PM</td>\n",
       "      <td>...</td>\n",
       "      <td>6.00</td>\n",
       "      <td>6.00</td>\n",
       "      <td>6.00</td>\n",
       "      <td>6.00</td>\n",
       "      <td>7.00</td>\n",
       "      <td>NaN</td>\n",
       "      <td>37.00</td>\n",
       "      <td>4618, East Central Avenue, Forest Hills, Wichi...</td>\n",
       "      <td>37.693866</td>\n",
       "      <td>-97.282464</td>\n",
       "    </tr>\n",
       "    <tr>\n",
       "      <th>9</th>\n",
       "      <td>9</td>\n",
       "      <td>spangles</td>\n",
       "      <td>0.90</td>\n",
       "      <td>6120 E 21st St N, Wichita, KS 67208</td>\n",
       "      <td>6:30AM-10PM</td>\n",
       "      <td>6:30AM-10PM</td>\n",
       "      <td>6:30AM-10PM</td>\n",
       "      <td>6:30AM-10PM</td>\n",
       "      <td>6:30AM-10PM</td>\n",
       "      <td>6:30AM-10PM</td>\n",
       "      <td>...</td>\n",
       "      <td>15.50</td>\n",
       "      <td>15.50</td>\n",
       "      <td>15.50</td>\n",
       "      <td>15.50</td>\n",
       "      <td>15.50</td>\n",
       "      <td>15.00</td>\n",
       "      <td>108.00</td>\n",
       "      <td>Spangles, 6120, East 21st Street North, Minneh...</td>\n",
       "      <td>37.723439</td>\n",
       "      <td>-97.264962</td>\n",
       "    </tr>\n",
       "    <tr>\n",
       "      <th>10</th>\n",
       "      <td>10</td>\n",
       "      <td>popeyes louisiana kitchen</td>\n",
       "      <td>0.60</td>\n",
       "      <td>1350 N Hillside St, Wichita, KS 67214</td>\n",
       "      <td>10:30AM-10PM</td>\n",
       "      <td>10:30AM-10PM</td>\n",
       "      <td>10:30AM-10PM</td>\n",
       "      <td>10:30AM-10PM</td>\n",
       "      <td>10:30AM-10PM</td>\n",
       "      <td>10:30AM-10PM</td>\n",
       "      <td>...</td>\n",
       "      <td>11.50</td>\n",
       "      <td>11.50</td>\n",
       "      <td>11.50</td>\n",
       "      <td>11.50</td>\n",
       "      <td>11.50</td>\n",
       "      <td>11.50</td>\n",
       "      <td>80.50</td>\n",
       "      <td>Popeyes Louisiana Kitchen, 1350, North Hillsid...</td>\n",
       "      <td>37.707494</td>\n",
       "      <td>-97.298704</td>\n",
       "    </tr>\n",
       "    <tr>\n",
       "      <th>11</th>\n",
       "      <td>11</td>\n",
       "      <td>Dempsey's burger pub</td>\n",
       "      <td>2.40</td>\n",
       "      <td>3700 E Douglas Ave, Wichita, KS 67208</td>\n",
       "      <td>11AM-10PM</td>\n",
       "      <td>11AM-10PM</td>\n",
       "      <td>11AM-10PM</td>\n",
       "      <td>11AM-10PM</td>\n",
       "      <td>11AM-11PM</td>\n",
       "      <td>11AM-11PM</td>\n",
       "      <td>...</td>\n",
       "      <td>11.00</td>\n",
       "      <td>11.00</td>\n",
       "      <td>11.00</td>\n",
       "      <td>12.00</td>\n",
       "      <td>12.00</td>\n",
       "      <td>11.00</td>\n",
       "      <td>79.00</td>\n",
       "      <td>Flavors Coffee and Ice Cream Bar, 3700, East D...</td>\n",
       "      <td>37.686729</td>\n",
       "      <td>-97.293715</td>\n",
       "    </tr>\n",
       "    <tr>\n",
       "      <th>12</th>\n",
       "      <td>12</td>\n",
       "      <td>passage to india</td>\n",
       "      <td>0.90</td>\n",
       "      <td>6100 E 21st St N, Wichita, KS 67208</td>\n",
       "      <td>0</td>\n",
       "      <td>11 AM–2:30 PM, 5–9 PM</td>\n",
       "      <td>11 AM–2:30 PM, 5–9 PM</td>\n",
       "      <td>11 AM–2:30 PM, 5–9 PM</td>\n",
       "      <td>11 AM–2:30 PM, 5–10 PM</td>\n",
       "      <td>11 AM–2:30 PM, 5–10 PM</td>\n",
       "      <td>...</td>\n",
       "      <td>NaN</td>\n",
       "      <td>NaN</td>\n",
       "      <td>NaN</td>\n",
       "      <td>NaN</td>\n",
       "      <td>NaN</td>\n",
       "      <td>NaN</td>\n",
       "      <td>0.00</td>\n",
       "      <td>Asia Bazaar, 6100, East 21st Street North, Min...</td>\n",
       "      <td>37.724043</td>\n",
       "      <td>-97.265513</td>\n",
       "    </tr>\n",
       "    <tr>\n",
       "      <th>13</th>\n",
       "      <td>13</td>\n",
       "      <td>Mc Donald's</td>\n",
       "      <td>0.03</td>\n",
       "      <td>1811 N Hillside St, Wichita, KS 67214</td>\n",
       "      <td>4AM-11PM</td>\n",
       "      <td>5AM-11PM</td>\n",
       "      <td>6AM-10PM</td>\n",
       "      <td>12AM-11:59PM</td>\n",
       "      <td>12AM-11:59PM</td>\n",
       "      <td>12AM-11:59PM</td>\n",
       "      <td>...</td>\n",
       "      <td>18.00</td>\n",
       "      <td>16.00</td>\n",
       "      <td>11.99</td>\n",
       "      <td>11.99</td>\n",
       "      <td>11.99</td>\n",
       "      <td>11.99</td>\n",
       "      <td>100.96</td>\n",
       "      <td>1811, North Hillside Street, Wichita, Sedgwick...</td>\n",
       "      <td>37.721248</td>\n",
       "      <td>-97.298941</td>\n",
       "    </tr>\n",
       "    <tr>\n",
       "      <th>14</th>\n",
       "      <td>14</td>\n",
       "      <td>chicken chicken</td>\n",
       "      <td>1.00</td>\n",
       "      <td>2419 E 13th St N, Wichita, KS 67214</td>\n",
       "      <td>8AM-2AM</td>\n",
       "      <td>8AM-2AM</td>\n",
       "      <td>8AM-2AM</td>\n",
       "      <td>8AM-2AM</td>\n",
       "      <td>8AM-2AM</td>\n",
       "      <td>8AM-2AM</td>\n",
       "      <td>...</td>\n",
       "      <td>18.00</td>\n",
       "      <td>18.00</td>\n",
       "      <td>18.00</td>\n",
       "      <td>18.00</td>\n",
       "      <td>18.00</td>\n",
       "      <td>18.00</td>\n",
       "      <td>126.00</td>\n",
       "      <td>2419, East 13th Street North, Wichita, Sedgwic...</td>\n",
       "      <td>37.708101</td>\n",
       "      <td>-97.307871</td>\n",
       "    </tr>\n",
       "    <tr>\n",
       "      <th>15</th>\n",
       "      <td>15</td>\n",
       "      <td>Doc Greens</td>\n",
       "      <td>1.60</td>\n",
       "      <td>410 N Hillside St, Wichita, KS 67214</td>\n",
       "      <td>10:30AM-9PM</td>\n",
       "      <td>10:30AM-9PM</td>\n",
       "      <td>10:30AM-9PM</td>\n",
       "      <td>10:30AM-9PM</td>\n",
       "      <td>10:30AM-9PM</td>\n",
       "      <td>10:30AM-9PM</td>\n",
       "      <td>...</td>\n",
       "      <td>10.50</td>\n",
       "      <td>10.50</td>\n",
       "      <td>10.50</td>\n",
       "      <td>10.50</td>\n",
       "      <td>10.50</td>\n",
       "      <td>10.50</td>\n",
       "      <td>73.50</td>\n",
       "      <td>Pizza Hut, 410 #1300, North Hillside Street, W...</td>\n",
       "      <td>37.692759</td>\n",
       "      <td>-97.298313</td>\n",
       "    </tr>\n",
       "    <tr>\n",
       "      <th>16</th>\n",
       "      <td>16</td>\n",
       "      <td>wine Dive+Kitchen</td>\n",
       "      <td>2.10</td>\n",
       "      <td>4714 E Douglas Ave, Wichita, KS 67208</td>\n",
       "      <td>11AM-10PM</td>\n",
       "      <td>11AM-10PM</td>\n",
       "      <td>11AM-10PM</td>\n",
       "      <td>11AM-10PM</td>\n",
       "      <td>11AM-12AM</td>\n",
       "      <td>11AM-12AM</td>\n",
       "      <td>...</td>\n",
       "      <td>11.00</td>\n",
       "      <td>11.00</td>\n",
       "      <td>11.00</td>\n",
       "      <td>13.00</td>\n",
       "      <td>13.00</td>\n",
       "      <td>11.00</td>\n",
       "      <td>81.00</td>\n",
       "      <td>Caffe Posto, 4714, East Douglas Avenue, Wichit...</td>\n",
       "      <td>37.686720</td>\n",
       "      <td>-97.281308</td>\n",
       "    </tr>\n",
       "    <tr>\n",
       "      <th>17</th>\n",
       "      <td>17</td>\n",
       "      <td>Local Flavor restaurant</td>\n",
       "      <td>1.90</td>\n",
       "      <td>5400 E Central Ave, Wichita, KS 67208</td>\n",
       "      <td>0</td>\n",
       "      <td>11AM-9PM</td>\n",
       "      <td>11AM-9PM</td>\n",
       "      <td>11AM-12AM</td>\n",
       "      <td>11AM-12AM</td>\n",
       "      <td>11AM-12AM</td>\n",
       "      <td>...</td>\n",
       "      <td>10.00</td>\n",
       "      <td>10.00</td>\n",
       "      <td>13.00</td>\n",
       "      <td>13.00</td>\n",
       "      <td>13.00</td>\n",
       "      <td>5.00</td>\n",
       "      <td>64.00</td>\n",
       "      <td>Central Village, 5400, East Central Avenue, Fo...</td>\n",
       "      <td>37.694186</td>\n",
       "      <td>-97.273270</td>\n",
       "    </tr>\n",
       "    <tr>\n",
       "      <th>18</th>\n",
       "      <td>18</td>\n",
       "      <td>sesame mediterranean kitchen</td>\n",
       "      <td>0.30</td>\n",
       "      <td>4510 E 19th St N, Wichita, KS 67208</td>\n",
       "      <td>11AM-8PM</td>\n",
       "      <td>11AM-8PM</td>\n",
       "      <td>11AM-8PM</td>\n",
       "      <td>11AM-8PM</td>\n",
       "      <td>11AM-8PM</td>\n",
       "      <td>11AM-8PM</td>\n",
       "      <td>...</td>\n",
       "      <td>9.00</td>\n",
       "      <td>9.00</td>\n",
       "      <td>9.00</td>\n",
       "      <td>9.00</td>\n",
       "      <td>9.00</td>\n",
       "      <td>9.00</td>\n",
       "      <td>63.00</td>\n",
       "      <td>East 19th Street North, College Terrace, Wichi...</td>\n",
       "      <td>37.718593</td>\n",
       "      <td>-97.303609</td>\n",
       "    </tr>\n",
       "    <tr>\n",
       "      <th>19</th>\n",
       "      <td>19</td>\n",
       "      <td>Panda express</td>\n",
       "      <td>0.30</td>\n",
       "      <td>1845 Fairmount St, Wichita, KS 67260</td>\n",
       "      <td>11AM-3PM</td>\n",
       "      <td>11AM-3PM</td>\n",
       "      <td>11AM-3PM</td>\n",
       "      <td>11AM-3PM</td>\n",
       "      <td>11AM-3PM</td>\n",
       "      <td>0</td>\n",
       "      <td>...</td>\n",
       "      <td>4.00</td>\n",
       "      <td>4.00</td>\n",
       "      <td>4.00</td>\n",
       "      <td>4.00</td>\n",
       "      <td>NaN</td>\n",
       "      <td>NaN</td>\n",
       "      <td>20.00</td>\n",
       "      <td>Wichita State University, 1845, Fairmount Stre...</td>\n",
       "      <td>37.719343</td>\n",
       "      <td>-97.289888</td>\n",
       "    </tr>\n",
       "    <tr>\n",
       "      <th>20</th>\n",
       "      <td>20</td>\n",
       "      <td>Tad's carryout</td>\n",
       "      <td>0.60</td>\n",
       "      <td>2545 N Hillside St, Wichita, KS 67219</td>\n",
       "      <td>11AM-8PM</td>\n",
       "      <td>11AM-8PM</td>\n",
       "      <td>11AM-8PM</td>\n",
       "      <td>11AM-8PM</td>\n",
       "      <td>11AM-8PM</td>\n",
       "      <td>11AM-8PM</td>\n",
       "      <td>...</td>\n",
       "      <td>9.00</td>\n",
       "      <td>9.00</td>\n",
       "      <td>9.00</td>\n",
       "      <td>9.00</td>\n",
       "      <td>9.00</td>\n",
       "      <td>9.00</td>\n",
       "      <td>63.00</td>\n",
       "      <td>2545, North Hillside Street, Wichita, Sedgwick...</td>\n",
       "      <td>37.729448</td>\n",
       "      <td>-97.299158</td>\n",
       "    </tr>\n",
       "    <tr>\n",
       "      <th>21</th>\n",
       "      <td>21</td>\n",
       "      <td>Meals and deals on the roll llc</td>\n",
       "      <td>0.80</td>\n",
       "      <td>5706 E 19th St N, Wichita, KS 67208</td>\n",
       "      <td>Null</td>\n",
       "      <td>Null</td>\n",
       "      <td>Null</td>\n",
       "      <td>Null</td>\n",
       "      <td>Null</td>\n",
       "      <td>Null</td>\n",
       "      <td>...</td>\n",
       "      <td>0.00</td>\n",
       "      <td>0.00</td>\n",
       "      <td>0.00</td>\n",
       "      <td>0.00</td>\n",
       "      <td>0.00</td>\n",
       "      <td>0.00</td>\n",
       "      <td>0.00</td>\n",
       "      <td>5706, East 19th Street North, Crestview Height...</td>\n",
       "      <td>37.719828</td>\n",
       "      <td>-97.269048</td>\n",
       "    </tr>\n",
       "    <tr>\n",
       "      <th>22</th>\n",
       "      <td>22</td>\n",
       "      <td>Freddy's  frozen custard and steakburgers</td>\n",
       "      <td>0.30</td>\n",
       "      <td>1845 Fairmount St, Wichita, KS 67260</td>\n",
       "      <td>10AM-7PM</td>\n",
       "      <td>10AM-7PM</td>\n",
       "      <td>10AM-7PM</td>\n",
       "      <td>10AM-7PM</td>\n",
       "      <td>10AM-5PM</td>\n",
       "      <td>0</td>\n",
       "      <td>...</td>\n",
       "      <td>9.00</td>\n",
       "      <td>9.00</td>\n",
       "      <td>9.00</td>\n",
       "      <td>7.00</td>\n",
       "      <td>NaN</td>\n",
       "      <td>NaN</td>\n",
       "      <td>43.00</td>\n",
       "      <td>Wichita State University, 1845, Fairmount Stre...</td>\n",
       "      <td>37.719343</td>\n",
       "      <td>-97.289888</td>\n",
       "    </tr>\n",
       "    <tr>\n",
       "      <th>23</th>\n",
       "      <td>23</td>\n",
       "      <td>Sazon Mexican restaurant</td>\n",
       "      <td>0.30</td>\n",
       "      <td>2624 E 21st St N, Wichita, KS 67214</td>\n",
       "      <td>0</td>\n",
       "      <td>0</td>\n",
       "      <td>9AM-7PM</td>\n",
       "      <td>9AM-7PM</td>\n",
       "      <td>9AM-7PM</td>\n",
       "      <td>9AM-7PM</td>\n",
       "      <td>...</td>\n",
       "      <td>NaN</td>\n",
       "      <td>10.00</td>\n",
       "      <td>10.00</td>\n",
       "      <td>10.00</td>\n",
       "      <td>10.00</td>\n",
       "      <td>10.00</td>\n",
       "      <td>50.00</td>\n",
       "      <td>2624, East 21st Street North, Wichita, Sedgwic...</td>\n",
       "      <td>37.722805</td>\n",
       "      <td>-97.306197</td>\n",
       "    </tr>\n",
       "    <tr>\n",
       "      <th>24</th>\n",
       "      <td>24</td>\n",
       "      <td>Da cajun restaurant</td>\n",
       "      <td>0.90</td>\n",
       "      <td>6249 E 21st St N, Wichita, KS 67208</td>\n",
       "      <td>11 AM–2:30 PM</td>\n",
       "      <td>11AM-8PM</td>\n",
       "      <td>11AM-8PM</td>\n",
       "      <td>11AM-8PM</td>\n",
       "      <td>11AM-9PM</td>\n",
       "      <td>11AM-9PM</td>\n",
       "      <td>...</td>\n",
       "      <td>9.00</td>\n",
       "      <td>9.00</td>\n",
       "      <td>9.00</td>\n",
       "      <td>10.00</td>\n",
       "      <td>10.00</td>\n",
       "      <td>NaN</td>\n",
       "      <td>47.00</td>\n",
       "      <td>Asian Groceries, 6249, East 21st Street North,...</td>\n",
       "      <td>37.722637</td>\n",
       "      <td>-97.264134</td>\n",
       "    </tr>\n",
       "    <tr>\n",
       "      <th>25</th>\n",
       "      <td>25</td>\n",
       "      <td>Fat boyz BBQ</td>\n",
       "      <td>0.70</td>\n",
       "      <td>1901 E 21st St N, Wichita, KS 67214</td>\n",
       "      <td>NaN</td>\n",
       "      <td>NaN</td>\n",
       "      <td>NaN</td>\n",
       "      <td>NaN</td>\n",
       "      <td>NaN</td>\n",
       "      <td>NaN</td>\n",
       "      <td>...</td>\n",
       "      <td>0.00</td>\n",
       "      <td>0.00</td>\n",
       "      <td>0.00</td>\n",
       "      <td>0.00</td>\n",
       "      <td>0.00</td>\n",
       "      <td>0.00</td>\n",
       "      <td>0.00</td>\n",
       "      <td>Mr MC's Market, 1901, East 21st Street North, ...</td>\n",
       "      <td>37.722401</td>\n",
       "      <td>-97.314800</td>\n",
       "    </tr>\n",
       "    <tr>\n",
       "      <th>26</th>\n",
       "      <td>26</td>\n",
       "      <td>Kababji grill</td>\n",
       "      <td>1.00</td>\n",
       "      <td>6257 E 21st St N, Wichita, KS 67208</td>\n",
       "      <td>11AM-9PM</td>\n",
       "      <td>11AM-9PM</td>\n",
       "      <td>11AM-9PM</td>\n",
       "      <td>11AM-9PM</td>\n",
       "      <td>11AM-10:30PM</td>\n",
       "      <td>11AM-10:30PM</td>\n",
       "      <td>...</td>\n",
       "      <td>10.00</td>\n",
       "      <td>10.00</td>\n",
       "      <td>10.00</td>\n",
       "      <td>11.50</td>\n",
       "      <td>11.50</td>\n",
       "      <td>9.00</td>\n",
       "      <td>72.00</td>\n",
       "      <td>6257, East 21st Street North, Minneha, Wichita...</td>\n",
       "      <td>37.722920</td>\n",
       "      <td>-97.263820</td>\n",
       "    </tr>\n",
       "    <tr>\n",
       "      <th>27</th>\n",
       "      <td>27</td>\n",
       "      <td>Deshi Curry</td>\n",
       "      <td>0.90</td>\n",
       "      <td>6249 E 21st St N, Wichita, KS 67208</td>\n",
       "      <td>11AM-11PM</td>\n",
       "      <td>11AM-11PM</td>\n",
       "      <td>11AM-11PM</td>\n",
       "      <td>11AM-11PM</td>\n",
       "      <td>11AM-11PM</td>\n",
       "      <td>11AM-11PM</td>\n",
       "      <td>...</td>\n",
       "      <td>12.00</td>\n",
       "      <td>12.00</td>\n",
       "      <td>12.00</td>\n",
       "      <td>12.00</td>\n",
       "      <td>12.00</td>\n",
       "      <td>12.00</td>\n",
       "      <td>84.00</td>\n",
       "      <td>Asian Groceries, 6249, East 21st Street North,...</td>\n",
       "      <td>37.722637</td>\n",
       "      <td>-97.264134</td>\n",
       "    </tr>\n",
       "    <tr>\n",
       "      <th>28</th>\n",
       "      <td>28</td>\n",
       "      <td>Sbarro</td>\n",
       "      <td>0.20</td>\n",
       "      <td>4802 E 21st St N, Wichita, KS 67208</td>\n",
       "      <td>7am-9pm</td>\n",
       "      <td>7am-9pm</td>\n",
       "      <td>7am-9pm</td>\n",
       "      <td>7am-9pm</td>\n",
       "      <td>7am-9pm</td>\n",
       "      <td>7am-9pm</td>\n",
       "      <td>...</td>\n",
       "      <td>NaN</td>\n",
       "      <td>NaN</td>\n",
       "      <td>NaN</td>\n",
       "      <td>NaN</td>\n",
       "      <td>NaN</td>\n",
       "      <td>NaN</td>\n",
       "      <td>0.00</td>\n",
       "      <td>Kwik Shop, 4802, East 21st Street North, Wichi...</td>\n",
       "      <td>37.723331</td>\n",
       "      <td>-97.280030</td>\n",
       "    </tr>\n",
       "    <tr>\n",
       "      <th>29</th>\n",
       "      <td>29</td>\n",
       "      <td>Church's Chicken</td>\n",
       "      <td>0.50</td>\n",
       "      <td>4780 E 13th St N, Wichita, KS 67208</td>\n",
       "      <td>10:30AM-10PM</td>\n",
       "      <td>10:30AM-10PM</td>\n",
       "      <td>10:30AM-10PM</td>\n",
       "      <td>10:30AM-10PM</td>\n",
       "      <td>10:30AM-11PM</td>\n",
       "      <td>10:30AM-11PM</td>\n",
       "      <td>...</td>\n",
       "      <td>11.50</td>\n",
       "      <td>11.50</td>\n",
       "      <td>11.50</td>\n",
       "      <td>12.50</td>\n",
       "      <td>12.50</td>\n",
       "      <td>11.00</td>\n",
       "      <td>82.00</td>\n",
       "      <td>4780, East 13th Street North, Wichita, Sedgwic...</td>\n",
       "      <td>37.708437</td>\n",
       "      <td>-97.280916</td>\n",
       "    </tr>\n",
       "    <tr>\n",
       "      <th>30</th>\n",
       "      <td>30</td>\n",
       "      <td>Taco Bell</td>\n",
       "      <td>2.10</td>\n",
       "      <td>2230 N Rock Rd, Wichita, KS 67226</td>\n",
       "      <td>7am-12pm</td>\n",
       "      <td>7am-12pm</td>\n",
       "      <td>7am-12pm</td>\n",
       "      <td>7am-12pm</td>\n",
       "      <td>7am-12pm</td>\n",
       "      <td>7am-12pm</td>\n",
       "      <td>...</td>\n",
       "      <td>NaN</td>\n",
       "      <td>NaN</td>\n",
       "      <td>NaN</td>\n",
       "      <td>NaN</td>\n",
       "      <td>NaN</td>\n",
       "      <td>NaN</td>\n",
       "      <td>0.00</td>\n",
       "      <td>2230, North Rock Road, Minneha, Wichita, Sedgw...</td>\n",
       "      <td>37.723915</td>\n",
       "      <td>-97.244496</td>\n",
       "    </tr>\n",
       "    <tr>\n",
       "      <th>31</th>\n",
       "      <td>31</td>\n",
       "      <td>Just like Mama's Kitchen</td>\n",
       "      <td>1.40</td>\n",
       "      <td>2504 E 9th St N, Wichita, KS 67214</td>\n",
       "      <td>11AM-8PM</td>\n",
       "      <td>11AM-8PM</td>\n",
       "      <td>11AM-8PM</td>\n",
       "      <td>11AM-8PM</td>\n",
       "      <td>11AM-9PM</td>\n",
       "      <td>11AM-9PM</td>\n",
       "      <td>...</td>\n",
       "      <td>9.00</td>\n",
       "      <td>9.00</td>\n",
       "      <td>9.00</td>\n",
       "      <td>10.00</td>\n",
       "      <td>10.00</td>\n",
       "      <td>NaN</td>\n",
       "      <td>56.00</td>\n",
       "      <td>2504, East 9th Street North, Wichita, Sedgwick...</td>\n",
       "      <td>37.701003</td>\n",
       "      <td>-97.306830</td>\n",
       "    </tr>\n",
       "    <tr>\n",
       "      <th>32</th>\n",
       "      <td>32</td>\n",
       "      <td>Jason's Deli</td>\n",
       "      <td>2.00</td>\n",
       "      <td>1821 N Rock Rd, Wichita, KS 67206</td>\n",
       "      <td>10am-10pm</td>\n",
       "      <td>10am-10pm</td>\n",
       "      <td>10am-10pm</td>\n",
       "      <td>10am-10pm</td>\n",
       "      <td>10am-10pm</td>\n",
       "      <td>10am-10pm</td>\n",
       "      <td>...</td>\n",
       "      <td>NaN</td>\n",
       "      <td>NaN</td>\n",
       "      <td>NaN</td>\n",
       "      <td>NaN</td>\n",
       "      <td>NaN</td>\n",
       "      <td>NaN</td>\n",
       "      <td>0.00</td>\n",
       "      <td>1821, North Rock Road, Minneha, Wichita, Sedgw...</td>\n",
       "      <td>37.716100</td>\n",
       "      <td>-97.244738</td>\n",
       "    </tr>\n",
       "    <tr>\n",
       "      <th>33</th>\n",
       "      <td>33</td>\n",
       "      <td>Asian Wok</td>\n",
       "      <td>2.90</td>\n",
       "      <td>2929 N Rock Rd, Wichita, KS 67226</td>\n",
       "      <td>0</td>\n",
       "      <td>4PM-8PM</td>\n",
       "      <td>4PM-8PM</td>\n",
       "      <td>4PM-8PM</td>\n",
       "      <td>11AM-8PM</td>\n",
       "      <td>11AM-8PM</td>\n",
       "      <td>...</td>\n",
       "      <td>4.00</td>\n",
       "      <td>4.00</td>\n",
       "      <td>4.00</td>\n",
       "      <td>9.00</td>\n",
       "      <td>9.00</td>\n",
       "      <td>NaN</td>\n",
       "      <td>30.00</td>\n",
       "      <td>2929, North Rock Road, Wichita, Sedgwick Count...</td>\n",
       "      <td>37.735853</td>\n",
       "      <td>-97.244754</td>\n",
       "    </tr>\n",
       "    <tr>\n",
       "      <th>34</th>\n",
       "      <td>34</td>\n",
       "      <td>China One (New China King)</td>\n",
       "      <td>0.90</td>\n",
       "      <td>6249 E 21st St N, Wichita, KS 67208</td>\n",
       "      <td>11AM-10PM</td>\n",
       "      <td>0</td>\n",
       "      <td>11AM-10PM</td>\n",
       "      <td>11AM-10PM</td>\n",
       "      <td>11AM-10:30PM</td>\n",
       "      <td>11AM-10:30PM</td>\n",
       "      <td>...</td>\n",
       "      <td>NaN</td>\n",
       "      <td>11.00</td>\n",
       "      <td>11.00</td>\n",
       "      <td>11.50</td>\n",
       "      <td>11.50</td>\n",
       "      <td>11.00</td>\n",
       "      <td>67.00</td>\n",
       "      <td>Asian Groceries, 6249, East 21st Street North,...</td>\n",
       "      <td>37.722637</td>\n",
       "      <td>-97.264134</td>\n",
       "    </tr>\n",
       "    <tr>\n",
       "      <th>35</th>\n",
       "      <td>35</td>\n",
       "      <td>Taco Shop</td>\n",
       "      <td>1.20</td>\n",
       "      <td>6825 E 21st St N, Wichita, KS 67206</td>\n",
       "      <td>10:30AM-10PM</td>\n",
       "      <td>10:30AM-10PM</td>\n",
       "      <td>10:30AM-9:30PM</td>\n",
       "      <td>10:30AM-10PM</td>\n",
       "      <td>10:30AM-10PM</td>\n",
       "      <td>10:30AM-10PM</td>\n",
       "      <td>...</td>\n",
       "      <td>11.50</td>\n",
       "      <td>11.00</td>\n",
       "      <td>11.50</td>\n",
       "      <td>11.50</td>\n",
       "      <td>11.50</td>\n",
       "      <td>11.50</td>\n",
       "      <td>80.00</td>\n",
       "      <td>Taco Shop, 6825, East 21st Street North, Minne...</td>\n",
       "      <td>37.722525</td>\n",
       "      <td>-97.258737</td>\n",
       "    </tr>\n",
       "    <tr>\n",
       "      <th>36</th>\n",
       "      <td>36</td>\n",
       "      <td>Burger King</td>\n",
       "      <td>1.10</td>\n",
       "      <td>2111 N Woodlawn St, Wichita, KS 67208</td>\n",
       "      <td>full day</td>\n",
       "      <td>full day</td>\n",
       "      <td>full day</td>\n",
       "      <td>full day</td>\n",
       "      <td>full day</td>\n",
       "      <td>full day</td>\n",
       "      <td>...</td>\n",
       "      <td>NaN</td>\n",
       "      <td>NaN</td>\n",
       "      <td>NaN</td>\n",
       "      <td>NaN</td>\n",
       "      <td>NaN</td>\n",
       "      <td>NaN</td>\n",
       "      <td>0.00</td>\n",
       "      <td>North Woodlawn Street, Arthur Heights, Bel Air...</td>\n",
       "      <td>37.764142</td>\n",
       "      <td>-97.262471</td>\n",
       "    </tr>\n",
       "    <tr>\n",
       "      <th>37</th>\n",
       "      <td>37</td>\n",
       "      <td>Subway</td>\n",
       "      <td>3.30</td>\n",
       "      <td>3233 N Rock Rd, Wichita, KS 67226</td>\n",
       "      <td>9am-10pm</td>\n",
       "      <td>9am-10pm</td>\n",
       "      <td>9am-10pm</td>\n",
       "      <td>9am-10pm</td>\n",
       "      <td>9am-10pm</td>\n",
       "      <td>9am-10pm</td>\n",
       "      <td>...</td>\n",
       "      <td>NaN</td>\n",
       "      <td>NaN</td>\n",
       "      <td>NaN</td>\n",
       "      <td>NaN</td>\n",
       "      <td>NaN</td>\n",
       "      <td>NaN</td>\n",
       "      <td>0.00</td>\n",
       "      <td>3233, North Rock Road, Wichita, Sedgwick Count...</td>\n",
       "      <td>37.742355</td>\n",
       "      <td>-97.244769</td>\n",
       "    </tr>\n",
       "    <tr>\n",
       "      <th>38</th>\n",
       "      <td>38</td>\n",
       "      <td>KFC</td>\n",
       "      <td>0.90</td>\n",
       "      <td>6131 E 21st St N, Wichita, KS 67208</td>\n",
       "      <td>10:30AM-10PM</td>\n",
       "      <td>10:30AM-10PM</td>\n",
       "      <td>10:30AM-10PM</td>\n",
       "      <td>10:30AM-10PM</td>\n",
       "      <td>10:30AM-10PM</td>\n",
       "      <td>10:30AM-10PM</td>\n",
       "      <td>...</td>\n",
       "      <td>11.50</td>\n",
       "      <td>11.50</td>\n",
       "      <td>11.50</td>\n",
       "      <td>11.50</td>\n",
       "      <td>11.50</td>\n",
       "      <td>11.50</td>\n",
       "      <td>80.50</td>\n",
       "      <td>6131, East 21st Street North, Minneha, Wichita...</td>\n",
       "      <td>37.722918</td>\n",
       "      <td>-97.265045</td>\n",
       "    </tr>\n",
       "    <tr>\n",
       "      <th>39</th>\n",
       "      <td>39</td>\n",
       "      <td>The Hill Bar &amp; Grill</td>\n",
       "      <td>2.00</td>\n",
       "      <td>4800 E Douglas Ave, Wichita, KS 67208</td>\n",
       "      <td>11AM-11PM</td>\n",
       "      <td>11AM-11PM</td>\n",
       "      <td>11AM-11PM</td>\n",
       "      <td>11AM-11PM</td>\n",
       "      <td>11AM-1PM</td>\n",
       "      <td>11AM-1PM</td>\n",
       "      <td>...</td>\n",
       "      <td>12.00</td>\n",
       "      <td>12.00</td>\n",
       "      <td>12.00</td>\n",
       "      <td>2.00</td>\n",
       "      <td>2.00</td>\n",
       "      <td>11.00</td>\n",
       "      <td>63.00</td>\n",
       "      <td>4800, East Douglas Avenue, Wichita, Sedgwick C...</td>\n",
       "      <td>37.686599</td>\n",
       "      <td>-97.280349</td>\n",
       "    </tr>\n",
       "    <tr>\n",
       "      <th>40</th>\n",
       "      <td>40</td>\n",
       "      <td>The Belmont</td>\n",
       "      <td>2.30</td>\n",
       "      <td>3555 E Douglas Ave, Wichita, KS 67218</td>\n",
       "      <td>0</td>\n",
       "      <td>11AM-10PM</td>\n",
       "      <td>11AM-10PM</td>\n",
       "      <td>11AM-10PM</td>\n",
       "      <td>11AM-11PM</td>\n",
       "      <td>10am-11pm</td>\n",
       "      <td>...</td>\n",
       "      <td>11.00</td>\n",
       "      <td>11.00</td>\n",
       "      <td>11.00</td>\n",
       "      <td>12.00</td>\n",
       "      <td>NaN</td>\n",
       "      <td>11.00</td>\n",
       "      <td>56.00</td>\n",
       "      <td>3555, East Douglas Avenue, Wichita, Sedgwick C...</td>\n",
       "      <td>37.686357</td>\n",
       "      <td>-97.294800</td>\n",
       "    </tr>\n",
       "    <tr>\n",
       "      <th>41</th>\n",
       "      <td>41</td>\n",
       "      <td>Vora Restaurant European</td>\n",
       "      <td>2.10</td>\n",
       "      <td>3252 E Douglas Ave, Wichita, KS 67214</td>\n",
       "      <td>3PM-9PM</td>\n",
       "      <td>3PM-10PM</td>\n",
       "      <td>3PM-10PM</td>\n",
       "      <td>3PM-10PM</td>\n",
       "      <td>3PM-11PM</td>\n",
       "      <td>10AM-11PM</td>\n",
       "      <td>...</td>\n",
       "      <td>7.00</td>\n",
       "      <td>7.00</td>\n",
       "      <td>7.00</td>\n",
       "      <td>8.00</td>\n",
       "      <td>13.00</td>\n",
       "      <td>11.00</td>\n",
       "      <td>59.00</td>\n",
       "      <td>3252, East Douglas Avenue, Wichita, Sedgwick C...</td>\n",
       "      <td>37.686405</td>\n",
       "      <td>-97.297745</td>\n",
       "    </tr>\n",
       "    <tr>\n",
       "      <th>42</th>\n",
       "      <td>42</td>\n",
       "      <td>First Mile Kitchen</td>\n",
       "      <td>2.20</td>\n",
       "      <td>2141 N Bradley Fair Pkwy, Wichita, KS 67206</td>\n",
       "      <td>11AM-8PM</td>\n",
       "      <td>11AM-9PM</td>\n",
       "      <td>11AM-9PM</td>\n",
       "      <td>11AM-9PM</td>\n",
       "      <td>11AM-9PM</td>\n",
       "      <td>9AM-9PM</td>\n",
       "      <td>...</td>\n",
       "      <td>10.00</td>\n",
       "      <td>10.00</td>\n",
       "      <td>10.00</td>\n",
       "      <td>10.00</td>\n",
       "      <td>12.00</td>\n",
       "      <td>11.00</td>\n",
       "      <td>72.00</td>\n",
       "      <td>2141, North Bradley Fair Parkway, Minneha, Wic...</td>\n",
       "      <td>37.721869</td>\n",
       "      <td>-97.241590</td>\n",
       "    </tr>\n",
       "    <tr>\n",
       "      <th>43</th>\n",
       "      <td>43</td>\n",
       "      <td>Bella Luna Cafe</td>\n",
       "      <td>2.10</td>\n",
       "      <td>2132 N Rock Rd, Wichita, KS 67206</td>\n",
       "      <td>11AM-9PM</td>\n",
       "      <td>11AM-9PM</td>\n",
       "      <td>11AM-9PM</td>\n",
       "      <td>11AM-9PM</td>\n",
       "      <td>11AM-9PM</td>\n",
       "      <td>11AM-9PM</td>\n",
       "      <td>...</td>\n",
       "      <td>10.00</td>\n",
       "      <td>10.00</td>\n",
       "      <td>10.00</td>\n",
       "      <td>10.00</td>\n",
       "      <td>10.00</td>\n",
       "      <td>4.00</td>\n",
       "      <td>64.00</td>\n",
       "      <td>2132, North Rock Road, Minneha, Wichita, Sedgw...</td>\n",
       "      <td>37.722141</td>\n",
       "      <td>-97.244505</td>\n",
       "    </tr>\n",
       "    <tr>\n",
       "      <th>44</th>\n",
       "      <td>44</td>\n",
       "      <td>Chipotle Mexican Grill</td>\n",
       "      <td>3.00</td>\n",
       "      <td>3015 N Rock Rd, Wichita, KS 67226</td>\n",
       "      <td>10:45AM-10:30PM</td>\n",
       "      <td>10:45AM-10:30PM</td>\n",
       "      <td>10:45AM-10:30PM</td>\n",
       "      <td>10:45AM-10:30PM</td>\n",
       "      <td>10:45AM-10:30PM</td>\n",
       "      <td>10:45AM-10:30PM</td>\n",
       "      <td>...</td>\n",
       "      <td>11.75</td>\n",
       "      <td>11.75</td>\n",
       "      <td>11.75</td>\n",
       "      <td>11.75</td>\n",
       "      <td>11.75</td>\n",
       "      <td>11.75</td>\n",
       "      <td>82.25</td>\n",
       "      <td>Chipotle, 3015, North Rock Road, Wichita, Sedg...</td>\n",
       "      <td>37.738173</td>\n",
       "      <td>-97.245314</td>\n",
       "    </tr>\n",
       "    <tr>\n",
       "      <th>45</th>\n",
       "      <td>45</td>\n",
       "      <td>HuHot Mongolian Grill</td>\n",
       "      <td>2.10</td>\n",
       "      <td>2035 N Rock Rd, Wichita, KS 67206</td>\n",
       "      <td>11AM-9PM</td>\n",
       "      <td>11AM-9PM</td>\n",
       "      <td>11AM-9PM</td>\n",
       "      <td>11AM-9PM</td>\n",
       "      <td>11AM-10PM</td>\n",
       "      <td>11AM-10PM</td>\n",
       "      <td>...</td>\n",
       "      <td>10.00</td>\n",
       "      <td>10.00</td>\n",
       "      <td>10.00</td>\n",
       "      <td>11.00</td>\n",
       "      <td>11.00</td>\n",
       "      <td>10.00</td>\n",
       "      <td>72.00</td>\n",
       "      <td>Nothing Bundt Cakes, 2035, North Rock Road, Mi...</td>\n",
       "      <td>37.720405</td>\n",
       "      <td>-97.245511</td>\n",
       "    </tr>\n",
       "    <tr>\n",
       "      <th>46</th>\n",
       "      <td>46</td>\n",
       "      <td>Redrock Canyon Grill</td>\n",
       "      <td>2.20</td>\n",
       "      <td>1844 N Rock Rd, Wichita, KS 67206</td>\n",
       "      <td>5PM-10PM</td>\n",
       "      <td>5PM-10PM</td>\n",
       "      <td>5PM-10PM</td>\n",
       "      <td>5PM-10PM</td>\n",
       "      <td>5PM-11PM</td>\n",
       "      <td>11AM-11PM</td>\n",
       "      <td>...</td>\n",
       "      <td>5.00</td>\n",
       "      <td>5.00</td>\n",
       "      <td>5.00</td>\n",
       "      <td>6.00</td>\n",
       "      <td>12.00</td>\n",
       "      <td>10.00</td>\n",
       "      <td>48.00</td>\n",
       "      <td>Red Rock Canyon, 1844, North Rock Road, Minneh...</td>\n",
       "      <td>37.717330</td>\n",
       "      <td>-97.244020</td>\n",
       "    </tr>\n",
       "    <tr>\n",
       "      <th>47</th>\n",
       "      <td>47</td>\n",
       "      <td>On The Border Mexican Grill &amp; Cantina</td>\n",
       "      <td>2.40</td>\n",
       "      <td>1930 N Rock Rd, Wichita, KS 67206</td>\n",
       "      <td>11AM-11PM</td>\n",
       "      <td>11AM-10PM</td>\n",
       "      <td>11AM-11PM</td>\n",
       "      <td>11AM-11PM</td>\n",
       "      <td>11AM-11PM</td>\n",
       "      <td>11AM-11PM</td>\n",
       "      <td>...</td>\n",
       "      <td>11.00</td>\n",
       "      <td>12.00</td>\n",
       "      <td>12.00</td>\n",
       "      <td>12.00</td>\n",
       "      <td>12.00</td>\n",
       "      <td>10.00</td>\n",
       "      <td>81.00</td>\n",
       "      <td>1930, North Rock Road, Minneha, Wichita, Sedgw...</td>\n",
       "      <td>37.718830</td>\n",
       "      <td>-97.244511</td>\n",
       "    </tr>\n",
       "    <tr>\n",
       "      <th>48</th>\n",
       "      <td>48</td>\n",
       "      <td>Yokohama Ramen Izakaya</td>\n",
       "      <td>2.30</td>\n",
       "      <td>6434 E Central Ave, Wichita, KS 67206</td>\n",
       "      <td>11AM-9PM</td>\n",
       "      <td>11AM-9PM</td>\n",
       "      <td>0</td>\n",
       "      <td>11AM-9PM</td>\n",
       "      <td>11AM-9PM</td>\n",
       "      <td>11AM-9PM</td>\n",
       "      <td>...</td>\n",
       "      <td>10.00</td>\n",
       "      <td>NaN</td>\n",
       "      <td>10.00</td>\n",
       "      <td>10.00</td>\n",
       "      <td>10.00</td>\n",
       "      <td>10.00</td>\n",
       "      <td>60.00</td>\n",
       "      <td>Yokohama Ramen, 6434, East Central Avenue, For...</td>\n",
       "      <td>37.694984</td>\n",
       "      <td>-97.261466</td>\n",
       "    </tr>\n",
       "    <tr>\n",
       "      <th>49</th>\n",
       "      <td>49</td>\n",
       "      <td>Great Wall Chinese Restaurant</td>\n",
       "      <td>1.60</td>\n",
       "      <td>410 N Hillside St, Wichita, KS 67214</td>\n",
       "      <td>11AM-10PM</td>\n",
       "      <td>0</td>\n",
       "      <td>11AM-10PM</td>\n",
       "      <td>11AM-10PM</td>\n",
       "      <td>11AM-10:30PM</td>\n",
       "      <td>11AM-10:30PM</td>\n",
       "      <td>...</td>\n",
       "      <td>NaN</td>\n",
       "      <td>11.00</td>\n",
       "      <td>11.00</td>\n",
       "      <td>11.50</td>\n",
       "      <td>11.50</td>\n",
       "      <td>10.00</td>\n",
       "      <td>66.00</td>\n",
       "      <td>Pizza Hut, 410 #1300, North Hillside Street, W...</td>\n",
       "      <td>37.692759</td>\n",
       "      <td>-97.298313</td>\n",
       "    </tr>\n",
       "    <tr>\n",
       "      <th>50</th>\n",
       "      <td>50</td>\n",
       "      <td>Malaysia Cafe</td>\n",
       "      <td>1.90</td>\n",
       "      <td>7777 E 21st St N, Wichita, KS 67206</td>\n",
       "      <td>0</td>\n",
       "      <td>11 AM–3 PM, 4–8 PM</td>\n",
       "      <td>11 AM–3 PM, 4–8 PM</td>\n",
       "      <td>11AM-8PM</td>\n",
       "      <td>11AM-8PM</td>\n",
       "      <td>11AM-8PM</td>\n",
       "      <td>...</td>\n",
       "      <td>NaN</td>\n",
       "      <td>NaN</td>\n",
       "      <td>9.00</td>\n",
       "      <td>9.00</td>\n",
       "      <td>9.00</td>\n",
       "      <td>NaN</td>\n",
       "      <td>27.00</td>\n",
       "      <td>Malaysia Cafe, 7777, East 21st Street North, M...</td>\n",
       "      <td>37.722461</td>\n",
       "      <td>-97.246800</td>\n",
       "    </tr>\n",
       "    <tr>\n",
       "      <th>51</th>\n",
       "      <td>51</td>\n",
       "      <td>Jersey Mike's Subs</td>\n",
       "      <td>0.03</td>\n",
       "      <td>4521 E 21st St N, Wichita, KS 67208</td>\n",
       "      <td>10AM-9PM</td>\n",
       "      <td>10AM-9PM</td>\n",
       "      <td>10AM-9PM</td>\n",
       "      <td>10AM-9PM</td>\n",
       "      <td>10AM-9PM</td>\n",
       "      <td>10AM-9PM</td>\n",
       "      <td>...</td>\n",
       "      <td>11.00</td>\n",
       "      <td>11.00</td>\n",
       "      <td>11.00</td>\n",
       "      <td>11.00</td>\n",
       "      <td>11.00</td>\n",
       "      <td>11.00</td>\n",
       "      <td>77.00</td>\n",
       "      <td>4521, East 21st Street North, Wichita, Sedgwic...</td>\n",
       "      <td>37.722825</td>\n",
       "      <td>-97.283857</td>\n",
       "    </tr>\n",
       "    <tr>\n",
       "      <th>52</th>\n",
       "      <td>52</td>\n",
       "      <td>Two Hands Corn Dogs</td>\n",
       "      <td>0.03</td>\n",
       "      <td>4510 E 19th St N, Wichita, KS 67208</td>\n",
       "      <td>11AM-9PM</td>\n",
       "      <td>11AM-9PM</td>\n",
       "      <td>11AM-9PM</td>\n",
       "      <td>11AM-9PM</td>\n",
       "      <td>11AM-9PM</td>\n",
       "      <td>11AM-9PM</td>\n",
       "      <td>...</td>\n",
       "      <td>10.00</td>\n",
       "      <td>10.00</td>\n",
       "      <td>10.00</td>\n",
       "      <td>10.00</td>\n",
       "      <td>10.00</td>\n",
       "      <td>10.00</td>\n",
       "      <td>70.00</td>\n",
       "      <td>East 19th Street North, College Terrace, Wichi...</td>\n",
       "      <td>37.718593</td>\n",
       "      <td>-97.303609</td>\n",
       "    </tr>\n",
       "  </tbody>\n",
       "</table>\n",
       "<p>53 rows × 28 columns</p>\n",
       "</div>"
      ],
      "text/plain": [
       "    Unnamed: 0                            RESTAURANT NAME  DISTANCE FROM WSU  \\\n",
       "0            0                        Social Tap Drinkery               0.30   \n",
       "1            1                             sonic drive in               0.05   \n",
       "2            2                                   Sungrano               0.30   \n",
       "3            3                           Fuzz's taco shop               0.30   \n",
       "4            4                      Magnolia café wichita               1.30   \n",
       "5            5                                chick-fil-A               0.40   \n",
       "6            6                                      prost               1.80   \n",
       "7            7                                  Five guys               3.40   \n",
       "8            8                      Georges french bistro               1.60   \n",
       "9            9                                   spangles               0.90   \n",
       "10          10                  popeyes louisiana kitchen               0.60   \n",
       "11          11                      Dempsey's burger pub                2.40   \n",
       "12          12                           passage to india               0.90   \n",
       "13          13                                Mc Donald's               0.03   \n",
       "14          14                            chicken chicken               1.00   \n",
       "15          15                                 Doc Greens               1.60   \n",
       "16          16                          wine Dive+Kitchen               2.10   \n",
       "17          17                    Local Flavor restaurant               1.90   \n",
       "18          18               sesame mediterranean kitchen               0.30   \n",
       "19          19                              Panda express               0.30   \n",
       "20          20                             Tad's carryout               0.60   \n",
       "21          21            Meals and deals on the roll llc               0.80   \n",
       "22          22  Freddy's  frozen custard and steakburgers               0.30   \n",
       "23          23                   Sazon Mexican restaurant               0.30   \n",
       "24          24                        Da cajun restaurant               0.90   \n",
       "25          25                               Fat boyz BBQ               0.70   \n",
       "26          26                              Kababji grill               1.00   \n",
       "27          27                                Deshi Curry               0.90   \n",
       "28          28                                     Sbarro               0.20   \n",
       "29          29                           Church's Chicken               0.50   \n",
       "30          30                                  Taco Bell               2.10   \n",
       "31          31                   Just like Mama's Kitchen               1.40   \n",
       "32          32                               Jason's Deli               2.00   \n",
       "33          33                                  Asian Wok               2.90   \n",
       "34          34                 China One (New China King)               0.90   \n",
       "35          35                                  Taco Shop               1.20   \n",
       "36          36                                Burger King               1.10   \n",
       "37          37                                    Subway                3.30   \n",
       "38          38                                        KFC               0.90   \n",
       "39          39                       The Hill Bar & Grill               2.00   \n",
       "40          40                                The Belmont               2.30   \n",
       "41          41                  Vora Restaurant European                2.10   \n",
       "42          42                         First Mile Kitchen               2.20   \n",
       "43          43                            Bella Luna Cafe               2.10   \n",
       "44          44                    Chipotle Mexican Grill                3.00   \n",
       "45          45                      HuHot Mongolian Grill               2.10   \n",
       "46          46                      Redrock Canyon Grill                2.20   \n",
       "47          47     On The Border Mexican Grill & Cantina                2.40   \n",
       "48          48                     Yokohama Ramen Izakaya               2.30   \n",
       "49          49             Great Wall Chinese Restaurant                1.60   \n",
       "50          50                              Malaysia Cafe               1.90   \n",
       "51          51                         Jersey Mike's Subs               0.03   \n",
       "52          52                        Two Hands Corn Dogs               0.03   \n",
       "\n",
       "                                        ADDRESS           MONDAY  \\\n",
       "0           4510 E 19th St N, Wichita, KS 67208        11AM-11PM   \n",
       "1           2939 E 21st St N, Wichita, KS 67214         6AM-11PM   \n",
       "2           4510 E 19th St N, Wichita, KS 67208        11AM-10PM   \n",
       "3           4521 E 21st St N, Wichita, KS 67208  10:30AM-10:30PM   \n",
       "4       2424 N Woodlawn Blvd, Wichita, KS 67220                0   \n",
       "5          1845 Fairmount St, Wichita, KS 67260      6:30AM-10PM   \n",
       "6         2721 E Central Ave, Wichita, KS 67214                0   \n",
       "7             2929 N Rock Rd, Wichita, KS 67226        11AM-10PM   \n",
       "8         4618 E Central Ave, Wichita, KS 67208         4PM-10PM   \n",
       "9           6120 E 21st St N, Wichita, KS 67208      6:30AM-10PM   \n",
       "10        1350 N Hillside St, Wichita, KS 67214     10:30AM-10PM   \n",
       "11        3700 E Douglas Ave, Wichita, KS 67208        11AM-10PM   \n",
       "12          6100 E 21st St N, Wichita, KS 67208                0   \n",
       "13        1811 N Hillside St, Wichita, KS 67214         4AM-11PM   \n",
       "14          2419 E 13th St N, Wichita, KS 67214          8AM-2AM   \n",
       "15         410 N Hillside St, Wichita, KS 67214      10:30AM-9PM   \n",
       "16        4714 E Douglas Ave, Wichita, KS 67208        11AM-10PM   \n",
       "17        5400 E Central Ave, Wichita, KS 67208                0   \n",
       "18          4510 E 19th St N, Wichita, KS 67208         11AM-8PM   \n",
       "19         1845 Fairmount St, Wichita, KS 67260         11AM-3PM   \n",
       "20        2545 N Hillside St, Wichita, KS 67219         11AM-8PM   \n",
       "21          5706 E 19th St N, Wichita, KS 67208             Null   \n",
       "22         1845 Fairmount St, Wichita, KS 67260         10AM-7PM   \n",
       "23          2624 E 21st St N, Wichita, KS 67214                0   \n",
       "24          6249 E 21st St N, Wichita, KS 67208    11 AM–2:30 PM   \n",
       "25          1901 E 21st St N, Wichita, KS 67214              NaN   \n",
       "26          6257 E 21st St N, Wichita, KS 67208         11AM-9PM   \n",
       "27          6249 E 21st St N, Wichita, KS 67208        11AM-11PM   \n",
       "28          4802 E 21st St N, Wichita, KS 67208          7am-9pm   \n",
       "29          4780 E 13th St N, Wichita, KS 67208     10:30AM-10PM   \n",
       "30            2230 N Rock Rd, Wichita, KS 67226         7am-12pm   \n",
       "31           2504 E 9th St N, Wichita, KS 67214         11AM-8PM   \n",
       "32            1821 N Rock Rd, Wichita, KS 67206        10am-10pm   \n",
       "33            2929 N Rock Rd, Wichita, KS 67226                0   \n",
       "34          6249 E 21st St N, Wichita, KS 67208        11AM-10PM   \n",
       "35          6825 E 21st St N, Wichita, KS 67206     10:30AM-10PM   \n",
       "36        2111 N Woodlawn St, Wichita, KS 67208         full day   \n",
       "37            3233 N Rock Rd, Wichita, KS 67226         9am-10pm   \n",
       "38          6131 E 21st St N, Wichita, KS 67208     10:30AM-10PM   \n",
       "39        4800 E Douglas Ave, Wichita, KS 67208        11AM-11PM   \n",
       "40        3555 E Douglas Ave, Wichita, KS 67218                0   \n",
       "41        3252 E Douglas Ave, Wichita, KS 67214          3PM-9PM   \n",
       "42  2141 N Bradley Fair Pkwy, Wichita, KS 67206         11AM-8PM   \n",
       "43            2132 N Rock Rd, Wichita, KS 67206         11AM-9PM   \n",
       "44            3015 N Rock Rd, Wichita, KS 67226  10:45AM-10:30PM   \n",
       "45            2035 N Rock Rd, Wichita, KS 67206         11AM-9PM   \n",
       "46            1844 N Rock Rd, Wichita, KS 67206         5PM-10PM   \n",
       "47            1930 N Rock Rd, Wichita, KS 67206        11AM-11PM   \n",
       "48        6434 E Central Ave, Wichita, KS 67206         11AM-9PM   \n",
       "49         410 N Hillside St, Wichita, KS 67214        11AM-10PM   \n",
       "50          7777 E 21st St N, Wichita, KS 67206                0   \n",
       "51          4521 E 21st St N, Wichita, KS 67208         10AM-9PM   \n",
       "52          4510 E 19th St N, Wichita, KS 67208         11AM-9PM   \n",
       "\n",
       "                  TUESDAY               WEDNESDAY                THURSDAY  \\\n",
       "0               11AM-11PM               11AM-11PM               11AM-11PM   \n",
       "1                6AM-11PM                6AM-11PM                6AM-11PM   \n",
       "2               11AM-10PM               11AM-10PM               11AM-10PM   \n",
       "3         10:30AM-10:30PM         10:30AM-10:30PM            10:30AM-11PM   \n",
       "4                11AM-9PM                11AM-9PM                11AM-9PM   \n",
       "5             6:30AM-10PM             6:30AM-10PM             6:30AM-10PM   \n",
       "6                11AM-9PM                11AM-9PM                11AM-9PM   \n",
       "7               11AM-10PM               11AM-10PM               11AM-10PM   \n",
       "8                4PM-10PM                4PM-10PM                4PM-10PM   \n",
       "9             6:30AM-10PM             6:30AM-10PM             6:30AM-10PM   \n",
       "10           10:30AM-10PM            10:30AM-10PM            10:30AM-10PM   \n",
       "11              11AM-10PM               11AM-10PM               11AM-10PM   \n",
       "12  11 AM–2:30 PM, 5–9 PM   11 AM–2:30 PM, 5–9 PM   11 AM–2:30 PM, 5–9 PM   \n",
       "13               5AM-11PM                6AM-10PM            12AM-11:59PM   \n",
       "14                8AM-2AM                 8AM-2AM                 8AM-2AM   \n",
       "15            10:30AM-9PM             10:30AM-9PM             10:30AM-9PM   \n",
       "16              11AM-10PM               11AM-10PM               11AM-10PM   \n",
       "17               11AM-9PM                11AM-9PM               11AM-12AM   \n",
       "18               11AM-8PM                11AM-8PM                11AM-8PM   \n",
       "19               11AM-3PM                11AM-3PM                11AM-3PM   \n",
       "20               11AM-8PM                11AM-8PM                11AM-8PM   \n",
       "21                   Null                    Null                    Null   \n",
       "22               10AM-7PM                10AM-7PM                10AM-7PM   \n",
       "23                      0                 9AM-7PM                 9AM-7PM   \n",
       "24               11AM-8PM                11AM-8PM                11AM-8PM   \n",
       "25                    NaN                     NaN                     NaN   \n",
       "26               11AM-9PM                11AM-9PM                11AM-9PM   \n",
       "27              11AM-11PM               11AM-11PM               11AM-11PM   \n",
       "28                7am-9pm                 7am-9pm                 7am-9pm   \n",
       "29           10:30AM-10PM            10:30AM-10PM            10:30AM-10PM   \n",
       "30               7am-12pm                7am-12pm                7am-12pm   \n",
       "31               11AM-8PM                11AM-8PM                11AM-8PM   \n",
       "32              10am-10pm               10am-10pm               10am-10pm   \n",
       "33                4PM-8PM                 4PM-8PM                 4PM-8PM   \n",
       "34                      0               11AM-10PM               11AM-10PM   \n",
       "35           10:30AM-10PM          10:30AM-9:30PM            10:30AM-10PM   \n",
       "36               full day                full day                full day   \n",
       "37               9am-10pm                9am-10pm                9am-10pm   \n",
       "38           10:30AM-10PM            10:30AM-10PM            10:30AM-10PM   \n",
       "39              11AM-11PM               11AM-11PM               11AM-11PM   \n",
       "40              11AM-10PM               11AM-10PM               11AM-10PM   \n",
       "41               3PM-10PM                3PM-10PM                3PM-10PM   \n",
       "42               11AM-9PM                11AM-9PM                11AM-9PM   \n",
       "43               11AM-9PM                11AM-9PM                11AM-9PM   \n",
       "44        10:45AM-10:30PM         10:45AM-10:30PM         10:45AM-10:30PM   \n",
       "45               11AM-9PM                11AM-9PM                11AM-9PM   \n",
       "46               5PM-10PM                5PM-10PM                5PM-10PM   \n",
       "47              11AM-10PM               11AM-11PM               11AM-11PM   \n",
       "48               11AM-9PM                       0                11AM-9PM   \n",
       "49                      0               11AM-10PM               11AM-10PM   \n",
       "50     11 AM–3 PM, 4–8 PM      11 AM–3 PM, 4–8 PM                11AM-8PM   \n",
       "51               10AM-9PM                10AM-9PM                10AM-9PM   \n",
       "52               11AM-9PM                11AM-9PM                11AM-9PM   \n",
       "\n",
       "                     FRIDAY                 SATURDAY  ... Hours_Tuesday  \\\n",
       "0                 11AM-11PM                11AM-11PM  ...         12.00   \n",
       "1                  6AM-11PM                 7AM-11PM  ...         17.00   \n",
       "2                 11AM-10PM                11AM-10PM  ...         11.00   \n",
       "3              10:30AM-11PM             10:30AM-11PM  ...         12.00   \n",
       "4                  11AM-9PM            9AM-2PM,5-9PM  ...         10.00   \n",
       "5               6:30AM-10PM              6:30AM-10PM  ...         15.50   \n",
       "6                  11AM-9PM                 11AM-9PM  ...         10.00   \n",
       "7                 11AM-10PM                11AM-10PM  ...         11.00   \n",
       "8                  4PM-10PM                 4PM-11PM  ...          6.00   \n",
       "9               6:30AM-10PM              6:30AM-10PM  ...         15.50   \n",
       "10             10:30AM-10PM             10:30AM-10PM  ...         11.50   \n",
       "11                11AM-11PM                11AM-11PM  ...         11.00   \n",
       "12   11 AM–2:30 PM, 5–10 PM   11 AM–2:30 PM, 5–10 PM  ...           NaN   \n",
       "13             12AM-11:59PM             12AM-11:59PM  ...         18.00   \n",
       "14                  8AM-2AM                  8AM-2AM  ...         18.00   \n",
       "15              10:30AM-9PM              10:30AM-9PM  ...         10.50   \n",
       "16                11AM-12AM                11AM-12AM  ...         11.00   \n",
       "17                11AM-12AM                11AM-12AM  ...         10.00   \n",
       "18                 11AM-8PM                 11AM-8PM  ...          9.00   \n",
       "19                 11AM-3PM                        0  ...          4.00   \n",
       "20                 11AM-8PM                 11AM-8PM  ...          9.00   \n",
       "21                     Null                     Null  ...          0.00   \n",
       "22                 10AM-5PM                        0  ...          9.00   \n",
       "23                  9AM-7PM                  9AM-7PM  ...           NaN   \n",
       "24                 11AM-9PM                 11AM-9PM  ...          9.00   \n",
       "25                      NaN                      NaN  ...          0.00   \n",
       "26             11AM-10:30PM             11AM-10:30PM  ...         10.00   \n",
       "27                11AM-11PM                11AM-11PM  ...         12.00   \n",
       "28                  7am-9pm                  7am-9pm  ...           NaN   \n",
       "29             10:30AM-11PM             10:30AM-11PM  ...         11.50   \n",
       "30                 7am-12pm                 7am-12pm  ...           NaN   \n",
       "31                 11AM-9PM                 11AM-9PM  ...          9.00   \n",
       "32                10am-10pm                10am-10pm  ...           NaN   \n",
       "33                 11AM-8PM                 11AM-8PM  ...          4.00   \n",
       "34             11AM-10:30PM             11AM-10:30PM  ...           NaN   \n",
       "35             10:30AM-10PM             10:30AM-10PM  ...         11.50   \n",
       "36                 full day                 full day  ...           NaN   \n",
       "37                 9am-10pm                 9am-10pm  ...           NaN   \n",
       "38             10:30AM-10PM             10:30AM-10PM  ...         11.50   \n",
       "39                 11AM-1PM                 11AM-1PM  ...         12.00   \n",
       "40                11AM-11PM                10am-11pm  ...         11.00   \n",
       "41                 3PM-11PM                10AM-11PM  ...          7.00   \n",
       "42                 11AM-9PM                  9AM-9PM  ...         10.00   \n",
       "43                 11AM-9PM                 11AM-9PM  ...         10.00   \n",
       "44          10:45AM-10:30PM          10:45AM-10:30PM  ...         11.75   \n",
       "45                11AM-10PM                11AM-10PM  ...         10.00   \n",
       "46                 5PM-11PM                11AM-11PM  ...          5.00   \n",
       "47                11AM-11PM                11AM-11PM  ...         11.00   \n",
       "48                 11AM-9PM                 11AM-9PM  ...         10.00   \n",
       "49             11AM-10:30PM             11AM-10:30PM  ...           NaN   \n",
       "50                 11AM-8PM                 11AM-8PM  ...           NaN   \n",
       "51                 10AM-9PM                 10AM-9PM  ...         11.00   \n",
       "52                 11AM-9PM                 11AM-9PM  ...         10.00   \n",
       "\n",
       "   Hours_Wednesday  Hours_Thursday  Hours_Friday  Hours_Saturday  \\\n",
       "0            12.00           12.00         12.00           12.00   \n",
       "1            17.00           17.00         17.00           16.00   \n",
       "2            11.00           11.00         11.00           11.00   \n",
       "3            12.00           12.50         12.50           12.50   \n",
       "4            10.00           10.00         10.00            5.00   \n",
       "5            15.50           15.50         15.50           15.50   \n",
       "6            10.00           10.00         10.00           10.00   \n",
       "7            11.00           11.00         11.00           11.00   \n",
       "8             6.00            6.00          6.00            7.00   \n",
       "9            15.50           15.50         15.50           15.50   \n",
       "10           11.50           11.50         11.50           11.50   \n",
       "11           11.00           11.00         12.00           12.00   \n",
       "12             NaN             NaN           NaN             NaN   \n",
       "13           16.00           11.99         11.99           11.99   \n",
       "14           18.00           18.00         18.00           18.00   \n",
       "15           10.50           10.50         10.50           10.50   \n",
       "16           11.00           11.00         13.00           13.00   \n",
       "17           10.00           13.00         13.00           13.00   \n",
       "18            9.00            9.00          9.00            9.00   \n",
       "19            4.00            4.00          4.00             NaN   \n",
       "20            9.00            9.00          9.00            9.00   \n",
       "21            0.00            0.00          0.00            0.00   \n",
       "22            9.00            9.00          7.00             NaN   \n",
       "23           10.00           10.00         10.00           10.00   \n",
       "24            9.00            9.00         10.00           10.00   \n",
       "25            0.00            0.00          0.00            0.00   \n",
       "26           10.00           10.00         11.50           11.50   \n",
       "27           12.00           12.00         12.00           12.00   \n",
       "28             NaN             NaN           NaN             NaN   \n",
       "29           11.50           11.50         12.50           12.50   \n",
       "30             NaN             NaN           NaN             NaN   \n",
       "31            9.00            9.00         10.00           10.00   \n",
       "32             NaN             NaN           NaN             NaN   \n",
       "33            4.00            4.00          9.00            9.00   \n",
       "34           11.00           11.00         11.50           11.50   \n",
       "35           11.00           11.50         11.50           11.50   \n",
       "36             NaN             NaN           NaN             NaN   \n",
       "37             NaN             NaN           NaN             NaN   \n",
       "38           11.50           11.50         11.50           11.50   \n",
       "39           12.00           12.00          2.00            2.00   \n",
       "40           11.00           11.00         12.00             NaN   \n",
       "41            7.00            7.00          8.00           13.00   \n",
       "42           10.00           10.00         10.00           12.00   \n",
       "43           10.00           10.00         10.00           10.00   \n",
       "44           11.75           11.75         11.75           11.75   \n",
       "45           10.00           10.00         11.00           11.00   \n",
       "46            5.00            5.00          6.00           12.00   \n",
       "47           12.00           12.00         12.00           12.00   \n",
       "48             NaN           10.00         10.00           10.00   \n",
       "49           11.00           11.00         11.50           11.50   \n",
       "50             NaN            9.00          9.00            9.00   \n",
       "51           11.00           11.00         11.00           11.00   \n",
       "52           10.00           10.00         10.00           10.00   \n",
       "\n",
       "    Hours_Sunday  TotalHours  \\\n",
       "0           9.00       81.00   \n",
       "1          16.00      117.00   \n",
       "2           9.00       75.00   \n",
       "3           9.00       82.50   \n",
       "4           5.00       50.00   \n",
       "5            NaN       93.00   \n",
       "6            NaN       50.00   \n",
       "7          11.00       77.00   \n",
       "8            NaN       37.00   \n",
       "9          15.00      108.00   \n",
       "10         11.50       80.50   \n",
       "11         11.00       79.00   \n",
       "12           NaN        0.00   \n",
       "13         11.99      100.96   \n",
       "14         18.00      126.00   \n",
       "15         10.50       73.50   \n",
       "16         11.00       81.00   \n",
       "17          5.00       64.00   \n",
       "18          9.00       63.00   \n",
       "19           NaN       20.00   \n",
       "20          9.00       63.00   \n",
       "21          0.00        0.00   \n",
       "22           NaN       43.00   \n",
       "23         10.00       50.00   \n",
       "24           NaN       47.00   \n",
       "25          0.00        0.00   \n",
       "26          9.00       72.00   \n",
       "27         12.00       84.00   \n",
       "28           NaN        0.00   \n",
       "29         11.00       82.00   \n",
       "30           NaN        0.00   \n",
       "31           NaN       56.00   \n",
       "32           NaN        0.00   \n",
       "33           NaN       30.00   \n",
       "34         11.00       67.00   \n",
       "35         11.50       80.00   \n",
       "36           NaN        0.00   \n",
       "37           NaN        0.00   \n",
       "38         11.50       80.50   \n",
       "39         11.00       63.00   \n",
       "40         11.00       56.00   \n",
       "41         11.00       59.00   \n",
       "42         11.00       72.00   \n",
       "43          4.00       64.00   \n",
       "44         11.75       82.25   \n",
       "45         10.00       72.00   \n",
       "46         10.00       48.00   \n",
       "47         10.00       81.00   \n",
       "48         10.00       60.00   \n",
       "49         10.00       66.00   \n",
       "50           NaN       27.00   \n",
       "51         11.00       77.00   \n",
       "52         10.00       70.00   \n",
       "\n",
       "                                             location   LATITUDE  LONGITUDE  \n",
       "0   East 19th Street North, College Terrace, Wichi...  37.718593 -97.303609  \n",
       "1   2939, East 21st Street North, Wichita, Sedgwic...  37.722663 -97.302018  \n",
       "2   East 19th Street North, College Terrace, Wichi...  37.718593 -97.303609  \n",
       "3   4521, East 21st Street North, Wichita, Sedgwic...  37.722825 -97.283857  \n",
       "4   2424, North Woodlawn Boulevard, Wichita, Sedgw...  37.726386 -97.262204  \n",
       "5   Wichita State University, 1845, Fairmount Stre...  37.719343 -97.289888  \n",
       "6   2721, East Central Avenue, Wichita, Sedgwick C...  37.693586 -97.304489  \n",
       "7   2929, North Rock Road, Wichita, Sedgwick Count...  37.735853 -97.244754  \n",
       "8   4618, East Central Avenue, Forest Hills, Wichi...  37.693866 -97.282464  \n",
       "9   Spangles, 6120, East 21st Street North, Minneh...  37.723439 -97.264962  \n",
       "10  Popeyes Louisiana Kitchen, 1350, North Hillsid...  37.707494 -97.298704  \n",
       "11  Flavors Coffee and Ice Cream Bar, 3700, East D...  37.686729 -97.293715  \n",
       "12  Asia Bazaar, 6100, East 21st Street North, Min...  37.724043 -97.265513  \n",
       "13  1811, North Hillside Street, Wichita, Sedgwick...  37.721248 -97.298941  \n",
       "14  2419, East 13th Street North, Wichita, Sedgwic...  37.708101 -97.307871  \n",
       "15  Pizza Hut, 410 #1300, North Hillside Street, W...  37.692759 -97.298313  \n",
       "16  Caffe Posto, 4714, East Douglas Avenue, Wichit...  37.686720 -97.281308  \n",
       "17  Central Village, 5400, East Central Avenue, Fo...  37.694186 -97.273270  \n",
       "18  East 19th Street North, College Terrace, Wichi...  37.718593 -97.303609  \n",
       "19  Wichita State University, 1845, Fairmount Stre...  37.719343 -97.289888  \n",
       "20  2545, North Hillside Street, Wichita, Sedgwick...  37.729448 -97.299158  \n",
       "21  5706, East 19th Street North, Crestview Height...  37.719828 -97.269048  \n",
       "22  Wichita State University, 1845, Fairmount Stre...  37.719343 -97.289888  \n",
       "23  2624, East 21st Street North, Wichita, Sedgwic...  37.722805 -97.306197  \n",
       "24  Asian Groceries, 6249, East 21st Street North,...  37.722637 -97.264134  \n",
       "25  Mr MC's Market, 1901, East 21st Street North, ...  37.722401 -97.314800  \n",
       "26  6257, East 21st Street North, Minneha, Wichita...  37.722920 -97.263820  \n",
       "27  Asian Groceries, 6249, East 21st Street North,...  37.722637 -97.264134  \n",
       "28  Kwik Shop, 4802, East 21st Street North, Wichi...  37.723331 -97.280030  \n",
       "29  4780, East 13th Street North, Wichita, Sedgwic...  37.708437 -97.280916  \n",
       "30  2230, North Rock Road, Minneha, Wichita, Sedgw...  37.723915 -97.244496  \n",
       "31  2504, East 9th Street North, Wichita, Sedgwick...  37.701003 -97.306830  \n",
       "32  1821, North Rock Road, Minneha, Wichita, Sedgw...  37.716100 -97.244738  \n",
       "33  2929, North Rock Road, Wichita, Sedgwick Count...  37.735853 -97.244754  \n",
       "34  Asian Groceries, 6249, East 21st Street North,...  37.722637 -97.264134  \n",
       "35  Taco Shop, 6825, East 21st Street North, Minne...  37.722525 -97.258737  \n",
       "36  North Woodlawn Street, Arthur Heights, Bel Air...  37.764142 -97.262471  \n",
       "37  3233, North Rock Road, Wichita, Sedgwick Count...  37.742355 -97.244769  \n",
       "38  6131, East 21st Street North, Minneha, Wichita...  37.722918 -97.265045  \n",
       "39  4800, East Douglas Avenue, Wichita, Sedgwick C...  37.686599 -97.280349  \n",
       "40  3555, East Douglas Avenue, Wichita, Sedgwick C...  37.686357 -97.294800  \n",
       "41  3252, East Douglas Avenue, Wichita, Sedgwick C...  37.686405 -97.297745  \n",
       "42  2141, North Bradley Fair Parkway, Minneha, Wic...  37.721869 -97.241590  \n",
       "43  2132, North Rock Road, Minneha, Wichita, Sedgw...  37.722141 -97.244505  \n",
       "44  Chipotle, 3015, North Rock Road, Wichita, Sedg...  37.738173 -97.245314  \n",
       "45  Nothing Bundt Cakes, 2035, North Rock Road, Mi...  37.720405 -97.245511  \n",
       "46  Red Rock Canyon, 1844, North Rock Road, Minneh...  37.717330 -97.244020  \n",
       "47  1930, North Rock Road, Minneha, Wichita, Sedgw...  37.718830 -97.244511  \n",
       "48  Yokohama Ramen, 6434, East Central Avenue, For...  37.694984 -97.261466  \n",
       "49  Pizza Hut, 410 #1300, North Hillside Street, W...  37.692759 -97.298313  \n",
       "50  Malaysia Cafe, 7777, East 21st Street North, M...  37.722461 -97.246800  \n",
       "51  4521, East 21st Street North, Wichita, Sedgwic...  37.722825 -97.283857  \n",
       "52  East 19th Street North, College Terrace, Wichi...  37.718593 -97.303609  \n",
       "\n",
       "[53 rows x 28 columns]"
      ]
     },
     "execution_count": 23,
     "metadata": {},
     "output_type": "execute_result"
    }
   ],
   "source": [
    "from tqdm.notebook import tqdm\n",
    "\n",
    "tqdm.pandas()\n",
    "\n",
    "locator = Nominatim(user_agent='spatialthoughts', timeout=10)\n",
    "#Nomatim is rate limited to 1 req per second\n",
    "geocode = RateLimiter(locator.geocode, min_delay_seconds=1)\n",
    "\n",
    "#restaurants_pd = restaurants.copy()\n",
    "\n",
    "#UNCOMMENT LINE BELOW TO REQUEST LAT AND LONG UPDATES, Don't run this too many times, can get blacklisted with too many repeat attempts. Supposed to cache the result\n",
    "#restaurants_pd['location'] = restaurants_pd['ADDRESS'].progress_apply(geocode)\n",
    "#restaurants_pd['LATITUDE'] = restaurants_pd['location'].apply(lambda loc: loc.latitude if loc else None)\n",
    "#restaurants_pd['LONGITUDE'] = restaurants_pd['location'].apply(lambda loc: loc.longitude if loc else None)\n",
    "\n",
    "#restaurants_pd.to_csv('restaurants_with_geolocation.csv')\n",
    "\n",
    "#Otherwise just read file that I saved\n",
    "restaurants_geolocation = pd.read_csv('restaurants_with_geolocation.csv')\n",
    "\n",
    "restaurants_geolocation"
   ]
  },
  {
   "cell_type": "code",
   "execution_count": 24,
   "metadata": {},
   "outputs": [],
   "source": [
    "apartments['Address']\n",
    "\n",
    "import re\n",
    "apartments_pd = apartments.copy()\n",
    "\n",
    "#Drop old lat and long fields\n",
    "apartments_pd.drop(columns=['Latitude'], inplace=True)\n",
    "apartments_pd.drop(columns=['Longitude'], inplace=True)\n",
    "\n",
    "#Remove odd numbers before address\n",
    "apartments_pd['Address']=apartments_pd['Address'].str.replace('106, 1861, ', '', regex=False)\n",
    "#Remove suite numbers\n",
    "regex_pat = re.compile(\"(#)(\\d\\d|\\d\\d\\d|\\d\\d\\d\\d)\", flags=re.IGNORECASE)\n",
    "apartments_pd['Address']=apartments_pd['Address'].replace(regex_pat, '', regex=True)\n",
    "regex_pat = re.compile(\"(\\d,|\\d\\d,|\\d\\d\\d,|\\d\\d\\d\\d,)\", flags=re.IGNORECASE)\n",
    "apartments_pd['Address']=apartments_pd['Address'].replace(regex_pat, ',', regex=True)\n",
    "regex_pat = re.compile(\"((S|s)uite|Ste)\", flags=re.IGNORECASE)\n",
    "apartments_pd['Address']=apartments_pd['Address'].replace(regex_pat, '', regex=True)\n",
    "\n",
    "\n",
    "#Brute force cleaning, not smart enough to do this efficiently\n",
    "#Remove building names and random space\n",
    "apartments_pd['Address']=apartments_pd['Address'].replace('  ,', ',', regex=True)\n",
    "apartments_pd['Address']=apartments_pd['Address'].replace(' ,', ',', regex=True)\n",
    "apartments_pd['Address']=apartments_pd['Address'].replace(',(w|W)', ', W', regex=True)\n",
    "apartments_pd['Address']=apartments_pd['Address'].replace(',(ks|KS)', ', KS', regex=True)\n",
    "apartments_pd['Address']=apartments_pd['Address'].replace('KS,', 'KS ', regex=True)\n",
    "apartments_pd['Address']=apartments_pd['Address'].replace('\\n', '', regex=True)\n",
    "apartments_pd['Address']=apartments_pd['Address'].replace(' 6, United States', '', regex=True)\n",
    "apartments_pd['Address']=apartments_pd['Address'].replace('KS  ', 'KS ', regex=True)\n",
    "apartments_pd['Address']=apartments_pd['Address'].replace('AVE,', 'Ave', regex=True)\n",
    "apartments_pd['Address']=apartments_pd['Address'].replace('Woodlawn, Blvd,', 'Woodlawn Blvd,', regex=True)\n",
    "apartments_pd['Address']=apartments_pd['Address'].replace('Carter, Wichita', 'Carter St Wichita', regex=True)\n",
    "apartments_pd['Address']=apartments_pd['Address'].replace('Ave, Wichita', 'Ave Wichita', regex=True)\n",
    "apartments_pd['Address']=apartments_pd['Address'].replace('St # A, Wichita', 'St Wichita', regex=True)\n",
    "apartments_pd['Address']=apartments_pd['Address'].replace('331N Rock is ave,', '331 N Rock Island', regex=True)\n",
    "apartments_pd['Address']=apartments_pd['Address'].replace('612E', '612 E', regex=True)\n",
    "apartments_pd['Address']=apartments_pd['Address'].replace('3032 N Arkansas', '3032 Arkansas', regex=True)\n",
    "apartments_pd['Address']=apartments_pd['Address'].replace('2011 N Innovation Blvd', '2011 Innovation Blvd', regex=True)\n",
    "apartments_pd['Address']=apartments_pd['Address'].replace('Doglas', 'Douglas', regex=True)\n",
    "apartments_pd['Address']=apartments_pd['Address'].replace('N Vassar (Avenue|Ave)', 'North Vassar', regex=True)\n",
    "\n",
    "#apartments_pd['Address']"
   ]
  },
  {
   "cell_type": "code",
   "execution_count": 25,
   "metadata": {},
   "outputs": [
    {
     "data": {
      "text/html": [
       "<div>\n",
       "<style scoped>\n",
       "    .dataframe tbody tr th:only-of-type {\n",
       "        vertical-align: middle;\n",
       "    }\n",
       "\n",
       "    .dataframe tbody tr th {\n",
       "        vertical-align: top;\n",
       "    }\n",
       "\n",
       "    .dataframe thead th {\n",
       "        text-align: right;\n",
       "    }\n",
       "</style>\n",
       "<table border=\"1\" class=\"dataframe\">\n",
       "  <thead>\n",
       "    <tr style=\"text-align: right;\">\n",
       "      <th></th>\n",
       "      <th>Unnamed: 0</th>\n",
       "      <th>RESTAURANT NAME</th>\n",
       "      <th>DISTANCE FROM WSU</th>\n",
       "      <th>ADDRESS</th>\n",
       "      <th>MONDAY</th>\n",
       "      <th>TUESDAY</th>\n",
       "      <th>WEDNESDAY</th>\n",
       "      <th>THURSDAY</th>\n",
       "      <th>FRIDAY</th>\n",
       "      <th>SATURDAY</th>\n",
       "      <th>...</th>\n",
       "      <th>Hours_Tuesday</th>\n",
       "      <th>Hours_Wednesday</th>\n",
       "      <th>Hours_Thursday</th>\n",
       "      <th>Hours_Friday</th>\n",
       "      <th>Hours_Saturday</th>\n",
       "      <th>Hours_Sunday</th>\n",
       "      <th>TotalHours</th>\n",
       "      <th>location</th>\n",
       "      <th>LATITUDE</th>\n",
       "      <th>LONGITUDE</th>\n",
       "    </tr>\n",
       "  </thead>\n",
       "  <tbody>\n",
       "    <tr>\n",
       "      <th>0</th>\n",
       "      <td>0</td>\n",
       "      <td>Social Tap Drinkery</td>\n",
       "      <td>0.30</td>\n",
       "      <td>4510 E 19th St N, Wichita, KS 67208</td>\n",
       "      <td>11AM-11PM</td>\n",
       "      <td>11AM-11PM</td>\n",
       "      <td>11AM-11PM</td>\n",
       "      <td>11AM-11PM</td>\n",
       "      <td>11AM-11PM</td>\n",
       "      <td>11AM-11PM</td>\n",
       "      <td>...</td>\n",
       "      <td>12.0</td>\n",
       "      <td>12.0</td>\n",
       "      <td>12.0</td>\n",
       "      <td>12.0</td>\n",
       "      <td>12.0</td>\n",
       "      <td>9.0</td>\n",
       "      <td>81.0</td>\n",
       "      <td>East 19th Street North, College Terrace, Wichi...</td>\n",
       "      <td>37.718593</td>\n",
       "      <td>-97.303609</td>\n",
       "    </tr>\n",
       "    <tr>\n",
       "      <th>1</th>\n",
       "      <td>1</td>\n",
       "      <td>sonic drive in</td>\n",
       "      <td>0.05</td>\n",
       "      <td>2939 E 21st St N, Wichita, KS 67214</td>\n",
       "      <td>6AM-11PM</td>\n",
       "      <td>6AM-11PM</td>\n",
       "      <td>6AM-11PM</td>\n",
       "      <td>6AM-11PM</td>\n",
       "      <td>6AM-11PM</td>\n",
       "      <td>7AM-11PM</td>\n",
       "      <td>...</td>\n",
       "      <td>17.0</td>\n",
       "      <td>17.0</td>\n",
       "      <td>17.0</td>\n",
       "      <td>17.0</td>\n",
       "      <td>16.0</td>\n",
       "      <td>16.0</td>\n",
       "      <td>117.0</td>\n",
       "      <td>2939, East 21st Street North, Wichita, Sedgwic...</td>\n",
       "      <td>37.722663</td>\n",
       "      <td>-97.302018</td>\n",
       "    </tr>\n",
       "    <tr>\n",
       "      <th>2</th>\n",
       "      <td>2</td>\n",
       "      <td>Sungrano</td>\n",
       "      <td>0.30</td>\n",
       "      <td>4510 E 19th St N, Wichita, KS 67208</td>\n",
       "      <td>11AM-10PM</td>\n",
       "      <td>11AM-10PM</td>\n",
       "      <td>11AM-10PM</td>\n",
       "      <td>11AM-10PM</td>\n",
       "      <td>11AM-10PM</td>\n",
       "      <td>11AM-10PM</td>\n",
       "      <td>...</td>\n",
       "      <td>11.0</td>\n",
       "      <td>11.0</td>\n",
       "      <td>11.0</td>\n",
       "      <td>11.0</td>\n",
       "      <td>11.0</td>\n",
       "      <td>9.0</td>\n",
       "      <td>75.0</td>\n",
       "      <td>East 19th Street North, College Terrace, Wichi...</td>\n",
       "      <td>37.718593</td>\n",
       "      <td>-97.303609</td>\n",
       "    </tr>\n",
       "    <tr>\n",
       "      <th>3</th>\n",
       "      <td>3</td>\n",
       "      <td>Fuzz's taco shop</td>\n",
       "      <td>0.30</td>\n",
       "      <td>4521 E 21st St N, Wichita, KS 67208</td>\n",
       "      <td>10:30AM-10:30PM</td>\n",
       "      <td>10:30AM-10:30PM</td>\n",
       "      <td>10:30AM-10:30PM</td>\n",
       "      <td>10:30AM-11PM</td>\n",
       "      <td>10:30AM-11PM</td>\n",
       "      <td>10:30AM-11PM</td>\n",
       "      <td>...</td>\n",
       "      <td>12.0</td>\n",
       "      <td>12.0</td>\n",
       "      <td>12.5</td>\n",
       "      <td>12.5</td>\n",
       "      <td>12.5</td>\n",
       "      <td>9.0</td>\n",
       "      <td>82.5</td>\n",
       "      <td>4521, East 21st Street North, Wichita, Sedgwic...</td>\n",
       "      <td>37.722825</td>\n",
       "      <td>-97.283857</td>\n",
       "    </tr>\n",
       "    <tr>\n",
       "      <th>4</th>\n",
       "      <td>4</td>\n",
       "      <td>Magnolia café wichita</td>\n",
       "      <td>1.30</td>\n",
       "      <td>2424 N Woodlawn Blvd, Wichita, KS 67220</td>\n",
       "      <td>0</td>\n",
       "      <td>11AM-9PM</td>\n",
       "      <td>11AM-9PM</td>\n",
       "      <td>11AM-9PM</td>\n",
       "      <td>11AM-9PM</td>\n",
       "      <td>9AM-2PM,5-9PM</td>\n",
       "      <td>...</td>\n",
       "      <td>10.0</td>\n",
       "      <td>10.0</td>\n",
       "      <td>10.0</td>\n",
       "      <td>10.0</td>\n",
       "      <td>5.0</td>\n",
       "      <td>5.0</td>\n",
       "      <td>50.0</td>\n",
       "      <td>2424, North Woodlawn Boulevard, Wichita, Sedgw...</td>\n",
       "      <td>37.726386</td>\n",
       "      <td>-97.262204</td>\n",
       "    </tr>\n",
       "  </tbody>\n",
       "</table>\n",
       "<p>5 rows × 28 columns</p>\n",
       "</div>"
      ],
      "text/plain": [
       "   Unnamed: 0        RESTAURANT NAME  DISTANCE FROM WSU  \\\n",
       "0           0    Social Tap Drinkery               0.30   \n",
       "1           1         sonic drive in               0.05   \n",
       "2           2               Sungrano               0.30   \n",
       "3           3       Fuzz's taco shop               0.30   \n",
       "4           4  Magnolia café wichita               1.30   \n",
       "\n",
       "                                   ADDRESS           MONDAY          TUESDAY  \\\n",
       "0      4510 E 19th St N, Wichita, KS 67208        11AM-11PM        11AM-11PM   \n",
       "1      2939 E 21st St N, Wichita, KS 67214         6AM-11PM         6AM-11PM   \n",
       "2      4510 E 19th St N, Wichita, KS 67208        11AM-10PM        11AM-10PM   \n",
       "3      4521 E 21st St N, Wichita, KS 67208  10:30AM-10:30PM  10:30AM-10:30PM   \n",
       "4  2424 N Woodlawn Blvd, Wichita, KS 67220                0         11AM-9PM   \n",
       "\n",
       "         WEDNESDAY      THURSDAY        FRIDAY       SATURDAY  ...  \\\n",
       "0        11AM-11PM     11AM-11PM     11AM-11PM      11AM-11PM  ...   \n",
       "1         6AM-11PM      6AM-11PM      6AM-11PM       7AM-11PM  ...   \n",
       "2        11AM-10PM     11AM-10PM     11AM-10PM      11AM-10PM  ...   \n",
       "3  10:30AM-10:30PM  10:30AM-11PM  10:30AM-11PM   10:30AM-11PM  ...   \n",
       "4         11AM-9PM      11AM-9PM      11AM-9PM  9AM-2PM,5-9PM  ...   \n",
       "\n",
       "  Hours_Tuesday Hours_Wednesday  Hours_Thursday  Hours_Friday  Hours_Saturday  \\\n",
       "0          12.0            12.0            12.0          12.0            12.0   \n",
       "1          17.0            17.0            17.0          17.0            16.0   \n",
       "2          11.0            11.0            11.0          11.0            11.0   \n",
       "3          12.0            12.0            12.5          12.5            12.5   \n",
       "4          10.0            10.0            10.0          10.0             5.0   \n",
       "\n",
       "   Hours_Sunday  TotalHours  \\\n",
       "0           9.0        81.0   \n",
       "1          16.0       117.0   \n",
       "2           9.0        75.0   \n",
       "3           9.0        82.5   \n",
       "4           5.0        50.0   \n",
       "\n",
       "                                            location   LATITUDE  LONGITUDE  \n",
       "0  East 19th Street North, College Terrace, Wichi...  37.718593 -97.303609  \n",
       "1  2939, East 21st Street North, Wichita, Sedgwic...  37.722663 -97.302018  \n",
       "2  East 19th Street North, College Terrace, Wichi...  37.718593 -97.303609  \n",
       "3  4521, East 21st Street North, Wichita, Sedgwic...  37.722825 -97.283857  \n",
       "4  2424, North Woodlawn Boulevard, Wichita, Sedgw...  37.726386 -97.262204  \n",
       "\n",
       "[5 rows x 28 columns]"
      ]
     },
     "execution_count": 25,
     "metadata": {},
     "output_type": "execute_result"
    }
   ],
   "source": [
    "#UNCOMMENT LINE BELOW TO REQUEST LAT AND LONG UPDATES, Don't run this too many times, can get blacklisted with too many repeat attempts. Supposed to cache the result\n",
    "# apartments_pd['location'] = apartments_pd['Address'].progress_apply(geocode)\n",
    "#apartments_pd['LATITUDE'] = apartments_pd['location'].apply(lambda loc: loc.latitude if loc else None)\n",
    "#apartments_pd['LONGITUDE'] = apartments_pd['location'].apply(lambda loc: loc.longitude if loc else None)\n",
    "\n",
    "#apartments_pd\n",
    "\n",
    "#apartments_pd.to_csv('apartments_with_geolocation.csv')\n",
    "\n",
    "#Otherwise just read file that I saved\n",
    "apartments_geolocation = pd.read_csv('restaurants_with_geolocation.csv')\n",
    "\n",
    "apartments_geolocation.head(5)"
   ]
  },
  {
   "cell_type": "markdown",
   "metadata": {},
   "source": [
    "## K-nearest neighbors"
   ]
  },
  {
   "cell_type": "code",
   "execution_count": 26,
   "metadata": {},
   "outputs": [
    {
     "ename": "AttributeError",
     "evalue": "'DataFrame' object has no attribute 'append'",
     "output_type": "error",
     "traceback": [
      "\u001b[1;31m---------------------------------------------------------------------------\u001b[0m",
      "\u001b[1;31mAttributeError\u001b[0m                            Traceback (most recent call last)",
      "\u001b[1;32m~\\AppData\\Local\\Temp\\ipykernel_11164\\2514700184.py\u001b[0m in \u001b[0;36m?\u001b[1;34m()\u001b[0m\n\u001b[0;32m      2\u001b[0m \u001b[1;31m#Append the 2 dataframes with apartment or restaurant labels\u001b[0m\u001b[1;33m\u001b[0m\u001b[1;33m\u001b[0m\u001b[0m\n\u001b[0;32m      3\u001b[0m \u001b[0mapartments_geolocation\u001b[0m\u001b[1;33m[\u001b[0m\u001b[1;34m'TYPE'\u001b[0m\u001b[1;33m]\u001b[0m\u001b[1;33m=\u001b[0m\u001b[1;36m0\u001b[0m \u001b[1;31m#One hot for apartment\u001b[0m\u001b[1;33m\u001b[0m\u001b[1;33m\u001b[0m\u001b[0m\n\u001b[0;32m      4\u001b[0m \u001b[0mrestaurants_geolocation\u001b[0m\u001b[1;33m[\u001b[0m\u001b[1;34m'TYPE'\u001b[0m\u001b[1;33m]\u001b[0m\u001b[1;33m=\u001b[0m\u001b[1;36m1\u001b[0m \u001b[1;31m#One hot for restaurant\u001b[0m\u001b[1;33m\u001b[0m\u001b[1;33m\u001b[0m\u001b[0m\n\u001b[0;32m      5\u001b[0m \u001b[1;33m\u001b[0m\u001b[0m\n\u001b[1;32m----> 6\u001b[1;33m \u001b[0mdf\u001b[0m\u001b[1;33m=\u001b[0m\u001b[0mapartments_geolocation\u001b[0m\u001b[1;33m.\u001b[0m\u001b[0mappend\u001b[0m\u001b[1;33m(\u001b[0m\u001b[0mrestaurants_geolocation\u001b[0m\u001b[1;33m,\u001b[0m \u001b[0mignore_index\u001b[0m\u001b[1;33m=\u001b[0m\u001b[1;32mTrue\u001b[0m\u001b[1;33m)\u001b[0m\u001b[1;33m\u001b[0m\u001b[1;33m\u001b[0m\u001b[0m\n\u001b[0m\u001b[0;32m      7\u001b[0m \u001b[1;31m#Only need type latitude and longitude\u001b[0m\u001b[1;33m\u001b[0m\u001b[1;33m\u001b[0m\u001b[0m\n\u001b[0;32m      8\u001b[0m \u001b[0mdf\u001b[0m\u001b[1;33m=\u001b[0m\u001b[0mdf\u001b[0m\u001b[1;33m[\u001b[0m\u001b[1;33m[\u001b[0m\u001b[1;34m'TYPE'\u001b[0m\u001b[1;33m,\u001b[0m\u001b[1;34m'LATITUDE'\u001b[0m\u001b[1;33m,\u001b[0m\u001b[1;34m'LONGITUDE'\u001b[0m\u001b[1;33m]\u001b[0m\u001b[1;33m]\u001b[0m\u001b[1;33m\u001b[0m\u001b[1;33m\u001b[0m\u001b[0m\n\u001b[0;32m      9\u001b[0m \u001b[0mprint\u001b[0m\u001b[1;33m(\u001b[0m\u001b[1;34m'Latitude Range = '\u001b[0m\u001b[1;33m,\u001b[0m\u001b[0mdf\u001b[0m\u001b[1;33m[\u001b[0m\u001b[1;34m'LATITUDE'\u001b[0m\u001b[1;33m]\u001b[0m\u001b[1;33m.\u001b[0m\u001b[0mmin\u001b[0m\u001b[1;33m(\u001b[0m\u001b[1;33m)\u001b[0m\u001b[1;33m,\u001b[0m\u001b[1;34m' to '\u001b[0m\u001b[1;33m,\u001b[0m\u001b[0mdf\u001b[0m\u001b[1;33m[\u001b[0m\u001b[1;34m'LATITUDE'\u001b[0m\u001b[1;33m]\u001b[0m\u001b[1;33m.\u001b[0m\u001b[0mmax\u001b[0m\u001b[1;33m(\u001b[0m\u001b[1;33m)\u001b[0m\u001b[1;33m)\u001b[0m\u001b[1;33m\u001b[0m\u001b[1;33m\u001b[0m\u001b[0m\n",
      "\u001b[1;32m~\\AppData\\Local\\Packages\\PythonSoftwareFoundation.Python.3.11_qbz5n2kfra8p0\\LocalCache\\local-packages\\Python311\\site-packages\\pandas\\core\\generic.py\u001b[0m in \u001b[0;36m?\u001b[1;34m(self, name)\u001b[0m\n\u001b[0;32m   5985\u001b[0m             \u001b[1;32mand\u001b[0m \u001b[0mname\u001b[0m \u001b[1;32mnot\u001b[0m \u001b[1;32min\u001b[0m \u001b[0mself\u001b[0m\u001b[1;33m.\u001b[0m\u001b[0m_accessors\u001b[0m\u001b[1;33m\u001b[0m\u001b[1;33m\u001b[0m\u001b[0m\n\u001b[0;32m   5986\u001b[0m             \u001b[1;32mand\u001b[0m \u001b[0mself\u001b[0m\u001b[1;33m.\u001b[0m\u001b[0m_info_axis\u001b[0m\u001b[1;33m.\u001b[0m\u001b[0m_can_hold_identifiers_and_holds_name\u001b[0m\u001b[1;33m(\u001b[0m\u001b[0mname\u001b[0m\u001b[1;33m)\u001b[0m\u001b[1;33m\u001b[0m\u001b[1;33m\u001b[0m\u001b[0m\n\u001b[0;32m   5987\u001b[0m         ):\n\u001b[0;32m   5988\u001b[0m             \u001b[1;32mreturn\u001b[0m \u001b[0mself\u001b[0m\u001b[1;33m[\u001b[0m\u001b[0mname\u001b[0m\u001b[1;33m]\u001b[0m\u001b[1;33m\u001b[0m\u001b[1;33m\u001b[0m\u001b[0m\n\u001b[1;32m-> 5989\u001b[1;33m         \u001b[1;32mreturn\u001b[0m \u001b[0mobject\u001b[0m\u001b[1;33m.\u001b[0m\u001b[0m__getattribute__\u001b[0m\u001b[1;33m(\u001b[0m\u001b[0mself\u001b[0m\u001b[1;33m,\u001b[0m \u001b[0mname\u001b[0m\u001b[1;33m)\u001b[0m\u001b[1;33m\u001b[0m\u001b[1;33m\u001b[0m\u001b[0m\n\u001b[0m",
      "\u001b[1;31mAttributeError\u001b[0m: 'DataFrame' object has no attribute 'append'"
     ]
    }
   ],
   "source": [
    "#Nistler\n",
    "#Append the 2 dataframes with apartment or restaurant labels\n",
    "apartments_geolocation['TYPE']=0 #One hot for apartment\n",
    "restaurants_geolocation['TYPE']=1 #One hot for restaurant\n",
    "\n",
    "df=apartments_geolocation.append(restaurants_geolocation, ignore_index=True)\n",
    "#Only need type latitude and longitude\n",
    "df=df[['TYPE','LATITUDE','LONGITUDE']]\n",
    "print('Latitude Range = ',df['LATITUDE'].min(),' to ',df['LATITUDE'].max())\n",
    "print('Longitude Range = ',df['LONGITUDE'].min(),' to ',df['LONGITUDE'].max())\n",
    "y = df['TYPE'] #Dependent variable\n",
    "X = df[['LONGITUDE','LATITUDE']] #Independent variables"
   ]
  },
  {
   "cell_type": "code",
   "execution_count": null,
   "metadata": {},
   "outputs": [],
   "source": [
    "#Nistler\n",
    "#Split data into test and training set\n",
    "X_train, X_test, y_train, y_test = train_test_split(X, y, test_size=0.3, random_state=89)"
   ]
  },
  {
   "cell_type": "code",
   "execution_count": null,
   "metadata": {},
   "outputs": [
    {
     "data": {
      "image/png": "[encoded data removed]",
      "text/plain": [
       "<Figure size 1000x700 with 1 Axes>"
      ]
     },
     "metadata": {},
     "output_type": "display_data"
    }
   ],
   "source": [
    "#Find the optimal number of neighbors\n",
    "# Initialize an array that stores the error rates.\n",
    "error_rates = []\n",
    "\n",
    "for i in range(1,30):\n",
    "    \n",
    "    knn = KNeighborsClassifier(n_neighbors=i)\n",
    "    knn.fit(X_train,y_train)\n",
    "    pred_i = knn.predict(X_test)\n",
    "    error_rates.append(np.mean(pred_i != y_test))\n",
    "    \n",
    "#plot error rates against number of neighbors\n",
    "plt.figure(figsize=(10, 7))\n",
    "plt.plot(range(1,30),error_rates,color='blue', linestyle='dashed', marker='o',\n",
    "         markerfacecolor='red', markersize=10)\n",
    "plt.title('Error Rate vs. K Value')\n",
    "plt.xlabel('K')\n",
    "plt.ylabel('Error Rate')\n",
    "plt.show()"
   ]
  },
  {
   "cell_type": "markdown",
   "metadata": {},
   "source": [
    "### Optimal K = 10"
   ]
  },
  {
   "cell_type": "code",
   "execution_count": null,
   "metadata": {},
   "outputs": [
    {
     "name": "stdout",
     "output_type": "stream",
     "text": [
      "[[10  6]\n",
      " [14  2]]\n",
      "              precision    recall  f1-score   support\n",
      "\n",
      "           0       0.42      0.62      0.50        16\n",
      "           1       0.25      0.12      0.17        16\n",
      "\n",
      "    accuracy                           0.38        32\n",
      "   macro avg       0.33      0.38      0.33        32\n",
      "weighted avg       0.33      0.38      0.33        32\n",
      "\n",
      "Cohen Kappa: -0.250\n",
      "AUC: 0.375\n"
     ]
    }
   ],
   "source": [
    "#Train classifier on the optimal k that we chose from the plot\n",
    "k = 4 #Even though elbow plot shows 10, 4 seems to give more intuitive results\n",
    "knn = KNeighborsClassifier(n_neighbors=k)\n",
    "knn.fit(X_train, y_train)\n",
    "preds = knn.predict(X_test)\n",
    "\n",
    "#Confusion matrix\n",
    "cf_matrix_knn=metrics.confusion_matrix(y_test, preds)\n",
    "\n",
    "#Performance metrics\n",
    "print(metrics.confusion_matrix(y_test, preds))\n",
    "print(metrics.classification_report(y_test, preds))\n",
    "\n",
    "cohen_knn = metrics.cohen_kappa_score(y_test, preds)\n",
    "print('Cohen Kappa: %.3f' % cohen_knn)\n",
    "\n",
    "auc_score_knn = metrics.roc_auc_score(y_test,preds)\n",
    "print('AUC: %.3f' % auc_score_knn)"
   ]
  },
  {
   "cell_type": "code",
   "execution_count": null,
   "metadata": {},
   "outputs": [
    {
     "name": "stdout",
     "output_type": "stream",
     "text": [
      "Latitude Range =  37.68635693147051  to  37.764142\n",
      "Longitude Range =  -97.3147997  to  -97.24159001363934\n"
     ]
    }
   ],
   "source": [
    "print('Latitude Range = ',df['LATITUDE'].min(),' to ',df['LATITUDE'].max())\n",
    "print('Longitude Range = ',df['LONGITUDE'].min(),' to ',df['LONGITUDE'].max())"
   ]
  },
  {
   "cell_type": "code",
   "execution_count": null,
   "metadata": {},
   "outputs": [
    {
     "data": {
      "text/html": [
       "<div>\n",
       "<style scoped>\n",
       "    .dataframe tbody tr th:only-of-type {\n",
       "        vertical-align: middle;\n",
       "    }\n",
       "\n",
       "    .dataframe tbody tr th {\n",
       "        vertical-align: top;\n",
       "    }\n",
       "\n",
       "    .dataframe thead th {\n",
       "        text-align: right;\n",
       "    }\n",
       "</style>\n",
       "<table border=\"1\" class=\"dataframe\">\n",
       "  <thead>\n",
       "    <tr style=\"text-align: right;\">\n",
       "      <th></th>\n",
       "      <th>LATITUDE</th>\n",
       "      <th>LONGITUDE</th>\n",
       "      <th>RESULT</th>\n",
       "    </tr>\n",
       "  </thead>\n",
       "  <tbody>\n",
       "    <tr>\n",
       "      <th>0</th>\n",
       "      <td>37.66</td>\n",
       "      <td>-97.370000</td>\n",
       "      <td>1</td>\n",
       "    </tr>\n",
       "    <tr>\n",
       "      <th>1</th>\n",
       "      <td>37.66</td>\n",
       "      <td>-97.368687</td>\n",
       "      <td>1</td>\n",
       "    </tr>\n",
       "    <tr>\n",
       "      <th>2</th>\n",
       "      <td>37.66</td>\n",
       "      <td>-97.367374</td>\n",
       "      <td>1</td>\n",
       "    </tr>\n",
       "    <tr>\n",
       "      <th>3</th>\n",
       "      <td>37.66</td>\n",
       "      <td>-97.366061</td>\n",
       "      <td>1</td>\n",
       "    </tr>\n",
       "    <tr>\n",
       "      <th>4</th>\n",
       "      <td>37.66</td>\n",
       "      <td>-97.364747</td>\n",
       "      <td>1</td>\n",
       "    </tr>\n",
       "    <tr>\n",
       "      <th>...</th>\n",
       "      <td>...</td>\n",
       "      <td>...</td>\n",
       "      <td>...</td>\n",
       "    </tr>\n",
       "    <tr>\n",
       "      <th>9995</th>\n",
       "      <td>37.77</td>\n",
       "      <td>-97.245253</td>\n",
       "      <td>0</td>\n",
       "    </tr>\n",
       "    <tr>\n",
       "      <th>9996</th>\n",
       "      <td>37.77</td>\n",
       "      <td>-97.243939</td>\n",
       "      <td>0</td>\n",
       "    </tr>\n",
       "    <tr>\n",
       "      <th>9997</th>\n",
       "      <td>37.77</td>\n",
       "      <td>-97.242626</td>\n",
       "      <td>0</td>\n",
       "    </tr>\n",
       "    <tr>\n",
       "      <th>9998</th>\n",
       "      <td>37.77</td>\n",
       "      <td>-97.241313</td>\n",
       "      <td>0</td>\n",
       "    </tr>\n",
       "    <tr>\n",
       "      <th>9999</th>\n",
       "      <td>37.77</td>\n",
       "      <td>-97.240000</td>\n",
       "      <td>0</td>\n",
       "    </tr>\n",
       "  </tbody>\n",
       "</table>\n",
       "<p>10000 rows × 3 columns</p>\n",
       "</div>"
      ],
      "text/plain": [
       "      LATITUDE  LONGITUDE  RESULT\n",
       "0        37.66 -97.370000       1\n",
       "1        37.66 -97.368687       1\n",
       "2        37.66 -97.367374       1\n",
       "3        37.66 -97.366061       1\n",
       "4        37.66 -97.364747       1\n",
       "...        ...        ...     ...\n",
       "9995     37.77 -97.245253       0\n",
       "9996     37.77 -97.243939       0\n",
       "9997     37.77 -97.242626       0\n",
       "9998     37.77 -97.241313       0\n",
       "9999     37.77 -97.240000       0\n",
       "\n",
       "[10000 rows x 3 columns]"
      ]
     },
     "execution_count": 92,
     "metadata": {},
     "output_type": "execute_result"
    }
   ],
   "source": [
    "# Create grid of all possible combinations between lat range and long range\n",
    "lat,long = np.mgrid[37.66:37.77:100j, -97.37:-97.24:100j] #Complex number at the end specifies number of data points\n",
    "\n",
    "df_to_map=pd.DataFrame()\n",
    "\n",
    "df_to_map['LATITUDE']=lat.flatten()\n",
    "df_to_map['LONGITUDE']=long.flatten()\n",
    "\n",
    "df_to_map['RESULT']=knn.predict(df_to_map[['LONGITUDE','LATITUDE']])\n",
    "df_to_map"
   ]
  },
  {
   "cell_type": "code",
   "execution_count": null,
   "metadata": {},
   "outputs": [
    {
     "data": {
      "text/plain": [
       "<seaborn.axisgrid.FacetGrid at 0x27517b3e850>"
      ]
     },
     "execution_count": 97,
     "metadata": {},
     "output_type": "execute_result"
    },
    {
     "data": {
      "image/png": "[encoded data removed]",
      "text/plain": [
       "<Figure size 542.736x300 with 1 Axes>"
      ]
     },
     "metadata": {},
     "output_type": "display_data"
    }
   ],
   "source": [
    "fg = sns.FacetGrid(data=df_to_map, hue='RESULT', aspect=1.60)\n",
    "fg.map(plt.scatter, 'LONGITUDE', 'LATITUDE').add_legend()"
   ]
  },
  {
   "cell_type": "code",
   "execution_count": null,
   "metadata": {},
   "outputs": [
    {
     "data": {
      "text/plain": [
       "<AxesSubplot: xlabel='LONGITUDE', ylabel='LATITUDE'>"
      ]
     },
     "execution_count": 96,
     "metadata": {},
     "output_type": "execute_result"
    },
    {
     "data": {
      "image/png": "[encoded data removed]",
      "text/plain": [
       "<Figure size 640x480 with 1 Axes>"
      ]
     },
     "metadata": {},
     "output_type": "display_data"
    }
   ],
   "source": [
    "df_to_map_kde=df_to_map.loc[df_to_map['RESULT']==1]\n",
    "sns.kdeplot(data=df_to_map_kde, x=\"LONGITUDE\", y=\"LATITUDE\", fill =True, levels=10, bw_adjust=0.25)"
   ]
  },
  {
   "cell_type": "markdown",
   "metadata": {},
   "source": [
    "#### Tried logistic regression, naive bayes, and random forest. All had worse accuracy."
   ]
  },
  {
   "cell_type": "code",
   "execution_count": null,
   "metadata": {},
   "outputs": [
    {
     "name": "stdout",
     "output_type": "stream",
     "text": [
      "F1 Score: 0.353\n",
      "[[ 4 12]\n",
      " [10  6]]\n",
      "              precision    recall  f1-score   support\n",
      "\n",
      "           0       0.29      0.25      0.27        16\n",
      "           1       0.33      0.38      0.35        16\n",
      "\n",
      "    accuracy                           0.31        32\n",
      "   macro avg       0.31      0.31      0.31        32\n",
      "weighted avg       0.31      0.31      0.31        32\n",
      "\n",
      "Accuracy: 0.3125\n",
      "Cohen Kappa: -0.375\n",
      "AUC: 0.312\n"
     ]
    }
   ],
   "source": [
    "from sklearn.linear_model import LogisticRegression\n",
    "from sklearn.naive_bayes import GaussianNB\n",
    "from sklearn.ensemble import RandomForestClassifier\n",
    "\n",
    "rf = RandomForestClassifier(n_jobs=-1)\n",
    "gs_rf = GridSearchCV(estimator=rf,\n",
    "                     param_grid={'max_depth':np.arange(1,31)},\n",
    "                     cv=5,\n",
    "                     scoring='roc_auc')\n",
    "#Train model\n",
    "model_rf=gs_rf.fit(X_train,y_train)\n",
    "#Make predictions\n",
    "y_1 = gs_rf.predict(X_test)\n",
    "\n",
    "diff=np.sum(y_test-y_1)\n",
    "error1=diff/len(y_test)\n",
    "error1\n",
    "\n",
    "score = metrics.f1_score(y_test, y_1, pos_label=1)\n",
    "print('F1 Score: %.3f' % score)\n",
    "\n",
    "cf_matrix_rf=metrics.confusion_matrix(y_test, y_1)\n",
    "print(cf_matrix_rf)\n",
    "print(metrics.classification_report(y_test, y_1))\n",
    "\n",
    "print(\"Accuracy:\",metrics.accuracy_score(y_test, y_1))\n",
    "\n",
    "cohen_rf=metrics.cohen_kappa_score(y_test, y_1)\n",
    "print('Cohen Kappa: %.3f' % cohen_rf)\n",
    "\n",
    "auc_score_rf = metrics.roc_auc_score(y_test, y_1)\n",
    "\n",
    "print('AUC: %.3f' % auc_score_rf)"
   ]
  },
  {
   "cell_type": "markdown",
   "metadata": {},
   "source": [
    "## Clustering"
   ]
  },
  {
   "cell_type": "code",
   "execution_count": null,
   "metadata": {},
   "outputs": [
    {
     "name": "stderr",
     "output_type": "stream",
     "text": [
      "C:\\Users\\mmorr\\AppData\\Local\\Packages\\PythonSoftwareFoundation.Python.3.11_qbz5n2kfra8p0\\LocalCache\\local-packages\\Python311\\site-packages\\sklearn\\cluster\\_kmeans.py:1416: FutureWarning: The default value of `n_init` will change from 10 to 'auto' in 1.4. Set the value of `n_init` explicitly to suppress the warning\n",
      "  super()._check_params_vs_input(X, default_n_init=10)\n",
      "C:\\Users\\mmorr\\AppData\\Local\\Packages\\PythonSoftwareFoundation.Python.3.11_qbz5n2kfra8p0\\LocalCache\\local-packages\\Python311\\site-packages\\sklearn\\cluster\\_kmeans.py:1416: FutureWarning: The default value of `n_init` will change from 10 to 'auto' in 1.4. Set the value of `n_init` explicitly to suppress the warning\n",
      "  super()._check_params_vs_input(X, default_n_init=10)\n",
      "C:\\Users\\mmorr\\AppData\\Local\\Packages\\PythonSoftwareFoundation.Python.3.11_qbz5n2kfra8p0\\LocalCache\\local-packages\\Python311\\site-packages\\sklearn\\cluster\\_kmeans.py:1416: FutureWarning: The default value of `n_init` will change from 10 to 'auto' in 1.4. Set the value of `n_init` explicitly to suppress the warning\n",
      "  super()._check_params_vs_input(X, default_n_init=10)\n",
      "C:\\Users\\mmorr\\AppData\\Local\\Packages\\PythonSoftwareFoundation.Python.3.11_qbz5n2kfra8p0\\LocalCache\\local-packages\\Python311\\site-packages\\sklearn\\cluster\\_kmeans.py:1416: FutureWarning: The default value of `n_init` will change from 10 to 'auto' in 1.4. Set the value of `n_init` explicitly to suppress the warning\n",
      "  super()._check_params_vs_input(X, default_n_init=10)\n",
      "C:\\Users\\mmorr\\AppData\\Local\\Packages\\PythonSoftwareFoundation.Python.3.11_qbz5n2kfra8p0\\LocalCache\\local-packages\\Python311\\site-packages\\sklearn\\cluster\\_kmeans.py:1416: FutureWarning: The default value of `n_init` will change from 10 to 'auto' in 1.4. Set the value of `n_init` explicitly to suppress the warning\n",
      "  super()._check_params_vs_input(X, default_n_init=10)\n",
      "C:\\Users\\mmorr\\AppData\\Local\\Packages\\PythonSoftwareFoundation.Python.3.11_qbz5n2kfra8p0\\LocalCache\\local-packages\\Python311\\site-packages\\sklearn\\cluster\\_kmeans.py:1416: FutureWarning: The default value of `n_init` will change from 10 to 'auto' in 1.4. Set the value of `n_init` explicitly to suppress the warning\n",
      "  super()._check_params_vs_input(X, default_n_init=10)\n",
      "C:\\Users\\mmorr\\AppData\\Local\\Packages\\PythonSoftwareFoundation.Python.3.11_qbz5n2kfra8p0\\LocalCache\\local-packages\\Python311\\site-packages\\sklearn\\cluster\\_kmeans.py:1416: FutureWarning: The default value of `n_init` will change from 10 to 'auto' in 1.4. Set the value of `n_init` explicitly to suppress the warning\n",
      "  super()._check_params_vs_input(X, default_n_init=10)\n",
      "C:\\Users\\mmorr\\AppData\\Local\\Packages\\PythonSoftwareFoundation.Python.3.11_qbz5n2kfra8p0\\LocalCache\\local-packages\\Python311\\site-packages\\sklearn\\cluster\\_kmeans.py:1416: FutureWarning: The default value of `n_init` will change from 10 to 'auto' in 1.4. Set the value of `n_init` explicitly to suppress the warning\n",
      "  super()._check_params_vs_input(X, default_n_init=10)\n",
      "C:\\Users\\mmorr\\AppData\\Local\\Packages\\PythonSoftwareFoundation.Python.3.11_qbz5n2kfra8p0\\LocalCache\\local-packages\\Python311\\site-packages\\sklearn\\cluster\\_kmeans.py:1416: FutureWarning: The default value of `n_init` will change from 10 to 'auto' in 1.4. Set the value of `n_init` explicitly to suppress the warning\n",
      "  super()._check_params_vs_input(X, default_n_init=10)\n",
      "C:\\Users\\mmorr\\AppData\\Local\\Packages\\PythonSoftwareFoundation.Python.3.11_qbz5n2kfra8p0\\LocalCache\\local-packages\\Python311\\site-packages\\sklearn\\cluster\\_kmeans.py:1416: FutureWarning: The default value of `n_init` will change from 10 to 'auto' in 1.4. Set the value of `n_init` explicitly to suppress the warning\n",
      "  super()._check_params_vs_input(X, default_n_init=10)\n"
     ]
    },
    {
     "data": {
      "image/png": "[encoded data removed]",
      "text/plain": [
       "<Figure size 1000x600 with 1 Axes>"
      ]
     },
     "metadata": {},
     "output_type": "display_data"
    }
   ],
   "source": [
    "import pandas as pd\n",
    "from sklearn.cluster import KMeans\n",
    "import matplotlib.pyplot as plt\n",
    "\n",
    "# Load the data\n",
    "restaurants_df = pd.read_csv(\"restaurants_with_geolocation.csv\")\n",
    "\n",
    "# Keep only the latitude and longitude columns\n",
    "restaurants_coords = restaurants_df[['LATITUDE', 'LONGITUDE']]\n",
    "\n",
    "# Calculate the within-cluster sum of squares (WCSS) for different values of k\n",
    "wcss = []\n",
    "max_clusters = 10  # Maximum number of clusters to try\n",
    "for i in range(1, max_clusters + 1):\n",
    "    kmeans = KMeans(n_clusters=i, init='k-means++', random_state=42)\n",
    "    kmeans.fit(restaurants_coords)\n",
    "    wcss.append(kmeans.inertia_)\n",
    "\n",
    "# Plot the elbow curve\n",
    "plt.figure(figsize=(10, 6))\n",
    "plt.plot(range(1, max_clusters + 1), wcss, marker='o', linestyle='--')\n",
    "plt.title('Elbow Method for Restaurants')\n",
    "plt.xlabel('Number of Clusters')\n",
    "plt.ylabel('Within-Cluster Sum of Squares (WCSS)')\n",
    "plt.xticks(range(1, max_clusters + 1))\n",
    "plt.grid(True)\n",
    "plt.show()\n"
   ]
  },
  {
   "cell_type": "code",
   "execution_count": 45,
   "metadata": {},
   "outputs": [
    {
     "name": "stderr",
     "output_type": "stream",
     "text": [
      "C:\\Users\\mmorr\\AppData\\Local\\Packages\\PythonSoftwareFoundation.Python.3.11_qbz5n2kfra8p0\\LocalCache\\local-packages\\Python311\\site-packages\\sklearn\\cluster\\_kmeans.py:1416: FutureWarning:\n",
      "\n",
      "The default value of `n_init` will change from 10 to 'auto' in 1.4. Set the value of `n_init` explicitly to suppress the warning\n",
      "\n"
     ]
    },
    {
     "data": {
      "image/png": "[encoded data removed]",
      "text/plain": [
       "<Figure size 1000x800 with 1 Axes>"
      ]
     },
     "metadata": {},
     "output_type": "display_data"
    }
   ],
   "source": [
    "import pandas as pd\n",
    "import matplotlib.pyplot as plt\n",
    "from sklearn.cluster import KMeans\n",
    "\n",
    "# Read the dataset\n",
    "restaurants_df = pd.read_csv(\"restaurants_with_geolocation.csv\")\n",
    "\n",
    "# Define features for clustering\n",
    "X = restaurants_df[['LATITUDE', 'LONGITUDE']]\n",
    "\n",
    "# Define number of clusters\n",
    "num_clusters = 3  # Adjust as needed\n",
    "\n",
    "# Perform K-means clustering\n",
    "kmeans = KMeans(n_clusters=num_clusters, random_state=42)\n",
    "restaurants_df['cluster'] = kmeans.fit_predict(X)\n",
    "\n",
    "# Define a dictionary to map cluster IDs to colors\n",
    "cluster_color_map = {i: f'C{i}' for i in range(num_clusters)}\n",
    "\n",
    "# Create scatter plot\n",
    "plt.figure(figsize=(10, 8))\n",
    "for cluster_id, color in cluster_color_map.items():\n",
    "    cluster_data = restaurants_df[restaurants_df['cluster'] == cluster_id]\n",
    "    plt.scatter(cluster_data['LONGITUDE'], cluster_data['LATITUDE'], color=color, label=f'Cluster {cluster_id}')\n",
    "\n",
    "plt.xlabel('Latitude')\n",
    "plt.ylabel('Longitude')\n",
    "plt.title('Clustering of Restaurants')\n",
    "plt.legend()\n",
    "plt.grid(True)\n",
    "plt.show()\n"
   ]
  },
  {
   "cell_type": "code",
   "execution_count": null,
   "metadata": {},
   "outputs": [
    {
     "name": "stderr",
     "output_type": "stream",
     "text": [
      "C:\\Users\\mmorr\\AppData\\Local\\Packages\\PythonSoftwareFoundation.Python.3.11_qbz5n2kfra8p0\\LocalCache\\local-packages\\Python311\\site-packages\\sklearn\\cluster\\_kmeans.py:1416: FutureWarning: The default value of `n_init` will change from 10 to 'auto' in 1.4. Set the value of `n_init` explicitly to suppress the warning\n",
      "  super()._check_params_vs_input(X, default_n_init=10)\n",
      "C:\\Users\\mmorr\\AppData\\Local\\Temp\\ipykernel_11164\\1596859343.py:7: SettingWithCopyWarning: \n",
      "A value is trying to be set on a copy of a slice from a DataFrame.\n",
      "Try using .loc[row_indexer,col_indexer] = value instead\n",
      "\n",
      "See the caveats in the documentation: https://pandas.pydata.org/pandas-docs/stable/user_guide/indexing.html#returning-a-view-versus-a-copy\n",
      "  restaurants_coords['cluster'] = kmeans.fit_predict(restaurants_coords[['LATITUDE', 'LONGITUDE']])\n"
     ]
    },
    {
     "data": {
      "image/png": "[encoded data removed]",
      "text/plain": [
       "<Figure size 1200x800 with 1 Axes>"
      ]
     },
     "metadata": {},
     "output_type": "display_data"
    }
   ],
   "source": [
    "\n",
    "# Keep only the relevant columns\n",
    "restaurants_coords = restaurants_df[['LATITUDE', 'LONGITUDE', 'RATINGS_OUTOF5', 'NUM_REVIEWS', 'TotalHours', 'MIN_COST', 'MAX_COST']]\n",
    "\n",
    "# Perform K-means clustering\n",
    "num_clusters = 3  # Number of clusters (you can adjust this as needed)\n",
    "kmeans = KMeans(n_clusters=num_clusters, random_state=42)\n",
    "restaurants_coords['cluster'] = kmeans.fit_predict(restaurants_coords[['LATITUDE', 'LONGITUDE']])\n",
    "\n",
    "# Calculate mean of RATINGS_OUTOF5, NUM_REVIEWS, TotalHours, MIN_COST, and MAX_COST for restaurants within each cluster\n",
    "cluster_mean_rating = []\n",
    "cluster_mean_reviews = []\n",
    "cluster_mean_hours = []\n",
    "cluster_mean_min_cost = []\n",
    "cluster_mean_max_cost = []\n",
    "for cluster_id in range(num_clusters):\n",
    "    cluster_restaurants = restaurants_coords[restaurants_coords['cluster'] == cluster_id]\n",
    "    mean_rating = cluster_restaurants['RATINGS_OUTOF5'].mean()\n",
    "    mean_reviews = cluster_restaurants['NUM_REVIEWS'].mean()\n",
    "    mean_hours = cluster_restaurants['TotalHours'].mean()\n",
    "    mean_min_cost = cluster_restaurants['MIN_COST'].mean()\n",
    "    mean_max_cost = cluster_restaurants['MAX_COST'].mean()\n",
    "    cluster_mean_rating.append(mean_rating)\n",
    "    cluster_mean_reviews.append(mean_reviews)\n",
    "    cluster_mean_hours.append(mean_hours)\n",
    "    cluster_mean_min_cost.append(mean_min_cost)\n",
    "    cluster_mean_max_cost.append(mean_max_cost)\n",
    "\n",
    "# Plot the clustering map with circles and color-coded clusters\n",
    "fig, ax = plt.subplots(figsize=(12, 8))\n",
    "\n",
    "for cluster_id in range(num_clusters):\n",
    "    cluster_data = restaurants_coords[restaurants_coords['cluster'] == cluster_id]\n",
    "    ax.scatter(cluster_data['LONGITUDE'], cluster_data['LATITUDE'], alpha=0.7, label=f'Cluster {cluster_id}')\n",
    "    cluster_center = kmeans.cluster_centers_[cluster_id]\n",
    "    ax.add_patch(plt.Circle((cluster_center[1], cluster_center[0]), radius=0.02, color='gray', alpha=0.3))\n",
    "    ax.annotate(f\"Mean Rating: {cluster_mean_rating[cluster_id]:.2f}\\nMean Reviews: {cluster_mean_reviews[cluster_id]:.0f}\\nMean Hours: {cluster_mean_hours[cluster_id]:.0f}\\nMean Min Cost: {cluster_mean_min_cost[cluster_id]:.2f}\\nMean Max Cost: {cluster_mean_max_cost[cluster_id]:.2f}\", \n",
    "                (cluster_center[1], cluster_center[0]), \n",
    "                xytext=(-40, 20), textcoords='offset points', ha='center', fontsize=8, color='black')\n",
    "\n",
    "ax.set_title(\"Clustering Map of Restaurants with Mean Ratings, Reviews, Hours, Min Cost, and Max Cost\")\n",
    "ax.set_xlabel(\"Longitude\")\n",
    "ax.set_ylabel(\"Latitude\")\n",
    "ax.legend()\n",
    "\n",
    "plt.show()\n"
   ]
  },
  {
   "cell_type": "markdown",
   "metadata": {},
   "source": [
    "## Data Visualization"
   ]
  },
  {
   "cell_type": "code",
   "execution_count": 42,
   "metadata": {},
   "outputs": [
    {
     "data": {
      "application/vnd.plotly.v1+json": {
       "config": {
        "plotlyServerURL": "https://plot.ly"
       },
       "data": [
        {
         "customdata": [
          [
           "4510 E 19th St N, Wichita, KS 67208",
           "Social Tap Drinkery",
           "Bar and restaurant"
          ]
         ],
         "hovertemplate": "<b>%{hovertext}</b><br><br>TYPE=%{customdata[2]}<br>Size=%{marker.size}<br>LATITUDE=%{lat}<br>LONGITUDE=%{lon}<br>ADDRESS=%{customdata[0]}<br>RESTAURANT NAME=%{customdata[1]}<extra></extra>",
         "hovertext": [
          "4510 E 19th St N, Wichita, KS 67208"
         ],
         "lat": [
          37.718593
         ],
         "legendgroup": "Bar and restaurant",
         "lon": [
          -97.303609
         ],
         "marker": {
          "color": "orange",
          "size": [
           1.5
          ],
          "sizemode": "area",
          "sizeref": 0.00375
         },
         "mode": "markers",
         "name": "Bar and restaurant",
         "showlegend": true,
         "subplot": "mapbox",
         "type": "scattermapbox"
        },
        {
         "customdata": [
          [
           "2939 E 21st St N, Wichita, KS 67214",
           "sonic drive in",
           "Fast Food restaurant"
          ],
          [
           "1845 Fairmount St, Wichita, KS 67260",
           "chick-fil-A",
           "Fast Food restaurant"
          ],
          [
           "2929 N Rock Rd, Wichita, KS 67226",
           "Five guys",
           "Fast Food restaurant"
          ],
          [
           "6120 E 21st St N, Wichita, KS 67208",
           "spangles",
           "Fast Food restaurant"
          ],
          [
           "1811 N Hillside St, Wichita, KS 67214",
           "Mc Donald's",
           "Fast Food restaurant"
          ],
          [
           "1845 Fairmount St, Wichita, KS 67260",
           "Freddy's  frozen custard and steakburgers",
           "Fast Food restaurant"
          ],
          [
           "4780 E 13th St N, Wichita, KS 67208",
           "Church's Chicken",
           "Fast Food restaurant"
          ],
          [
           "2230 N Rock Rd, Wichita, KS 67226",
           "Taco Bell",
           "Fast Food restaurant"
          ]
         ],
         "hovertemplate": "<b>%{hovertext}</b><br><br>TYPE=%{customdata[2]}<br>Size=%{marker.size}<br>LATITUDE=%{lat}<br>LONGITUDE=%{lon}<br>ADDRESS=%{customdata[0]}<br>RESTAURANT NAME=%{customdata[1]}<extra></extra>",
         "hovertext": [
          "2939 E 21st St N, Wichita, KS 67214",
          "1845 Fairmount St, Wichita, KS 67260",
          "2929 N Rock Rd, Wichita, KS 67226",
          "6120 E 21st St N, Wichita, KS 67208",
          "1811 N Hillside St, Wichita, KS 67214",
          "1845 Fairmount St, Wichita, KS 67260",
          "4780 E 13th St N, Wichita, KS 67208",
          "2230 N Rock Rd, Wichita, KS 67226"
         ],
         "lat": [
          37.7226627755102,
          37.71934295,
          37.73585299766736,
          37.7234393,
          37.72124810204082,
          37.71934295,
          37.70843726530613,
          37.723915250000005
         ],
         "legendgroup": "Fast Food restaurant",
         "lon": [
          -97.30201781632653,
          -97.28988783173024,
          -97.2447538997117,
          -97.26496195,
          -97.29894111224488,
          -97.28988783173024,
          -97.2809163877551,
          -97.24449625
         ],
         "marker": {
          "color": "blue",
          "size": [
           1.5,
           1.5,
           1.5,
           1.5,
           1.5,
           1.5,
           1.5,
           1.5
          ],
          "sizemode": "area",
          "sizeref": 0.00375
         },
         "mode": "markers",
         "name": "Fast Food restaurant",
         "showlegend": true,
         "subplot": "mapbox",
         "type": "scattermapbox"
        },
        {
         "customdata": [
          [
           "4510 E 19th St N, Wichita, KS 67208",
           "Sungrano",
           "Pizza restaurant"
          ],
          [
           "4802 E 21st St N, Wichita, KS 67208",
           "Sbarro",
           "Pizza restaurant"
          ]
         ],
         "hovertemplate": "<b>%{hovertext}</b><br><br>TYPE=%{customdata[2]}<br>Size=%{marker.size}<br>LATITUDE=%{lat}<br>LONGITUDE=%{lon}<br>ADDRESS=%{customdata[0]}<br>RESTAURANT NAME=%{customdata[1]}<extra></extra>",
         "hovertext": [
          "4510 E 19th St N, Wichita, KS 67208",
          "4802 E 21st St N, Wichita, KS 67208"
         ],
         "lat": [
          37.718593,
          37.7233307
         ],
         "legendgroup": "Pizza restaurant",
         "lon": [
          -97.303609,
          -97.28003
         ],
         "marker": {
          "color": "green",
          "size": [
           1.5,
           1.5
          ],
          "sizemode": "area",
          "sizeref": 0.00375
         },
         "mode": "markers",
         "name": "Pizza restaurant",
         "showlegend": true,
         "subplot": "mapbox",
         "type": "scattermapbox"
        },
        {
         "customdata": [
          [
           "4521 E 21st St N, Wichita, KS 67208",
           "Fuzz's taco shop",
           "Tex-Mex resaurant"
          ]
         ],
         "hovertemplate": "<b>%{hovertext}</b><br><br>TYPE=%{customdata[2]}<br>Size=%{marker.size}<br>LATITUDE=%{lat}<br>LONGITUDE=%{lon}<br>ADDRESS=%{customdata[0]}<br>RESTAURANT NAME=%{customdata[1]}<extra></extra>",
         "hovertext": [
          "4521 E 21st St N, Wichita, KS 67208"
         ],
         "lat": [
          37.72282537931034
         ],
         "legendgroup": "Tex-Mex resaurant",
         "lon": [
          -97.28385744827584
         ],
         "marker": {
          "color": "red",
          "size": [
           1.5
          ],
          "sizemode": "area",
          "sizeref": 0.00375
         },
         "mode": "markers",
         "name": "Tex-Mex resaurant",
         "showlegend": true,
         "subplot": "mapbox",
         "type": "scattermapbox"
        },
        {
         "customdata": [
          [
           "2424 N Woodlawn Blvd, Wichita, KS 67220",
           "Magnolia café wichita",
           "café"
          ],
          [
           "2132 N Rock Rd, Wichita, KS 67206",
           "Bella Luna Cafe",
           "café"
          ]
         ],
         "hovertemplate": "<b>%{hovertext}</b><br><br>TYPE=%{customdata[2]}<br>Size=%{marker.size}<br>LATITUDE=%{lat}<br>LONGITUDE=%{lon}<br>ADDRESS=%{customdata[0]}<br>RESTAURANT NAME=%{customdata[1]}<extra></extra>",
         "hovertext": [
          "2424 N Woodlawn Blvd, Wichita, KS 67220",
          "2132 N Rock Rd, Wichita, KS 67206"
         ],
         "lat": [
          37.72638614285714,
          37.72214149692535
         ],
         "legendgroup": "café",
         "lon": [
          -97.26220385714284,
          -97.24450474985584
         ],
         "marker": {
          "color": "purple",
          "size": [
           1.5,
           1.5
          ],
          "sizemode": "area",
          "sizeref": 0.00375
         },
         "mode": "markers",
         "name": "café",
         "showlegend": true,
         "subplot": "mapbox",
         "type": "scattermapbox"
        },
        {
         "customdata": [
          [
           "2721 E Central Ave, Wichita, KS 67214",
           "prost",
           "German restaurant"
          ]
         ],
         "hovertemplate": "<b>%{hovertext}</b><br><br>TYPE=%{customdata[2]}<br>Size=%{marker.size}<br>LATITUDE=%{lat}<br>LONGITUDE=%{lon}<br>ADDRESS=%{customdata[0]}<br>RESTAURANT NAME=%{customdata[1]}<extra></extra>",
         "hovertext": [
          "2721 E Central Ave, Wichita, KS 67214"
         ],
         "lat": [
          37.69358551063829
         ],
         "legendgroup": "German restaurant",
         "lon": [
          -97.3044890212766
         ],
         "marker": {
          "color": "yellow",
          "size": [
           1.5
          ],
          "sizemode": "area",
          "sizeref": 0.00375
         },
         "mode": "markers",
         "name": "German restaurant",
         "showlegend": true,
         "subplot": "mapbox",
         "type": "scattermapbox"
        },
        {
         "customdata": [
          [
           "4618 E Central Ave, Wichita, KS 67208",
           "Georges french bistro",
           "french restaurant"
          ]
         ],
         "hovertemplate": "<b>%{hovertext}</b><br><br>TYPE=%{customdata[2]}<br>Size=%{marker.size}<br>LATITUDE=%{lat}<br>LONGITUDE=%{lon}<br>ADDRESS=%{customdata[0]}<br>RESTAURANT NAME=%{customdata[1]}<extra></extra>",
         "hovertext": [
          "4618 E Central Ave, Wichita, KS 67208"
         ],
         "lat": [
          37.69386610204082
         ],
         "legendgroup": "french restaurant",
         "lon": [
          -97.2824639387755
         ],
         "marker": {
          "color": "cyan",
          "size": [
           1.5
          ],
          "sizemode": "area",
          "sizeref": 0.00375
         },
         "mode": "markers",
         "name": "french restaurant",
         "showlegend": true,
         "subplot": "mapbox",
         "type": "scattermapbox"
        },
        {
         "customdata": [
          [
           "1350 N Hillside St, Wichita, KS 67214",
           "popeyes louisiana kitchen",
           "Chicken restaurant"
          ],
          [
           "6131 E 21st St N, Wichita, KS 67208",
           "KFC",
           "Chicken restaurant"
          ]
         ],
         "hovertemplate": "<b>%{hovertext}</b><br><br>TYPE=%{customdata[2]}<br>Size=%{marker.size}<br>LATITUDE=%{lat}<br>LONGITUDE=%{lon}<br>ADDRESS=%{customdata[0]}<br>RESTAURANT NAME=%{customdata[1]}<extra></extra>",
         "hovertext": [
          "1350 N Hillside St, Wichita, KS 67214",
          "6131 E 21st St N, Wichita, KS 67208"
         ],
         "lat": [
          37.7074944,
          37.72291840268456
         ],
         "legendgroup": "Chicken restaurant",
         "lon": [
          -97.2987038,
          -97.26504455704698
         ],
         "marker": {
          "color": "magenta",
          "size": [
           1.5,
           1.5
          ],
          "sizemode": "area",
          "sizeref": 0.00375
         },
         "mode": "markers",
         "name": "Chicken restaurant",
         "showlegend": true,
         "subplot": "mapbox",
         "type": "scattermapbox"
        },
        {
         "customdata": [
          [
           "3700 E Douglas Ave, Wichita, KS 67208",
           "Dempsey's burger pub ",
           "Hamburger restaurant"
          ]
         ],
         "hovertemplate": "<b>%{hovertext}</b><br><br>TYPE=%{customdata[2]}<br>Size=%{marker.size}<br>LATITUDE=%{lat}<br>LONGITUDE=%{lon}<br>ADDRESS=%{customdata[0]}<br>RESTAURANT NAME=%{customdata[1]}<extra></extra>",
         "hovertext": [
          "3700 E Douglas Ave, Wichita, KS 67208"
         ],
         "lat": [
          37.6867293
         ],
         "legendgroup": "Hamburger restaurant",
         "lon": [
          -97.2937148
         ],
         "marker": {
          "color": "lime",
          "size": [
           1.5
          ],
          "sizemode": "area",
          "sizeref": 0.00375
         },
         "mode": "markers",
         "name": "Hamburger restaurant",
         "showlegend": true,
         "subplot": "mapbox",
         "type": "scattermapbox"
        },
        {
         "customdata": [
          [
           "6100 E 21st St N, Wichita, KS 67208",
           "passage to india",
           "Indian restaurant"
          ],
          [
           "6249 E 21st St N, Wichita, KS 67208",
           "Deshi Curry",
           "Indian restaurant"
          ]
         ],
         "hovertemplate": "<b>%{hovertext}</b><br><br>TYPE=%{customdata[2]}<br>Size=%{marker.size}<br>LATITUDE=%{lat}<br>LONGITUDE=%{lon}<br>ADDRESS=%{customdata[0]}<br>RESTAURANT NAME=%{customdata[1]}<extra></extra>",
         "hovertext": [
          "6100 E 21st St N, Wichita, KS 67208",
          "6249 E 21st St N, Wichita, KS 67208"
         ],
         "lat": [
          37.7240425,
          37.7226367
         ],
         "legendgroup": "Indian restaurant",
         "lon": [
          -97.2655135,
          -97.2641341
         ],
         "marker": {
          "color": "pink",
          "size": [
           1.5,
           1.5
          ],
          "sizemode": "area",
          "sizeref": 0.00375
         },
         "mode": "markers",
         "name": "Indian restaurant",
         "showlegend": true,
         "subplot": "mapbox",
         "type": "scattermapbox"
        },
        {
         "customdata": [
          [
           "2419 E 13th St N, Wichita, KS 67214",
           "chicken chicken",
           "Restaurant"
          ],
          [
           "2545 N Hillside St, Wichita, KS 67219",
           "Tad's carryout",
           "Restaurant"
          ],
          [
           "6257 E 21st St N, Wichita, KS 67208",
           "Kababji grill",
           "Restaurant"
          ],
          [
           "2504 E 9th St N, Wichita, KS 67214",
           "Just like Mama's Kitchen",
           "Restaurant"
          ],
          [
           "1821 N Rock Rd, Wichita, KS 67206",
           "Jason's Deli",
           "Restaurant"
          ],
          [
           "2111 N Woodlawn St, Wichita, KS 67208",
           "Burger King",
           "Restaurant"
          ],
          [
           "3555 E Douglas Ave, Wichita, KS 67218",
           "The Belmont",
           "Restaurant"
          ],
          [
           "2141 N Bradley Fair Pkwy, Wichita, KS 67206",
           "First Mile Kitchen",
           "Restaurant"
          ]
         ],
         "hovertemplate": "<b>%{hovertext}</b><br><br>TYPE=%{customdata[2]}<br>Size=%{marker.size}<br>LATITUDE=%{lat}<br>LONGITUDE=%{lon}<br>ADDRESS=%{customdata[0]}<br>RESTAURANT NAME=%{customdata[1]}<extra></extra>",
         "hovertext": [
          "2419 E 13th St N, Wichita, KS 67214",
          "2545 N Hillside St, Wichita, KS 67219",
          "6257 E 21st St N, Wichita, KS 67208",
          "2504 E 9th St N, Wichita, KS 67214",
          "1821 N Rock Rd, Wichita, KS 67206",
          "2111 N Woodlawn St, Wichita, KS 67208",
          "3555 E Douglas Ave, Wichita, KS 67218",
          "2141 N Bradley Fair Pkwy, Wichita, KS 67206"
         ],
         "lat": [
          37.70810065306122,
          37.72944830769231,
          37.72292009395973,
          37.70100332653061,
          37.71610015301189,
          37.764142,
          37.68635693147051,
          37.72186884230276
         ],
         "legendgroup": "Restaurant",
         "lon": [
          -97.30787097959184,
          -97.29915830769232,
          -97.2638204966443,
          -97.30682981632654,
          -97.24473815271472,
          -97.262471,
          -97.294799510301,
          -97.24159001363934
         ],
         "marker": {
          "color": "brown",
          "size": [
           1.5,
           1.5,
           1.5,
           1.5,
           1.5,
           1.5,
           1.5,
           1.5
          ],
          "sizemode": "area",
          "sizeref": 0.00375
         },
         "mode": "markers",
         "name": "Restaurant",
         "showlegend": true,
         "subplot": "mapbox",
         "type": "scattermapbox"
        },
        {
         "customdata": [
          [
           "410 N Hillside St, Wichita, KS 67214",
           "Doc Greens",
           "American restaurant"
          ],
          [
           "1844 N Rock Rd, Wichita, KS 67206",
           "Redrock Canyon Grill ",
           "American restaurant"
          ]
         ],
         "hovertemplate": "<b>%{hovertext}</b><br><br>TYPE=%{customdata[2]}<br>Size=%{marker.size}<br>LATITUDE=%{lat}<br>LONGITUDE=%{lon}<br>ADDRESS=%{customdata[0]}<br>RESTAURANT NAME=%{customdata[1]}<extra></extra>",
         "hovertext": [
          "410 N Hillside St, Wichita, KS 67214",
          "1844 N Rock Rd, Wichita, KS 67206"
         ],
         "lat": [
          37.692759,
          37.7173297
         ],
         "legendgroup": "American restaurant",
         "lon": [
          -97.2983126,
          -97.2440198
         ],
         "marker": {
          "color": "teal",
          "size": [
           1.5,
           1.5
          ],
          "sizemode": "area",
          "sizeref": 0.00375
         },
         "mode": "markers",
         "name": "American restaurant",
         "showlegend": true,
         "subplot": "mapbox",
         "type": "scattermapbox"
        },
        {
         "customdata": [
          [
           "4714 E Douglas Ave, Wichita, KS 67208",
           "wine Dive+Kitchen",
           "wine bar"
          ]
         ],
         "hovertemplate": "<b>%{hovertext}</b><br><br>TYPE=%{customdata[2]}<br>Size=%{marker.size}<br>LATITUDE=%{lat}<br>LONGITUDE=%{lon}<br>ADDRESS=%{customdata[0]}<br>RESTAURANT NAME=%{customdata[1]}<extra></extra>",
         "hovertext": [
          "4714 E Douglas Ave, Wichita, KS 67208"
         ],
         "lat": [
          37.6867203
         ],
         "legendgroup": "wine bar",
         "lon": [
          -97.2813077
         ],
         "marker": {
          "color": "lavender",
          "size": [
           1.5
          ],
          "sizemode": "area",
          "sizeref": 0.00375
         },
         "mode": "markers",
         "name": "wine bar",
         "showlegend": true,
         "subplot": "mapbox",
         "type": "scattermapbox"
        },
        {
         "customdata": [
          [
           "5400 E Central Ave, Wichita, KS 67208",
           "Local Flavor restaurant",
           "Bar and Grill"
          ],
          [
           "4800 E Douglas Ave, Wichita, KS 67208",
           "The Hill Bar & Grill",
           "Bar and Grill"
          ]
         ],
         "hovertemplate": "<b>%{hovertext}</b><br><br>TYPE=%{customdata[2]}<br>Size=%{marker.size}<br>LATITUDE=%{lat}<br>LONGITUDE=%{lon}<br>ADDRESS=%{customdata[0]}<br>RESTAURANT NAME=%{customdata[1]}<extra></extra>",
         "hovertext": [
          "5400 E Central Ave, Wichita, KS 67208",
          "4800 E Douglas Ave, Wichita, KS 67208"
         ],
         "lat": [
          37.6941856,
          37.686599
         ],
         "legendgroup": "Bar and Grill",
         "lon": [
          -97.2732696451608,
          -97.280349
         ],
         "marker": {
          "color": "olive",
          "size": [
           1.5,
           1.5
          ],
          "sizemode": "area",
          "sizeref": 0.00375
         },
         "mode": "markers",
         "name": "Bar and Grill",
         "showlegend": true,
         "subplot": "mapbox",
         "type": "scattermapbox"
        },
        {
         "customdata": [
          [
           "4510 E 19th St N, Wichita, KS 67208",
           "sesame mediterranean kitchen",
           "Mediterranean restaurant"
          ]
         ],
         "hovertemplate": "<b>%{hovertext}</b><br><br>TYPE=%{customdata[2]}<br>Size=%{marker.size}<br>LATITUDE=%{lat}<br>LONGITUDE=%{lon}<br>ADDRESS=%{customdata[0]}<br>RESTAURANT NAME=%{customdata[1]}<extra></extra>",
         "hovertext": [
          "4510 E 19th St N, Wichita, KS 67208"
         ],
         "lat": [
          37.718593
         ],
         "legendgroup": "Mediterranean restaurant",
         "lon": [
          -97.303609
         ],
         "marker": {
          "color": "skyblue",
          "size": [
           1.5
          ],
          "sizemode": "area",
          "sizeref": 0.00375
         },
         "mode": "markers",
         "name": "Mediterranean restaurant",
         "showlegend": true,
         "subplot": "mapbox",
         "type": "scattermapbox"
        },
        {
         "customdata": [
          [
           "1845 Fairmount St, Wichita, KS 67260",
           "Panda express",
           "Chinese restaurant"
          ],
          [
           "6249 E 21st St N, Wichita, KS 67208",
           "China One (New China King)",
           "Chinese restaurant"
          ],
          [
           "410 N Hillside St, Wichita, KS 67214",
           "Great Wall Chinese Restaurant ",
           "Chinese restaurant"
          ]
         ],
         "hovertemplate": "<b>%{hovertext}</b><br><br>TYPE=%{customdata[2]}<br>Size=%{marker.size}<br>LATITUDE=%{lat}<br>LONGITUDE=%{lon}<br>ADDRESS=%{customdata[0]}<br>RESTAURANT NAME=%{customdata[1]}<extra></extra>",
         "hovertext": [
          "1845 Fairmount St, Wichita, KS 67260",
          "6249 E 21st St N, Wichita, KS 67208",
          "410 N Hillside St, Wichita, KS 67214"
         ],
         "lat": [
          37.71934295,
          37.7226367,
          37.692759
         ],
         "legendgroup": "Chinese restaurant",
         "lon": [
          -97.28988783173024,
          -97.2641341,
          -97.2983126
         ],
         "marker": {
          "color": "gold",
          "size": [
           1.5,
           1.5,
           1.5
          ],
          "sizemode": "area",
          "sizeref": 0.00375
         },
         "mode": "markers",
         "name": "Chinese restaurant",
         "showlegend": true,
         "subplot": "mapbox",
         "type": "scattermapbox"
        },
        {
         "customdata": [
          [
           "5706 E 19th St N, Wichita, KS 67208",
           "Meals and deals on the roll llc",
           "soul food restaurant"
          ],
          [
           "1901 E 21st St N, Wichita, KS 67214",
           "Fat boyz BBQ",
           "soul food restaurant"
          ]
         ],
         "hovertemplate": "<b>%{hovertext}</b><br><br>TYPE=%{customdata[2]}<br>Size=%{marker.size}<br>LATITUDE=%{lat}<br>LONGITUDE=%{lon}<br>ADDRESS=%{customdata[0]}<br>RESTAURANT NAME=%{customdata[1]}<extra></extra>",
         "hovertext": [
          "5706 E 19th St N, Wichita, KS 67208",
          "1901 E 21st St N, Wichita, KS 67214"
         ],
         "lat": [
          37.71982752875197,
          37.7224009
         ],
         "legendgroup": "soul food restaurant",
         "lon": [
          -97.26904836425824,
          -97.3147997
         ],
         "marker": {
          "color": "indigo",
          "size": [
           1.5,
           1.5
          ],
          "sizemode": "area",
          "sizeref": 0.00375
         },
         "mode": "markers",
         "name": "soul food restaurant",
         "showlegend": true,
         "subplot": "mapbox",
         "type": "scattermapbox"
        },
        {
         "customdata": [
          [
           "2624 E 21st St N, Wichita, KS 67214",
           "Sazon Mexican restaurant",
           "Mexican restaurant"
          ],
          [
           "6825 E 21st St N, Wichita, KS 67206",
           "Taco Shop",
           "Mexican restaurant"
          ],
          [
           "3015 N Rock Rd, Wichita, KS 67226",
           "Chipotle Mexican Grill ",
           "Mexican restaurant"
          ]
         ],
         "hovertemplate": "<b>%{hovertext}</b><br><br>TYPE=%{customdata[2]}<br>Size=%{marker.size}<br>LATITUDE=%{lat}<br>LONGITUDE=%{lon}<br>ADDRESS=%{customdata[0]}<br>RESTAURANT NAME=%{customdata[1]}<extra></extra>",
         "hovertext": [
          "2624 E 21st St N, Wichita, KS 67214",
          "6825 E 21st St N, Wichita, KS 67206",
          "3015 N Rock Rd, Wichita, KS 67226"
         ],
         "lat": [
          37.722805026845634,
          37.722525000000005,
          37.7381731
         ],
         "legendgroup": "Mexican restaurant",
         "lon": [
          -97.30619670469798,
          -97.2587369800266,
          -97.2453144
         ],
         "marker": {
          "color": "violet",
          "size": [
           1.5,
           1.5,
           1.5
          ],
          "sizemode": "area",
          "sizeref": 0.00375
         },
         "mode": "markers",
         "name": "Mexican restaurant",
         "showlegend": true,
         "subplot": "mapbox",
         "type": "scattermapbox"
        },
        {
         "customdata": [
          [
           "6249 E 21st St N, Wichita, KS 67208",
           "Da cajun restaurant",
           "Cajun  restaurant"
          ]
         ],
         "hovertemplate": "<b>%{hovertext}</b><br><br>TYPE=%{customdata[2]}<br>Size=%{marker.size}<br>LATITUDE=%{lat}<br>LONGITUDE=%{lon}<br>ADDRESS=%{customdata[0]}<br>RESTAURANT NAME=%{customdata[1]}<extra></extra>",
         "hovertext": [
          "6249 E 21st St N, Wichita, KS 67208"
         ],
         "lat": [
          37.7226367
         ],
         "legendgroup": "Cajun  restaurant",
         "lon": [
          -97.2641341
         ],
         "marker": {
          "color": "lightcoral",
          "size": [
           1.5
          ],
          "sizemode": "area",
          "sizeref": 0.00375
         },
         "mode": "markers",
         "name": "Cajun  restaurant",
         "showlegend": true,
         "subplot": "mapbox",
         "type": "scattermapbox"
        },
        {
         "customdata": [
          [
           "2929 N Rock Rd, Wichita, KS 67226",
           "Asian Wok",
           "Asian restaurant"
          ]
         ],
         "hovertemplate": "<b>%{hovertext}</b><br><br>TYPE=%{customdata[2]}<br>Size=%{marker.size}<br>LATITUDE=%{lat}<br>LONGITUDE=%{lon}<br>ADDRESS=%{customdata[0]}<br>RESTAURANT NAME=%{customdata[1]}<extra></extra>",
         "hovertext": [
          "2929 N Rock Rd, Wichita, KS 67226"
         ],
         "lat": [
          37.73585299766736
         ],
         "legendgroup": "Asian restaurant",
         "lon": [
          -97.2447538997117
         ],
         "marker": {
          "color": "darkorange",
          "size": [
           1.5
          ],
          "sizemode": "area",
          "sizeref": 0.00375
         },
         "mode": "markers",
         "name": "Asian restaurant",
         "showlegend": true,
         "subplot": "mapbox",
         "type": "scattermapbox"
        },
        {
         "customdata": [
          [
           "3233 N Rock Rd, Wichita, KS 67226",
           "Subway ",
           "Sandwich shop"
          ]
         ],
         "hovertemplate": "<b>%{hovertext}</b><br><br>TYPE=%{customdata[2]}<br>Size=%{marker.size}<br>LATITUDE=%{lat}<br>LONGITUDE=%{lon}<br>ADDRESS=%{customdata[0]}<br>RESTAURANT NAME=%{customdata[1]}<extra></extra>",
         "hovertext": [
          "3233 N Rock Rd, Wichita, KS 67226"
         ],
         "lat": [
          37.74235456756757
         ],
         "legendgroup": "Sandwich shop",
         "lon": [
          -97.24476910810812
         ],
         "marker": {
          "color": "lightgreen",
          "size": [
           1.5
          ],
          "sizemode": "area",
          "sizeref": 0.00375
         },
         "mode": "markers",
         "name": "Sandwich shop",
         "showlegend": true,
         "subplot": "mapbox",
         "type": "scattermapbox"
        },
        {
         "customdata": [
          [
           "3252 E Douglas Ave, Wichita, KS 67214",
           "Vora Restaurant European ",
           "Europen restaurant"
          ]
         ],
         "hovertemplate": "<b>%{hovertext}</b><br><br>TYPE=%{customdata[2]}<br>Size=%{marker.size}<br>LATITUDE=%{lat}<br>LONGITUDE=%{lon}<br>ADDRESS=%{customdata[0]}<br>RESTAURANT NAME=%{customdata[1]}<extra></extra>",
         "hovertext": [
          "3252 E Douglas Ave, Wichita, KS 67214"
         ],
         "lat": [
          37.686405042019786
         ],
         "legendgroup": "Europen restaurant",
         "lon": [
          -97.2977454992428
         ],
         "marker": {
          "color": "peru",
          "size": [
           1.5
          ],
          "sizemode": "area",
          "sizeref": 0.00375
         },
         "mode": "markers",
         "name": "Europen restaurant",
         "showlegend": true,
         "subplot": "mapbox",
         "type": "scattermapbox"
        },
        {
         "customdata": [
          [
           "2035 N Rock Rd, Wichita, KS 67206",
           "HuHot Mongolian Grill",
           "Mangolian barbecue restaurant"
          ]
         ],
         "hovertemplate": "<b>%{hovertext}</b><br><br>TYPE=%{customdata[2]}<br>Size=%{marker.size}<br>LATITUDE=%{lat}<br>LONGITUDE=%{lon}<br>ADDRESS=%{customdata[0]}<br>RESTAURANT NAME=%{customdata[1]}<extra></extra>",
         "hovertext": [
          "2035 N Rock Rd, Wichita, KS 67206"
         ],
         "lat": [
          37.7204046
         ],
         "legendgroup": "Mangolian barbecue restaurant",
         "lon": [
          -97.2455109
         ],
         "marker": {
          "color": "rosybrown",
          "size": [
           1.5
          ],
          "sizemode": "area",
          "sizeref": 0.00375
         },
         "mode": "markers",
         "name": "Mangolian barbecue restaurant",
         "showlegend": true,
         "subplot": "mapbox",
         "type": "scattermapbox"
        },
        {
         "customdata": [
          [
           "1930 N Rock Rd, Wichita, KS 67206",
           "On The Border Mexican Grill & Cantina ",
           "Tex-Mex chain restaurant"
          ]
         ],
         "hovertemplate": "<b>%{hovertext}</b><br><br>TYPE=%{customdata[2]}<br>Size=%{marker.size}<br>LATITUDE=%{lat}<br>LONGITUDE=%{lon}<br>ADDRESS=%{customdata[0]}<br>RESTAURANT NAME=%{customdata[1]}<extra></extra>",
         "hovertext": [
          "1930 N Rock Rd, Wichita, KS 67206"
         ],
         "lat": [
          37.71883
         ],
         "legendgroup": "Tex-Mex chain restaurant",
         "lon": [
          -97.244511
         ],
         "marker": {
          "color": "lightsteelblue",
          "size": [
           1.5
          ],
          "sizemode": "area",
          "sizeref": 0.00375
         },
         "mode": "markers",
         "name": "Tex-Mex chain restaurant",
         "showlegend": true,
         "subplot": "mapbox",
         "type": "scattermapbox"
        },
        {
         "customdata": [
          [
           "6434 E Central Ave, Wichita, KS 67206",
           "Yokohama Ramen Izakaya",
           "Ramen restaurant"
          ]
         ],
         "hovertemplate": "<b>%{hovertext}</b><br><br>TYPE=%{customdata[2]}<br>Size=%{marker.size}<br>LATITUDE=%{lat}<br>LONGITUDE=%{lon}<br>ADDRESS=%{customdata[0]}<br>RESTAURANT NAME=%{customdata[1]}<extra></extra>",
         "hovertext": [
          "6434 E Central Ave, Wichita, KS 67206"
         ],
         "lat": [
          37.6949845
         ],
         "legendgroup": "Ramen restaurant",
         "lon": [
          -97.2614659
         ],
         "marker": {
          "color": "tan",
          "size": [
           1.5
          ],
          "sizemode": "area",
          "sizeref": 0.00375
         },
         "mode": "markers",
         "name": "Ramen restaurant",
         "showlegend": true,
         "subplot": "mapbox",
         "type": "scattermapbox"
        },
        {
         "customdata": [
          [
           "7777 E 21st St N, Wichita, KS 67206",
           "Malaysia Cafe",
           "Malaysian restaurant"
          ]
         ],
         "hovertemplate": "<b>%{hovertext}</b><br><br>TYPE=%{customdata[2]}<br>Size=%{marker.size}<br>LATITUDE=%{lat}<br>LONGITUDE=%{lon}<br>ADDRESS=%{customdata[0]}<br>RESTAURANT NAME=%{customdata[1]}<extra></extra>",
         "hovertext": [
          "7777 E 21st St N, Wichita, KS 67206"
         ],
         "lat": [
          37.7224608
         ],
         "legendgroup": "Malaysian restaurant",
         "lon": [
          -97.2468004
         ],
         "marker": {
          "color": "lightpink",
          "size": [
           1.5
          ],
          "sizemode": "area",
          "sizeref": 0.00375
         },
         "mode": "markers",
         "name": "Malaysian restaurant",
         "showlegend": true,
         "subplot": "mapbox",
         "type": "scattermapbox"
        },
        {
         "customdata": [
          [
           "4521 E 21st St N, Wichita, KS 67208",
           "Jersey Mike's Subs",
           "Sandwich Shop"
          ]
         ],
         "hovertemplate": "<b>%{hovertext}</b><br><br>TYPE=%{customdata[2]}<br>Size=%{marker.size}<br>LATITUDE=%{lat}<br>LONGITUDE=%{lon}<br>ADDRESS=%{customdata[0]}<br>RESTAURANT NAME=%{customdata[1]}<extra></extra>",
         "hovertext": [
          "4521 E 21st St N, Wichita, KS 67208"
         ],
         "lat": [
          37.72282537931034
         ],
         "legendgroup": "Sandwich Shop",
         "lon": [
          -97.28385744827584
         ],
         "marker": {
          "color": "darkkhaki",
          "size": [
           1.5
          ],
          "sizemode": "area",
          "sizeref": 0.00375
         },
         "mode": "markers",
         "name": "Sandwich Shop",
         "showlegend": true,
         "subplot": "mapbox",
         "type": "scattermapbox"
        },
        {
         "customdata": [
          [
           "4510 E 19th St N, Wichita, KS 67208",
           "Two Hands Corn Dogs",
           "Corndog Shop"
          ]
         ],
         "hovertemplate": "<b>%{hovertext}</b><br><br>TYPE=%{customdata[2]}<br>Size=%{marker.size}<br>LATITUDE=%{lat}<br>LONGITUDE=%{lon}<br>ADDRESS=%{customdata[0]}<br>RESTAURANT NAME=%{customdata[1]}<extra></extra>",
         "hovertext": [
          "4510 E 19th St N, Wichita, KS 67208"
         ],
         "lat": [
          37.718593
         ],
         "legendgroup": "Corndog Shop",
         "lon": [
          -97.303609
         ],
         "marker": {
          "color": "darkslategray",
          "size": [
           1.5
          ],
          "sizemode": "area",
          "sizeref": 0.00375
         },
         "mode": "markers",
         "name": "Corndog Shop",
         "showlegend": true,
         "subplot": "mapbox",
         "type": "scattermapbox"
        },
        {
         "customdata": [
          [
           "Aspen Heights"
          ],
          [
           "Barclay Square Apartments"
          ],
          [
           "Bluestem Apartments"
          ],
          [
           "Bradford Glen  Apartments"
          ],
          [
           "Brickstone at Woodlawn"
          ],
          [
           "Calvary Tower Apartments"
          ],
          [
           "Carter Apartments"
          ],
          [
           "Central park Apartments"
          ],
          [
           "Central Park Village Apartments"
          ],
          [
           "Chisholm Lake Apartments"
          ],
          [
           "Commodore Apartments"
          ],
          [
           "Cross Creek Apartments"
          ],
          [
           "Dwell Apartments"
          ],
          [
           "East Hampton Estates Apartments"
          ],
          [
           "Eastwood Apartments"
          ],
          [
           "Eaton place"
          ],
          [
           "Granada Apartments"
          ],
          [
           "Grandview Apartments"
          ],
          [
           "Highland House"
          ],
          [
           "Highland Square Apartments"
          ],
          [
           "Hillcreast"
          ],
          [
           "Horizon east"
          ],
          [
           "innes station"
          ],
          [
           "Inter Faith Villas"
          ],
          [
           "inwood Crossing Apartments"
          ],
          [
           "Market Square Apartments"
          ],
          [
           "Market Street lofts"
          ],
          [
           "Meadowlark Apartments"
          ],
          [
           "megreb"
          ],
          [
           "Merina Point Apartments"
          ],
          [
           "Midtown Place Apartments"
          ],
          [
           "Mullen Court Apartments"
          ],
          [
           "North Park Residencies"
          ],
          [
           "Parc at 21st & Rock"
          ],
          [
           "Parklane Garden Apartments"
          ],
          [
           "Parkwood Apartments"
          ],
          [
           "Pinecrest Village"
          ],
          [
           "Plaza Nine"
          ],
          [
           "Ponderosa Apartments"
          ],
          [
           "Regal plaza and cottages"
          ],
          [
           "Renata view"
          ],
          [
           "Rockborough Apartments"
          ],
          [
           "Sandstone Apartments"
          ],
          [
           "Seventeenth Apartments"
          ],
          [
           "shadybrook"
          ],
          [
           "Shirkmere Apartments"
          ],
          [
           "Somorset Apartments"
          ],
          [
           "Stratford East Apartments"
          ],
          [
           "The Landing at woodlawn Tower"
          ],
          [
           "The Lofts at Old Town Square,"
          ],
          [
           "The Remington"
          ],
          [
           "The Renfro"
          ],
          [
           "The suites at wsu"
          ],
          [
           "The Timber Apartments"
          ],
          [
           "Twin Rivers Apartmens"
          ],
          [
           "University Court Apartments"
          ],
          [
           "Uptown Landing"
          ],
          [
           "Urban Apartments in College Hills"
          ],
          [
           "Vassar Flats"
          ]
         ],
         "hovertemplate": "<b>%{hovertext}</b><br><br>Size=%{marker.size}<br>LATITUDE=%{lat}<br>LONGITUDE=%{lon}<br>Apartment name=%{customdata[0]}<extra></extra>",
         "hovertext": [
          "Aspen Heights",
          "Barclay Square Apartments",
          "Bluestem Apartments",
          "Bradford Glen  Apartments",
          "Brickstone at Woodlawn",
          "Calvary Tower Apartments",
          "Carter Apartments",
          "Central park Apartments",
          "Central Park Village Apartments",
          "Chisholm Lake Apartments",
          "Commodore Apartments",
          "Cross Creek Apartments",
          "Dwell Apartments",
          "East Hampton Estates Apartments",
          "Eastwood Apartments",
          "Eaton place",
          "Granada Apartments",
          "Grandview Apartments",
          "Highland House",
          "Highland Square Apartments",
          "Hillcreast",
          "Horizon east",
          "innes station",
          "Inter Faith Villas",
          "inwood Crossing Apartments",
          "Market Square Apartments",
          "Market Street lofts",
          "Meadowlark Apartments",
          "megreb",
          "Merina Point Apartments",
          "Midtown Place Apartments",
          "Mullen Court Apartments",
          "North Park Residencies",
          "Parc at 21st & Rock",
          "Parklane Garden Apartments",
          "Parkwood Apartments",
          "Pinecrest Village",
          "Plaza Nine",
          "Ponderosa Apartments",
          "Regal plaza and cottages",
          "Renata view",
          "Rockborough Apartments",
          "Sandstone Apartments",
          "Seventeenth Apartments",
          "shadybrook",
          "Shirkmere Apartments",
          "Somorset Apartments",
          "Stratford East Apartments",
          "The Landing at woodlawn Tower",
          "The Lofts at Old Town Square,",
          "The Remington",
          "The Renfro",
          "The suites at wsu",
          "The Timber Apartments",
          "Twin Rivers Apartmens",
          "University Court Apartments",
          "Uptown Landing",
          "Urban Apartments in College Hills",
          "Vassar Flats"
         ],
         "lat": [
          37.72302877777778,
          37.69195495886315,
          37.73811555102041,
          37.660823,
          37.72557894545455,
          37.730128,
          37.69976985714286,
          37.691551,
          37.71545160901314,
          37.74798641608757,
          37.6949897,
          37.74286479118431,
          37.71449930612245,
          37.73442320707071,
          37.676259,
          37.68596465306123,
          37.713855571428574,
          37.71460324793204,
          37.708543,
          37.70692257142857,
          37.68578188888889,
          37.69403223262288,
          37.688048020833335,
          37.69936542857143,
          37.74669892124202,
          37.70102736734694,
          37.71721706122449,
          37.664454,
          37.74733109008022,
          37.71965658258421,
          37.6922361,
          37.67240469387755,
          37.734377,
          37.722924,
          37.670873365081626,
          37.664586,
          37.6656500437548,
          37.6867293,
          37.72925497419727,
          37.733821,
          37.722502,
          37.6889439,
          37.676259,
          37.71546230612245,
          37.721521,
          37.68427128571429,
          37.764142,
          37.686625873886186,
          37.764142,
          37.69042693877551,
          37.68638205,
          37.68638205,
          37.7161156,
          37.71990921952765,
          37.724085,
          37.71546230612245,
          37.686405042019786,
          37.68476003851524,
          37.714492816326526
         ],
         "legendgroup": "",
         "lon": [
          -97.27984588888889,
          -97.34644931248756,
          -97.3447316122449,
          -97.317164,
          -97.26240785454546,
          -97.308055,
          -97.35006142857142,
          -97.2,
          -97.32016045162348,
          -97.2728803574616,
          -97.33601142476655,
          -97.24744077946237,
          -97.295438,
          -97.253637979798,
          -97.279525,
          -97.3326275510204,
          -97.29665778571427,
          -97.2989426739168,
          -97.262169,
          -97.26215459183672,
          -97.29674377777778,
          -97.24464049170918,
          -97.32948883333331,
          -97.3367797755102,
          -97.25136131517502,
          -97.3367741632653,
          -97.3365892244898,
          -97.304827,
          -97.2611403021874,
          -97.3631590022954,
          -97.3375448,
          -97.3341204489796,
          -97.244746,
          -97.24879581632652,
          -97.27708307569068,
          -97.27338444827586,
          -97.27744062865348,
          -97.2937148,
          -97.26650768702174,
          -97.306754,
          -97.3410083265306,
          -97.24226784390558,
          -97.279525,
          -97.2938557755102,
          -97.263588,
          -97.33416042857144,
          -97.262471,
          -97.24621364565756,
          -97.262471,
          -97.32831665306122,
          -97.3310846,
          -97.3310846,
          -97.2846745,
          -97.27344988806516,
          -97.356209,
          -97.2938557755102,
          -97.2977454992428,
          -97.29176475802772,
          -97.295438
         ],
         "marker": {
          "color": "blue",
          "size": [
           1.5,
           1.5,
           1.5,
           1.5,
           1.5,
           1.5,
           1.5,
           1.5,
           1.5,
           1.5,
           1.5,
           1.5,
           1.5,
           1.5,
           1.5,
           1.5,
           1.5,
           1.5,
           1.5,
           1.5,
           1.5,
           1.5,
           1.5,
           1.5,
           1.5,
           1.5,
           1.5,
           1.5,
           1.5,
           1.5,
           1.5,
           1.5,
           1.5,
           1.5,
           1.5,
           1.5,
           1.5,
           1.5,
           1.5,
           1.5,
           1.5,
           1.5,
           1.5,
           1.5,
           1.5,
           1.5,
           1.5,
           1.5,
           1.5,
           1.5,
           1.5,
           1.5,
           1.5,
           1.5,
           1.5,
           1.5,
           1.5,
           1.5,
           1.5
          ],
          "sizemode": "area",
          "sizeref": 0.00375
         },
         "mode": "markers",
         "name": "",
         "showlegend": false,
         "subplot": "mapbox",
         "type": "scattermapbox"
        }
       ],
       "layout": {
        "height": 800,
        "legend": {
         "itemsizing": "constant",
         "title": {
          "text": "TYPE"
         },
         "tracegroupgap": 0
        },
        "mapbox": {
         "center": {
          "lat": 37.716025074059864,
          "lon": -97.27648065679234
         },
         "domain": {
          "x": [
           0,
           1
          ],
          "y": [
           0,
           1
          ]
         },
         "style": "open-street-map",
         "zoom": 8
        },
        "margin": {
         "b": 0,
         "l": 0,
         "r": 0,
         "t": 0
        },
        "template": {
         "data": {
          "bar": [
           {
            "error_x": {
             "color": "#2a3f5f"
            },
            "error_y": {
             "color": "#2a3f5f"
            },
            "marker": {
             "line": {
              "color": "#E5ECF6",
              "width": 0.5
             },
             "pattern": {
              "fillmode": "overlay",
              "size": 10,
              "solidity": 0.2
             }
            },
            "type": "bar"
           }
          ],
          "barpolar": [
           {
            "marker": {
             "line": {
              "color": "#E5ECF6",
              "width": 0.5
             },
             "pattern": {
              "fillmode": "overlay",
              "size": 10,
              "solidity": 0.2
             }
            },
            "type": "barpolar"
           }
          ],
          "carpet": [
           {
            "aaxis": {
             "endlinecolor": "#2a3f5f",
             "gridcolor": "white",
             "linecolor": "white",
             "minorgridcolor": "white",
             "startlinecolor": "#2a3f5f"
            },
            "baxis": {
             "endlinecolor": "#2a3f5f",
             "gridcolor": "white",
             "linecolor": "white",
             "minorgridcolor": "white",
             "startlinecolor": "#2a3f5f"
            },
            "type": "carpet"
           }
          ],
          "choropleth": [
           {
            "colorbar": {
             "outlinewidth": 0,
             "ticks": ""
            },
            "type": "choropleth"
           }
          ],
          "contour": [
           {
            "colorbar": {
             "outlinewidth": 0,
             "ticks": ""
            },
            "colorscale": [
             [
              0,
              "#0d0887"
             ],
             [
              0.1111111111111111,
              "#46039f"
             ],
             [
              0.2222222222222222,
              "#7201a8"
             ],
             [
              0.3333333333333333,
              "#9c179e"
             ],
             [
              0.4444444444444444,
              "#bd3786"
             ],
             [
              0.5555555555555556,
              "#d8576b"
             ],
             [
              0.6666666666666666,
              "#ed7953"
             ],
             [
              0.7777777777777778,
              "#fb9f3a"
             ],
             [
              0.8888888888888888,
              "#fdca26"
             ],
             [
              1,
              "#f0f921"
             ]
            ],
            "type": "contour"
           }
          ],
          "contourcarpet": [
           {
            "colorbar": {
             "outlinewidth": 0,
             "ticks": ""
            },
            "type": "contourcarpet"
           }
          ],
          "heatmap": [
           {
            "colorbar": {
             "outlinewidth": 0,
             "ticks": ""
            },
            "colorscale": [
             [
              0,
              "#0d0887"
             ],
             [
              0.1111111111111111,
              "#46039f"
             ],
             [
              0.2222222222222222,
              "#7201a8"
             ],
             [
              0.3333333333333333,
              "#9c179e"
             ],
             [
              0.4444444444444444,
              "#bd3786"
             ],
             [
              0.5555555555555556,
              "#d8576b"
             ],
             [
              0.6666666666666666,
              "#ed7953"
             ],
             [
              0.7777777777777778,
              "#fb9f3a"
             ],
             [
              0.8888888888888888,
              "#fdca26"
             ],
             [
              1,
              "#f0f921"
             ]
            ],
            "type": "heatmap"
           }
          ],
          "heatmapgl": [
           {
            "colorbar": {
             "outlinewidth": 0,
             "ticks": ""
            },
            "colorscale": [
             [
              0,
              "#0d0887"
             ],
             [
              0.1111111111111111,
              "#46039f"
             ],
             [
              0.2222222222222222,
              "#7201a8"
             ],
             [
              0.3333333333333333,
              "#9c179e"
             ],
             [
              0.4444444444444444,
              "#bd3786"
             ],
             [
              0.5555555555555556,
              "#d8576b"
             ],
             [
              0.6666666666666666,
              "#ed7953"
             ],
             [
              0.7777777777777778,
              "#fb9f3a"
             ],
             [
              0.8888888888888888,
              "#fdca26"
             ],
             [
              1,
              "#f0f921"
             ]
            ],
            "type": "heatmapgl"
           }
          ],
          "histogram": [
           {
            "marker": {
             "pattern": {
              "fillmode": "overlay",
              "size": 10,
              "solidity": 0.2
             }
            },
            "type": "histogram"
           }
          ],
          "histogram2d": [
           {
            "colorbar": {
             "outlinewidth": 0,
             "ticks": ""
            },
            "colorscale": [
             [
              0,
              "#0d0887"
             ],
             [
              0.1111111111111111,
              "#46039f"
             ],
             [
              0.2222222222222222,
              "#7201a8"
             ],
             [
              0.3333333333333333,
              "#9c179e"
             ],
             [
              0.4444444444444444,
              "#bd3786"
             ],
             [
              0.5555555555555556,
              "#d8576b"
             ],
             [
              0.6666666666666666,
              "#ed7953"
             ],
             [
              0.7777777777777778,
              "#fb9f3a"
             ],
             [
              0.8888888888888888,
              "#fdca26"
             ],
             [
              1,
              "#f0f921"
             ]
            ],
            "type": "histogram2d"
           }
          ],
          "histogram2dcontour": [
           {
            "colorbar": {
             "outlinewidth": 0,
             "ticks": ""
            },
            "colorscale": [
             [
              0,
              "#0d0887"
             ],
             [
              0.1111111111111111,
              "#46039f"
             ],
             [
              0.2222222222222222,
              "#7201a8"
             ],
             [
              0.3333333333333333,
              "#9c179e"
             ],
             [
              0.4444444444444444,
              "#bd3786"
             ],
             [
              0.5555555555555556,
              "#d8576b"
             ],
             [
              0.6666666666666666,
              "#ed7953"
             ],
             [
              0.7777777777777778,
              "#fb9f3a"
             ],
             [
              0.8888888888888888,
              "#fdca26"
             ],
             [
              1,
              "#f0f921"
             ]
            ],
            "type": "histogram2dcontour"
           }
          ],
          "mesh3d": [
           {
            "colorbar": {
             "outlinewidth": 0,
             "ticks": ""
            },
            "type": "mesh3d"
           }
          ],
          "parcoords": [
           {
            "line": {
             "colorbar": {
              "outlinewidth": 0,
              "ticks": ""
             }
            },
            "type": "parcoords"
           }
          ],
          "pie": [
           {
            "automargin": true,
            "type": "pie"
           }
          ],
          "scatter": [
           {
            "fillpattern": {
             "fillmode": "overlay",
             "size": 10,
             "solidity": 0.2
            },
            "type": "scatter"
           }
          ],
          "scatter3d": [
           {
            "line": {
             "colorbar": {
              "outlinewidth": 0,
              "ticks": ""
             }
            },
            "marker": {
             "colorbar": {
              "outlinewidth": 0,
              "ticks": ""
             }
            },
            "type": "scatter3d"
           }
          ],
          "scattercarpet": [
           {
            "marker": {
             "colorbar": {
              "outlinewidth": 0,
              "ticks": ""
             }
            },
            "type": "scattercarpet"
           }
          ],
          "scattergeo": [
           {
            "marker": {
             "colorbar": {
              "outlinewidth": 0,
              "ticks": ""
             }
            },
            "type": "scattergeo"
           }
          ],
          "scattergl": [
           {
            "marker": {
             "colorbar": {
              "outlinewidth": 0,
              "ticks": ""
             }
            },
            "type": "scattergl"
           }
          ],
          "scattermapbox": [
           {
            "marker": {
             "colorbar": {
              "outlinewidth": 0,
              "ticks": ""
             }
            },
            "type": "scattermapbox"
           }
          ],
          "scatterpolar": [
           {
            "marker": {
             "colorbar": {
              "outlinewidth": 0,
              "ticks": ""
             }
            },
            "type": "scatterpolar"
           }
          ],
          "scatterpolargl": [
           {
            "marker": {
             "colorbar": {
              "outlinewidth": 0,
              "ticks": ""
             }
            },
            "type": "scatterpolargl"
           }
          ],
          "scatterternary": [
           {
            "marker": {
             "colorbar": {
              "outlinewidth": 0,
              "ticks": ""
             }
            },
            "type": "scatterternary"
           }
          ],
          "surface": [
           {
            "colorbar": {
             "outlinewidth": 0,
             "ticks": ""
            },
            "colorscale": [
             [
              0,
              "#0d0887"
             ],
             [
              0.1111111111111111,
              "#46039f"
             ],
             [
              0.2222222222222222,
              "#7201a8"
             ],
             [
              0.3333333333333333,
              "#9c179e"
             ],
             [
              0.4444444444444444,
              "#bd3786"
             ],
             [
              0.5555555555555556,
              "#d8576b"
             ],
             [
              0.6666666666666666,
              "#ed7953"
             ],
             [
              0.7777777777777778,
              "#fb9f3a"
             ],
             [
              0.8888888888888888,
              "#fdca26"
             ],
             [
              1,
              "#f0f921"
             ]
            ],
            "type": "surface"
           }
          ],
          "table": [
           {
            "cells": {
             "fill": {
              "color": "#EBF0F8"
             },
             "line": {
              "color": "white"
             }
            },
            "header": {
             "fill": {
              "color": "#C8D4E3"
             },
             "line": {
              "color": "white"
             }
            },
            "type": "table"
           }
          ]
         },
         "layout": {
          "annotationdefaults": {
           "arrowcolor": "#2a3f5f",
           "arrowhead": 0,
           "arrowwidth": 1
          },
          "autotypenumbers": "strict",
          "coloraxis": {
           "colorbar": {
            "outlinewidth": 0,
            "ticks": ""
           }
          },
          "colorscale": {
           "diverging": [
            [
             0,
             "#8e0152"
            ],
            [
             0.1,
             "#c51b7d"
            ],
            [
             0.2,
             "#de77ae"
            ],
            [
             0.3,
             "#f1b6da"
            ],
            [
             0.4,
             "#fde0ef"
            ],
            [
             0.5,
             "#f7f7f7"
            ],
            [
             0.6,
             "#e6f5d0"
            ],
            [
             0.7,
             "#b8e186"
            ],
            [
             0.8,
             "#7fbc41"
            ],
            [
             0.9,
             "#4d9221"
            ],
            [
             1,
             "#276419"
            ]
           ],
           "sequential": [
            [
             0,
             "#0d0887"
            ],
            [
             0.1111111111111111,
             "#46039f"
            ],
            [
             0.2222222222222222,
             "#7201a8"
            ],
            [
             0.3333333333333333,
             "#9c179e"
            ],
            [
             0.4444444444444444,
             "#bd3786"
            ],
            [
             0.5555555555555556,
             "#d8576b"
            ],
            [
             0.6666666666666666,
             "#ed7953"
            ],
            [
             0.7777777777777778,
             "#fb9f3a"
            ],
            [
             0.8888888888888888,
             "#fdca26"
            ],
            [
             1,
             "#f0f921"
            ]
           ],
           "sequentialminus": [
            [
             0,
             "#0d0887"
            ],
            [
             0.1111111111111111,
             "#46039f"
            ],
            [
             0.2222222222222222,
             "#7201a8"
            ],
            [
             0.3333333333333333,
             "#9c179e"
            ],
            [
             0.4444444444444444,
             "#bd3786"
            ],
            [
             0.5555555555555556,
             "#d8576b"
            ],
            [
             0.6666666666666666,
             "#ed7953"
            ],
            [
             0.7777777777777778,
             "#fb9f3a"
            ],
            [
             0.8888888888888888,
             "#fdca26"
            ],
            [
             1,
             "#f0f921"
            ]
           ]
          },
          "colorway": [
           "#636efa",
           "#EF553B",
           "#00cc96",
           "#ab63fa",
           "#FFA15A",
           "#19d3f3",
           "#FF6692",
           "#B6E880",
           "#FF97FF",
           "#FECB52"
          ],
          "font": {
           "color": "#2a3f5f"
          },
          "geo": {
           "bgcolor": "white",
           "lakecolor": "white",
           "landcolor": "#E5ECF6",
           "showlakes": true,
           "showland": true,
           "subunitcolor": "white"
          },
          "hoverlabel": {
           "align": "left"
          },
          "hovermode": "closest",
          "mapbox": {
           "style": "light"
          },
          "paper_bgcolor": "white",
          "plot_bgcolor": "#E5ECF6",
          "polar": {
           "angularaxis": {
            "gridcolor": "white",
            "linecolor": "white",
            "ticks": ""
           },
           "bgcolor": "#E5ECF6",
           "radialaxis": {
            "gridcolor": "white",
            "linecolor": "white",
            "ticks": ""
           }
          },
          "scene": {
           "xaxis": {
            "backgroundcolor": "#E5ECF6",
            "gridcolor": "white",
            "gridwidth": 2,
            "linecolor": "white",
            "showbackground": true,
            "ticks": "",
            "zerolinecolor": "white"
           },
           "yaxis": {
            "backgroundcolor": "#E5ECF6",
            "gridcolor": "white",
            "gridwidth": 2,
            "linecolor": "white",
            "showbackground": true,
            "ticks": "",
            "zerolinecolor": "white"
           },
           "zaxis": {
            "backgroundcolor": "#E5ECF6",
            "gridcolor": "white",
            "gridwidth": 2,
            "linecolor": "white",
            "showbackground": true,
            "ticks": "",
            "zerolinecolor": "white"
           }
          },
          "shapedefaults": {
           "line": {
            "color": "#2a3f5f"
           }
          },
          "ternary": {
           "aaxis": {
            "gridcolor": "white",
            "linecolor": "white",
            "ticks": ""
           },
           "baxis": {
            "gridcolor": "white",
            "linecolor": "white",
            "ticks": ""
           },
           "bgcolor": "#E5ECF6",
           "caxis": {
            "gridcolor": "white",
            "linecolor": "white",
            "ticks": ""
           }
          },
          "title": {
           "x": 0.05
          },
          "xaxis": {
           "automargin": true,
           "gridcolor": "white",
           "linecolor": "white",
           "ticks": "",
           "title": {
            "standoff": 15
           },
           "zerolinecolor": "white",
           "zerolinewidth": 2
          },
          "yaxis": {
           "automargin": true,
           "gridcolor": "white",
           "linecolor": "white",
           "ticks": "",
           "title": {
            "standoff": 15
           },
           "zerolinecolor": "white",
           "zerolinewidth": 2
          }
         }
        },
        "width": 800
       }
      }
     },
     "metadata": {},
     "output_type": "display_data"
    }
   ],
   "source": [
    "import plotly.express as px\n",
    "import pandas as pd\n",
    "\n",
    "# Read the dataset\n",
    "restaurants_df = pd.read_csv(\"restaurants_with_geolocation.csv\")\n",
    "apartments_df = pd.read_csv(\"apartments_with_geolocation.csv\")\n",
    "\n",
    "# Define a dictionary to map restaurant types to colors\n",
    "restaurant_color_map = {\n",
    "    'Bar and restaurant': 'orange',\n",
    "    'Fast Food restaurant': 'blue',\n",
    "    'Pizza restaurant': 'green',\n",
    "    'Tex-Mex resaurant': 'red',\n",
    "    'café': 'purple',\n",
    "    'German restaurant': 'yellow',\n",
    "    'french restaurant': 'cyan',\n",
    "    'Chicken restaurant': 'magenta',\n",
    "    'Hamburger restaurant': 'lime',\n",
    "    'Indian restaurant': 'pink',\n",
    "    'Restaurant': 'brown',\n",
    "    'American restaurant': 'teal',\n",
    "    'wine bar': 'lavender',\n",
    "    'Bar and Grill': 'olive',\n",
    "    'Mediterranean restaurant': 'skyblue',\n",
    "    'Chinese restaurant': 'gold',\n",
    "    'soul food restaurant': 'indigo',\n",
    "    'Mexican restaurant': 'violet',\n",
    "    'Cajun  restaurant': 'lightcoral',\n",
    "    'Asian restaurant': 'darkorange',\n",
    "    'Sandwich shop': 'lightgreen',\n",
    "    'Europen restaurant': 'peru',\n",
    "    'Mangolian barbecue restaurant': 'rosybrown',\n",
    "    'Tex-Mex chain restaurant': 'lightsteelblue',\n",
    "    'Ramen restaurant': 'tan',\n",
    "    'Malaysian restaurant': 'lightpink',\n",
    "    'Sandwich Shop': 'darkkhaki',\n",
    "    'Corndog Shop': 'darkslategray'\n",
    "}\n",
    "\n",
    "# Define a color for apartments\n",
    "apartment_color = 'blue'  # Choose any color you prefer\n",
    "\n",
    "# Map restaurant types to colors using the dictionary\n",
    "restaurants_df['Color'] = restaurants_df['TYPE'].map(restaurant_color_map)\n",
    "\n",
    "# Define constant size value for both restaurants and apartments\n",
    "size_value = 1.5\n",
    "\n",
    "# Add the size column to the restaurants DataFrame\n",
    "restaurants_df['Size'] = size_value\n",
    "\n",
    "# Add the size column to the apartments DataFrame\n",
    "apartments_df['Size'] = size_value\n",
    "\n",
    "# Create the scatter plot for restaurants\n",
    "fig1 = px.scatter_mapbox(restaurants_df, \n",
    "                         lat=\"LATITUDE\", \n",
    "                         lon=\"LONGITUDE\", \n",
    "                         hover_name=\"ADDRESS\", \n",
    "                         hover_data=[\"ADDRESS\", \"RESTAURANT NAME\", \"TYPE\"],\n",
    "                         color=restaurants_df[\"TYPE\"],  # Use the new column for color mapping\n",
    "                         color_discrete_map=restaurant_color_map,  # Specify the color map\n",
    "                         size = restaurants_df['Size'],\n",
    "                         zoom=8, \n",
    "                         height=800,\n",
    "                         width=800)\n",
    "\n",
    "# Create the scatter plot for apartments\n",
    "fig2 = px.scatter_mapbox(apartments_df, \n",
    "                         lat=\"LATITUDE\", \n",
    "                         lon=\"LONGITUDE\", \n",
    "                         hover_name=\"Apartment name\", \n",
    "                         hover_data=[\"Apartment name\"],\n",
    "                         color_discrete_sequence=[apartment_color],  # Use the specified color for apartments\n",
    "                         size = apartments_df['Size'],\n",
    "                         zoom=8,\n",
    "                         height=800,\n",
    "                         width=800)\n",
    "\n",
    "# Add traces from fig2 to fig1\n",
    "for trace in fig2.data:\n",
    "    fig1.add_trace(trace)\n",
    "\n",
    "# Show the combined figure\n",
    "fig1.update_layout(mapbox_style=\"open-street-map\")\n",
    "fig1.update_layout(margin={\"r\":0,\"t\":0,\"l\":0,\"b\":0})\n",
    "fig1.show()\n"
   ]
  },
  {
   "cell_type": "code",
   "execution_count": null,
   "metadata": {},
   "outputs": [],
   "source": []
  }
 ],
 "metadata": {
  "kernelspec": {
   "display_name": "Python 3",
   "language": "python",
   "name": "python3"
  },
  "language_info": {
   "codemirror_mode": {
    "name": "ipython",
    "version": 3
   },
   "file_extension": ".py",
   "mimetype": "text/x-python",
   "name": "python",
   "nbconvert_exporter": "python",
   "pygments_lexer": "ipython3",
   "version": "3.11.9"
  }
 },
 "nbformat": 4,
 "nbformat_minor": 2
}
