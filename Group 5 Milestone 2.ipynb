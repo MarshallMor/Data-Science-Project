{
 "cells": [
  {
   "cell_type": "markdown",
   "metadata": {},
   "source": [
    "# Milestone 2\n",
    "\n",
    "#### Data Clean"
   ]
  },
  {
   "cell_type": "code",
   "execution_count": 6,
   "metadata": {},
   "outputs": [],
   "source": [
    "#Marshall\n",
    "import numpy as np\n",
    "import pandas as pd\n",
    "\n",
    "#Graphing\n",
    "import matplotlib.pyplot as plt\n",
    "import seaborn as sns\n",
    "\n",
    "#Machine learning \n",
    "from scipy.stats import linregress\n",
    "from sklearn.linear_model import LinearRegression\n",
    "import statsmodels.api as sm"
   ]
  },
  {
   "cell_type": "code",
   "execution_count": 7,
   "metadata": {},
   "outputs": [
    {
     "name": "stdout",
     "output_type": "stream",
     "text": [
      "<class 'pandas.core.frame.DataFrame'>\n",
      "RangeIndex: 57 entries, 0 to 56\n",
      "Data columns (total 12 columns):\n",
      " #   Column             Non-Null Count  Dtype  \n",
      "---  ------             --------------  -----  \n",
      " 0   RESTAURANT NAME    57 non-null     object \n",
      " 1   DISTANCE FROM WSU  57 non-null     float64\n",
      " 2   ADDRESS            57 non-null     object \n",
      " 3   MONDAY             56 non-null     object \n",
      " 4   TUESDAY            56 non-null     object \n",
      " 5   WEDNESDAY          56 non-null     object \n",
      " 6   THURSDAY           56 non-null     object \n",
      " 7   FRIDAY             56 non-null     object \n",
      " 8   SATURDAY           56 non-null     object \n",
      " 9   SUNDAY             56 non-null     object \n",
      " 10  TYPE               57 non-null     object \n",
      " 11  Ratings            0 non-null      float64\n",
      "dtypes: float64(2), object(10)\n",
      "memory usage: 5.5+ KB\n"
     ]
    }
   ],
   "source": [
    "#Cleaning from Milestone 1\n",
    "restaurants = pd.read_excel('restaurants.xlsx', sheet_name = 'RESTAURANTS NEAR WSU')\n",
    "houses = pd.read_excel('Independent Houses.xlsx', sheet_name = 'independent houses near wsu')\n",
    "restaurants.info()\n",
    "restaurants.shape\n",
    "#remove = El papa pollo restaurant(closed perminantly), Albero café\t(temp_closed), Dragon express\t(temporialy closed), Clouds bar & lounge\t(perminaly closed), Pam's wings with things (perminaly closed), Himali Eats\t(perminaly closed),\n",
    "remove_restraunts =[\"El papa pollo restaurant\", \"Albero café\", \"Dragon express\", \"Clouds bar & lounge\", \"Pam's wings with things\", \"Himali Eats\"]\n",
    "restaurants = restaurants[~restaurants['RESTAURANT NAME'].isin(remove_restraunts)]\n",
    "#remove rating column and will add new column in next step\n",
    "restaurants = restaurants.drop(\"Ratings\", axis =1)\n",
    "#Add New columns to the data for the analysis\n",
    "restaurants['RATINGS_OUTOF5'] = [4.4,3.7,4.2,4.2, 4.3, 4.2, 4.6, 4.4, 4.7, 4.1, 3.8, 4.6, 4.3, 3.2, 4.7, 4.2, 4.5, 4.5, 5.0, 4.4, 4.6, 4.5, 4.3, 4.5, 4.3, 4.1, 4.7, 3.5, 3.6, 3.5, 3.4, 4.1, 4.5, 4.7, 3.9, 4.2, 3.0, 4.0, 3.8, 4.3, 4.6, 4.6, 4.4, 4.5, 4.2, 4.4, 4.5, 4.0, 4.6, 3.7, 4.3]\n",
    "restaurants['NUM_REVIEWS'] = [260,1291, 18, 704, 291, 285, 1293, 1172, 1575, 661, 1909, 1895, 702, 1700, 580, 504, 843, 394, 97, 9, 67, 14, 17, 187, 893, 30, 88, 309, 16, 1057, 428, 172, 1087, 95, 208, 1398, 737, 225, 689, 1274, 544, 888, 228, 916, 1293, 2383, 1881, 1342, 731, 726, 247]\n",
    "restaurants['MIN_COST'] = [10, 1,  np.nan, 10 ,10, 1, 10, 10, 50, 1, 10, 10, 10, 1, 10, 10, 20, 10, 10, 10, 10, np.nan, 1, 10, 10, np.nan, 10, 10, np.nan, 10, 1, 10, 10, 10, 10, 1, 1, 10, np.nan, 10, 10, np.nan, np.nan, 10, 10, 10, 20, 10, 10, 10, 10]\n",
    "restaurants['MAX_COST'] = [20, 10, np.nan, 20, 20, 10, 20, 20, 100, 10, 20, 20, 20, 10, 20, 20, 30, 20, 20, 20, 20, np.nan, 10, 20, 20, np.nan, 20, 20, np.nan, 20, 10, 20, 20, 20, 20, 10, 10, 20, np.nan, 20, 20, np.nan, np.nan, 20, 20, 20, 30, 20, 20, 20, 20]\n",
    "restaurants['ON_CAMPUS'] = [True, False, True, True, False, True, False, False, False, False, False, False, False, False, False, False, False, False, False, True, False, False, True, False, False, False, False, False, False, False, False, False, False, False, False, False, False, False, False, False, False, False, False, False, False, False, False, False, False, False, False]\n",
    "# Add new data\n",
    "#\"RESTAURANT NAME\" : , \"DISTANCE FROM WSU\":  ,\t\"ADDRESS\" : ,\t\"MONDAY\" : ,\t\"TUESDAY\": ,\t\"WEDNESDAY\" : ,\t\"THURSDAY\" : ,\t\"FRIDAY\" : ,\t\"SATURDAY\" : ,\t\"SUNDAY\" : ,\t\"TYPE\" :  ,\t\"RATINGS_OUTOF5\" : ,\t\"NUM_REVIEWS\" : ,\t\"MIN_COST\" : ,\t\"MAX_COST\" : ,\t\"ON_CAMPUS\" :\n",
    "new_data = [ {\"RESTAURANT NAME\" : \"Jersey Mike's Subs\", \"DISTANCE FROM WSU\":  0.03,\t\"ADDRESS\" : \"4521 E 21st St N Suite 101, Wichita, KS 67208\",\t\"MONDAY\" : \"10AM-9PM\",\t\"TUESDAY\": \"10AM-9PM\",\t\"WEDNESDAY\" : \"10AM-9PM\",\t\"THURSDAY\" : \"10AM-9PM\",\t\"FRIDAY\" : \"10AM-9PM\",\t\"SATURDAY\" : \"10AM-9PM\",\t\"SUNDAY\" : \"10AM-9PM\",\t\"TYPE\" : \"Sandwich Shop\" ,\t\"RATINGS_OUTOF5\" : 4.2,\t\"NUM_REVIEWS\" : 30,\t\"MIN_COST\" : 10,\t\"MAX_COST\" : 20,\t\"ON_CAMPUS\" : True },\n",
    "            {\"RESTAURANT NAME\" : \"Two Hands Corn Dogs\", \"DISTANCE FROM WSU\":  .03,\t\"ADDRESS\" : \"4510 E 19th St N Suite 106, Wichita, KS 67208\",\t\"MONDAY\" : \"11AM-9PM\",\t\"TUESDAY\": \"11AM-9PM\",\t\"WEDNESDAY\" : \"11AM-9PM\",\t\"THURSDAY\" : \"11AM-9PM\",\t\"FRIDAY\" : \"11AM-9PM\",\t\"SATURDAY\" : \"11AM-9PM\",\t\"SUNDAY\" : \"11AM-9PM\",\t\"TYPE\" :  \"Corndog Shop\",\t\"RATINGS_OUTOF5\" : 4.6,\t\"NUM_REVIEWS\" : 65,\t\"MIN_COST\" : 10,\t\"MAX_COST\" : 20,\t\"ON_CAMPUS\" : True}\n",
    "             ]\n",
    "restaurants = restaurants._append(new_data, ignore_index =True)\n",
    "# Get the spans of time\n",
    "restaurants_array = restaurants[['MONDAY', 'TUESDAY',\t'WEDNESDAY',\t'THURSDAY',\t'FRIDAY',\t'SATURDAY',\t'SUNDAY']].T.values\n",
    "restaurants_array = restaurants_array.flatten()\n",
    "list_of_unique = pd.unique(restaurants_array)\n",
    "list_of_unique = [str(s).replace('\\u202f', '') if isinstance(s, str) else s for s in list_of_unique]\n",
    "spans = {'11AM-11PM': 12.0, '6AM-11PM': 17.0, '11AM-10PM': 11.0, '10:30AM-10:30PM': 12.0, '6:30AM-10PM': 15.50, '4PM-10PM': 6.0, '10:30AM-10PM': 11.5, '4AM-11PM': 19.0, '8AM-2AM': 18.0, '10:30AM-9PM': 10.5, '11AM-8PM': 9.0,\n",
    "         '11AM-3PM': 4.0, '10AM-7PM': 9.0, '11AM–2:30PM': 3.50, '11AM-9PM': 10.0, '7AM-9PM': 14.0, '7AM-12PM': 5.0, '10AM-10PM': 12.0, '9AM-10PM': 13.0, '3PM-9PM': 6.0, '10:45AM-10:30PM': 11.75, '5PM-10PM': 5.0, '10AM-9PM': 11.0,\n",
    "         '11AM–2:30PM, 5–9PM': 4.0, '5AM-11PM': 18.0, '4PM-8PM': 4.0, '3PM-10PM': 7.0, '11AM–3PM, 4–8PM': 4.0, '6AM-10PM': 16.0, '9AM-7PM': 10.0, '10:30AM-9:30PM': 11, '10:30AM-11PM': 12.5, '12AM-11:59PM': 11.99, '11AM-12AM': 13.0,\n",
    "         '11AM–2:30PM, 5–10PM': 5.0, '10AM-5PM': 7.0, '11AM-10:30PM': 11.50, '11AM-1PM': 2.0, '3PM-11PM': 8.0, '5PM-11PM': 6.0, '7AM-11PM': 16.0, '9AM-2PM,5-9PM': 5.0, '4PM-11PM': 7.0, '10AM-11PM': 13.0, '9AM-9PM': 12.0,\n",
    "         '9AM-2PM': 5.0, '7AM-10PM': 15.0, '10AM-3PM': 5.0, '12PM-5PM': 5.0, '9AM-8PM': 11.0, '12PM-10PM': 10.0, np.nan: 0.0, '0': 0.0, 'Null' : 0.0}\n",
    "\n",
    "#['MONDAY', 'TUESDAY',\t'WEDNESDAY',\t'THURSDAY',\t'FRIDAY',\t'SATURDAY',\t'SUNDAY']\n",
    "restaurants['Hours_Monday'] = restaurants['MONDAY'].map(spans)\n",
    "restaurants['Hours_Tuesday'] = restaurants['TUESDAY'].map(spans)\n",
    "restaurants['Hours_Wednesday'] = restaurants['WEDNESDAY'].map(spans)\n",
    "restaurants['Hours_Thursday'] = restaurants['THURSDAY'].map(spans)\n",
    "restaurants['Hours_Friday'] = restaurants['FRIDAY'].map(spans)\n",
    "restaurants['Hours_Saturday'] = restaurants['SATURDAY'].map(spans)\n",
    "restaurants['Hours_Sunday'] = restaurants['SUNDAY'].map(spans)\n",
    "specific_columns = ['Hours_Monday', 'Hours_Tuesday', 'Hours_Wednesday', 'Hours_Thursday', 'Hours_Friday', 'Hours_Saturday', 'Hours_Sunday']\n",
    "restaurants['TotalHours'] = restaurants[specific_columns].sum(axis=1)\n"
   ]
  },
  {
   "cell_type": "markdown",
   "metadata": {},
   "source": [
    "#### Adding latitude and longitude"
   ]
  },
  {
   "cell_type": "code",
   "execution_count": 8,
   "metadata": {},
   "outputs": [
    {
     "ename": "ModuleNotFoundError",
     "evalue": "No module named 'geopy'",
     "output_type": "error",
     "traceback": [
      "\u001b[1;31m---------------------------------------------------------------------------\u001b[0m",
      "\u001b[1;31mModuleNotFoundError\u001b[0m                       Traceback (most recent call last)",
      "Cell \u001b[1;32mIn[8], line 2\u001b[0m\n\u001b[0;32m      1\u001b[0m \u001b[38;5;66;03m# importing geopy library and Nominatim class\u001b[39;00m\n\u001b[1;32m----> 2\u001b[0m \u001b[38;5;28;01mfrom\u001b[39;00m \u001b[38;5;21;01mgeopy\u001b[39;00m\u001b[38;5;21;01m.\u001b[39;00m\u001b[38;5;21;01mgeocoders\u001b[39;00m \u001b[38;5;28;01mimport\u001b[39;00m Nominatim\n\u001b[0;32m      4\u001b[0m \u001b[38;5;66;03m# calling the Nominatim tool and create Nominatim class\u001b[39;00m\n\u001b[0;32m      5\u001b[0m loc \u001b[38;5;241m=\u001b[39m Nominatim(user_agent\u001b[38;5;241m=\u001b[39m\u001b[38;5;124m\"\u001b[39m\u001b[38;5;124mGeopy Library\u001b[39m\u001b[38;5;124m\"\u001b[39m)\n",
      "\u001b[1;31mModuleNotFoundError\u001b[0m: No module named 'geopy'"
     ]
    }
   ],
   "source": [
    "# importing geopy library and Nominatim class\n",
    "from geopy.geocoders import Nominatim\n",
    "# calling the Nominatim tool and create Nominatim class\n",
    "loc = Nominatim(user_agent=\"Geopy Library\")\n",
    "\n",
    "# entering the location name\n",
    "getLoc = loc.geocode(\"İzmir\")\n",
    "\n",
    "# printing address\n",
    "print(getLoc.address)\n",
    "\n",
    "# printing latitude and longitude\n",
    "print(\"Latitude = \", getLoc.latitude, \"\\n\")\n",
    "print(\"Longitude = \", getLoc.longitude)"
   ]
  },
  {
   "cell_type": "markdown",
   "metadata": {},
   "source": [
    "#### K-nearest neighbor"
   ]
  },
  {
   "cell_type": "code",
   "execution_count": null,
   "metadata": {},
   "outputs": [],
   "source": []
  },
  {
   "cell_type": "markdown",
   "metadata": {},
   "source": [
    "#### Data Visualization"
   ]
  },
  {
   "cell_type": "code",
   "execution_count": 4,
   "metadata": {},
   "outputs": [
    {
     "ename": "ModuleNotFoundError",
     "evalue": "No module named 'plotly'",
     "output_type": "error",
     "traceback": [
      "\u001b[1;31m---------------------------------------------------------------------------\u001b[0m",
      "\u001b[1;31mModuleNotFoundError\u001b[0m                       Traceback (most recent call last)",
      "Cell \u001b[1;32mIn[4], line 1\u001b[0m\n\u001b[1;32m----> 1\u001b[0m \u001b[38;5;28;01mimport\u001b[39;00m \u001b[38;5;21;01mplotly\u001b[39;00m\u001b[38;5;21;01m.\u001b[39;00m\u001b[38;5;21;01mexpress\u001b[39;00m \u001b[38;5;28;01mas\u001b[39;00m \u001b[38;5;21;01mpx\u001b[39;00m\n\u001b[0;32m      2\u001b[0m fig \u001b[38;5;241m=\u001b[39m px\u001b[38;5;241m.\u001b[39mbar(x\u001b[38;5;241m=\u001b[39m[\u001b[38;5;124m\"\u001b[39m\u001b[38;5;124ma\u001b[39m\u001b[38;5;124m\"\u001b[39m, \u001b[38;5;124m\"\u001b[39m\u001b[38;5;124mb\u001b[39m\u001b[38;5;124m\"\u001b[39m, \u001b[38;5;124m\"\u001b[39m\u001b[38;5;124mc\u001b[39m\u001b[38;5;124m\"\u001b[39m], y\u001b[38;5;241m=\u001b[39m[\u001b[38;5;241m1\u001b[39m, \u001b[38;5;241m3\u001b[39m, \u001b[38;5;241m2\u001b[39m])\n\u001b[0;32m      3\u001b[0m fig\u001b[38;5;241m.\u001b[39mshow()\n",
      "\u001b[1;31mModuleNotFoundError\u001b[0m: No module named 'plotly'"
     ]
    }
   ],
   "source": [
    "import plotly.express as px\n",
    "fig = px.bar(x=[\"a\", \"b\", \"c\"], y=[1, 3, 2])\n",
    "fig.show()"
   ]
  },
  {
   "cell_type": "code",
   "execution_count": null,
   "metadata": {},
   "outputs": [],
   "source": [
    "import plotly.express as px\n",
    "import pandas as pd\n",
    "\n",
    "df = pd.read_csv(\"dataset/dataset.csv\")\n",
    "\n",
    "df.dropna(\n",
    "    axis=0,\n",
    "    how='any',\n",
    "    thresh=None,\n",
    "    subset=None,\n",
    "    inplace=True\n",
    ")\n",
    "\n",
    "color_scale = [(0, 'orange'), (1,'red')]\n",
    "\n",
    "fig = px.scatter_mapbox(df, \n",
    "                        lat=\"Lat\", \n",
    "                        lon=\"Long\", \n",
    "                        hover_name=\"Address\", \n",
    "                        hover_data=[\"Address\", \"Listed\"],\n",
    "                        color=\"Listed\",\n",
    "                        color_continuous_scale=color_scale,\n",
    "                        size=\"Listed\",\n",
    "                        zoom=8, \n",
    "                        height=800,\n",
    "                        width=800)\n",
    "\n",
    "fig.update_layout(mapbox_style=\"open-street-map\")\n",
    "fig.update_layout(margin={\"r\":0,\"t\":0,\"l\":0,\"b\":0})\n",
    "fig.show()"
   ]
  }
 ],
 "metadata": {
  "kernelspec": {
   "display_name": "Python 3",
   "language": "python",
   "name": "python3"
  },
  "language_info": {
   "codemirror_mode": {
    "name": "ipython",
    "version": 3
   },
   "file_extension": ".py",
   "mimetype": "text/x-python",
   "name": "python",
   "nbconvert_exporter": "python",
   "pygments_lexer": "ipython3",
   "version": "3.11.9"
  }
 },
 "nbformat": 4,
 "nbformat_minor": 2
}
